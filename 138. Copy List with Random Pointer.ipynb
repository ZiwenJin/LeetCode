{
 "cells": [
  {
   "cell_type": "markdown",
   "metadata": {},
   "source": [
    "- Medium\n",
    "- use copy.deepcopy()\n",
    "- 第一次遍历把所有node的值存在dict内, 第二次遍历更新next和random属性"
   ]
  },
  {
   "cell_type": "code",
   "execution_count": null,
   "metadata": {
    "collapsed": true
   },
   "outputs": [],
   "source": [
    "# Definition for singly-linked list with a random pointer.\n",
    "# class RandomListNode(object):\n",
    "#     def __init__(self, x):\n",
    "#         self.label = x\n",
    "#         self.next = None\n",
    "#         self.random = None\n",
    "\n",
    "import copy\n",
    "\n",
    "class Solution(object):\n",
    "    def copyRandomList(self, head):\n",
    "        \"\"\"\n",
    "        :type head: RandomListNode\n",
    "        :rtype: RandomListNode\n",
    "        \"\"\"\n",
    "        # return copy.deepcopy(head)\n",
    "        \n",
    "        node_dict = dict()\n",
    "        \n",
    "        cur = head\n",
    "        while cur:\n",
    "            node_dict[cur] = RandomListNode(cur.label)\n",
    "            cur = cur.next\n",
    "            \n",
    "        cur = head\n",
    "        while cur:\n",
    "            node_dict[cur].next = node_dict.get(cur.next)\n",
    "            node_dict[cur].random = node_dict.get(cur.random)\n",
    "            cur = cur.next\n",
    "            \n",
    "        return node_dict.get(head)"
   ]
  }
 ],
 "metadata": {
  "kernelspec": {
   "display_name": "Python [default]",
   "language": "python",
   "name": "python3"
  },
  "language_info": {
   "codemirror_mode": {
    "name": "ipython",
    "version": 3
   },
   "file_extension": ".py",
   "mimetype": "text/x-python",
   "name": "python",
   "nbconvert_exporter": "python",
   "pygments_lexer": "ipython3",
   "version": "3.5.2"
  }
 },
 "nbformat": 4,
 "nbformat_minor": 2
}
