{
 "cells": [
  {
   "cell_type": "markdown",
   "metadata": {},
   "source": [
    "- Easy\n",
    "- recursion需要每次传进去prev和cur, 因为要另cur.next = prev\n",
    "- iteration也是每次记录prev和cur"
   ]
  },
  {
   "cell_type": "code",
   "execution_count": null,
   "metadata": {
    "collapsed": true
   },
   "outputs": [],
   "source": [
    "# Definition for singly-linked list.\n",
    "# class ListNode(object):\n",
    "#     def __init__(self, x):\n",
    "#         self.val = x\n",
    "#         self.next = None\n",
    "\n",
    "class Solution(object):\n",
    "    def reverseList(self, head):\n",
    "        \"\"\"\n",
    "        :type head: ListNode\n",
    "        :rtype: ListNode\n",
    "        \"\"\"\n",
    "        def recursive(prev, cur):\n",
    "            if cur.next is None:\n",
    "                cur.next = prev\n",
    "                return cur\n",
    "            \n",
    "            nxt = cur.next\n",
    "            cur.next = prev\n",
    "            return recursive(cur, nxt)\n",
    "            \n",
    "        # recursively\n",
    "        if head is None:\n",
    "            return None\n",
    "        return recursive(None, head)\n",
    "        \n",
    "        \n",
    "        # iteratively\n",
    "        cur = head\n",
    "        prev = None\n",
    "        while cur:\n",
    "            prev, cur.next, cur = cur, prev, cur.next \n",
    "        return prev"
   ]
  }
 ],
 "metadata": {
  "kernelspec": {
   "display_name": "Python [default]",
   "language": "python",
   "name": "python3"
  },
  "language_info": {
   "codemirror_mode": {
    "name": "ipython",
    "version": 3
   },
   "file_extension": ".py",
   "mimetype": "text/x-python",
   "name": "python",
   "nbconvert_exporter": "python",
   "pygments_lexer": "ipython3",
   "version": "3.5.2"
  }
 },
 "nbformat": 4,
 "nbformat_minor": 2
}
