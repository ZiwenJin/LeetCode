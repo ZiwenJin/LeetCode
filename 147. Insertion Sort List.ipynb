{
 "cells": [
  {
   "cell_type": "markdown",
   "metadata": {
    "deletable": true,
    "editable": true
   },
   "source": [
    "- Medium\n",
    "- 1. 存成list\n",
    "- 2. 每次循环时把当前node从头开始找合适的位置, 注释部分 (TLE)\n",
    "- 3. 当前node大于其前面一位时, 直接放最后"
   ]
  },
  {
   "cell_type": "code",
   "execution_count": null,
   "metadata": {
    "collapsed": true,
    "deletable": true,
    "editable": true
   },
   "outputs": [],
   "source": [
    "# Definition for singly-linked list.\n",
    "# class ListNode(object):\n",
    "#     def __init__(self, x):\n",
    "#         self.val = x\n",
    "#         self.next = None\n",
    "\n",
    "class Solution(object):\n",
    "    def insertionSortList(self, head):\n",
    "        \"\"\"\n",
    "        :type head: ListNode\n",
    "        :rtype: ListNode\n",
    "        \"\"\"\n",
    "        if not head:\n",
    "            return None\n",
    "        \n",
    "        dummy = ListNode('-1')\n",
    "        dummy.next = head\n",
    "        \n",
    "        prev = head\n",
    "        cur = head.next\n",
    "        head.next = None\n",
    "        while cur:\n",
    "            nxt = cur.next\n",
    "            if cur.val < prev.val:\n",
    "                start = dummy\n",
    "                while start.next and cur.val > start.next.val:\n",
    "                    start = start.next\n",
    "                start.next, cur.next = cur, start.next\n",
    "            else:\n",
    "                prev.next, cur.next = cur, prev.next\n",
    "                prev = cur\n",
    "            cur = nxt\n",
    "            \n",
    "        return dummy.next\n",
    "        \n",
    "        \n",
    "#         # TLE\n",
    "#         dummy = ListNode('-1')\n",
    "        \n",
    "#         prev = dummy\n",
    "#         cur = head\n",
    "#         while cur:\n",
    "#             if cur.val < prev.val:\n",
    "#                 nxt = cur.next\n",
    "#                 start = dummy\n",
    "#                 while start.next and cur.val > start.next.val:\n",
    "#                     start = start.next\n",
    "#                 start.next, cur.next = cur, start.next\n",
    "#             prev = cur\n",
    "#             cur = nxt\n",
    "            \n",
    "#         return dummy.next"
   ]
  }
 ],
 "metadata": {
  "kernelspec": {
   "display_name": "Python [default]",
   "language": "python",
   "name": "python3"
  },
  "language_info": {
   "codemirror_mode": {
    "name": "ipython",
    "version": 3
   },
   "file_extension": ".py",
   "mimetype": "text/x-python",
   "name": "python",
   "nbconvert_exporter": "python",
   "pygments_lexer": "ipython3",
   "version": "3.5.2"
  }
 },
 "nbformat": 4,
 "nbformat_minor": 2
}
