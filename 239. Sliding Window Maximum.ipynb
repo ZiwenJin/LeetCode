{
 "cells": [
  {
   "cell_type": "markdown",
   "metadata": {},
   "source": [
    "- Hard"
   ]
  },
  {
   "cell_type": "markdown",
   "metadata": {},
   "source": [
    "- dynamic programming\n",
    "- 若把nums按k分成若干个blocks, 则对于任意index i,\n",
    "> 1. 若位于block start, 则结果即为该block中的最大值\n",
    "> 2. 反之, 其结果应该是 1). 该block中自其往右的最大值, 和 2). 下个block自i+k-1往左的最大值, 中的最大值\n",
    "> 3. 所以可以提前用两个lists, l2r和r2l, 分别记录每个block从左往右和从右往左的最大值"
   ]
  },
  {
   "cell_type": "code",
   "execution_count": 6,
   "metadata": {},
   "outputs": [],
   "source": [
    "class Solution:\n",
    "    def maxSlidingWindow(self, nums: List[int], k: int) -> List[int]:\n",
    "        n = len(nums)\n",
    "        if n == 0 or k == 0:\n",
    "            return []\n",
    "        \n",
    "        # l2r/r2l记录每个block从左往右/从右往左的最大值\n",
    "        l2r, r2l = [0] * n, [0] * n\n",
    "        l2r[0], r2l[-1] = nums[0], nums[-1]\n",
    "        for i in range(1, n):\n",
    "            # left to right\n",
    "            if i % k == 0:  # block start\n",
    "                l2r[i] = nums[i]\n",
    "            else:\n",
    "                l2r[i] = max(l2r[i-1], nums[i])\n",
    "            # right to left\n",
    "            j = n - 1 - i\n",
    "            if (j + 1) % k == 0:  # block end\n",
    "                r2l[j] = nums[j]\n",
    "            else:\n",
    "                r2l[j] = max(r2l[j+1], nums[j])\n",
    "                \n",
    "        ans = [0] * (n - k + 1)\n",
    "        for i in range(n - k + 1):\n",
    "            ans[i] = max(l2r[i+k-1], r2l[i])\n",
    "        return ans"
   ]
  },
  {
   "cell_type": "markdown",
   "metadata": {},
   "source": [
    "- 最直观的解法\n",
    "- TC=O(kN)"
   ]
  },
  {
   "cell_type": "code",
   "execution_count": null,
   "metadata": {},
   "outputs": [],
   "source": [
    "class Solution:\n",
    "    def maxSlidingWindow(self, nums: List[int], k: int) -> List[int]:\n",
    "        N = len(nums)\n",
    "        if N == 0 or k == 0:\n",
    "            return []\n",
    "        \n",
    "        return [max(nums[i:i+k]) for i in range(N - k + 1)]"
   ]
  }
 ],
 "metadata": {
  "kernelspec": {
   "display_name": "Python 3",
   "language": "python",
   "name": "python3"
  },
  "language_info": {
   "codemirror_mode": {
    "name": "ipython",
    "version": 3
   },
   "file_extension": ".py",
   "mimetype": "text/x-python",
   "name": "python",
   "nbconvert_exporter": "python",
   "pygments_lexer": "ipython3",
   "version": "3.7.5"
  }
 },
 "nbformat": 4,
 "nbformat_minor": 2
}
