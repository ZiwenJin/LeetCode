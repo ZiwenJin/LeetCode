{
 "cells": [
  {
   "cell_type": "markdown",
   "metadata": {},
   "source": [
    "- Hard\n",
    "- 改写merge-sort\n",
    "- 主要是merge的时候先看left和right有多少IRP"
   ]
  },
  {
   "cell_type": "code",
   "execution_count": null,
   "metadata": {},
   "outputs": [],
   "source": [
    "class Solution:\n",
    "    def reversePairs(self, nums) -> int:\n",
    "        def merge(nums1, nums2, already_irp_cnt):\n",
    "            # 算IRP的数量\n",
    "            i, j = 0, 0\n",
    "            for i in range(len(nums1)):\n",
    "                while j < len(nums2) and nums1[i] > 2*nums2[j]:\n",
    "                    j += 1\n",
    "                already_irp_cnt += j\n",
    "            \n",
    "            # merge\n",
    "            nums = []\n",
    "            i, j = 0, 0\n",
    "            while i < len(nums1) and j < len(nums2):\n",
    "                if nums1[i] <= nums2[j]:\n",
    "                    nums.append(nums1[i])\n",
    "                    i += 1\n",
    "                else:\n",
    "                    nums.append(nums2[j])\n",
    "                    j += 1\n",
    "            return nums + nums1[i:] + nums2[j:], already_irp_cnt\n",
    "            \n",
    "            \n",
    "        def recursive(subnums, irp_cnt):\n",
    "            if len(subnums) <= 1:\n",
    "                return subnums, 0\n",
    "            left_nums = subnums[:len(subnums)//2]\n",
    "            right_nums = subnums[len(subnums)//2:]\n",
    "            left_nums_sorted, left_irp_cnt = recursive(left_nums, 0)\n",
    "            right_nums_sorted, right_irp_cnt = recursive(right_nums, 0)\n",
    "            return merge(left_nums_sorted, right_nums_sorted, left_irp_cnt+right_irp_cnt)\n",
    "        \n",
    "        return recursive(nums, 0)[1]"
   ]
  }
 ],
 "metadata": {
  "kernelspec": {
   "display_name": "Python 3",
   "language": "python",
   "name": "python3"
  },
  "language_info": {
   "codemirror_mode": {
    "name": "ipython",
    "version": 3
   },
   "file_extension": ".py",
   "mimetype": "text/x-python",
   "name": "python",
   "nbconvert_exporter": "python",
   "pygments_lexer": "ipython3",
   "version": "3.5.2"
  }
 },
 "nbformat": 4,
 "nbformat_minor": 2
}
