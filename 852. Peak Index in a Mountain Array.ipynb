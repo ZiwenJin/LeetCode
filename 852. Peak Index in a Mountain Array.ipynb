{
 "cells": [
  {
   "cell_type": "markdown",
   "metadata": {},
   "source": [
    "- Easy\n",
    "- Solution 1: linear scan, TC=O(N)\n",
    "- Solution 2: binary search, TC=O(logN)\n",
    "- 两个optimized solutions利用定义和假设条件简化了判断"
   ]
  },
  {
   "cell_type": "code",
   "execution_count": null,
   "metadata": {},
   "outputs": [],
   "source": [
    "class Solution:\n",
    "    def peakIndexInMountainArray(self, A: List[int]) -> int:\n",
    "        # Solution 2.5: binary search (optimized)\n",
    "        l, r = 1, len(A) - 2\n",
    "        while l < r:\n",
    "            m = (l + r) // 2\n",
    "            if A[m] > A[m-1] and A[m] > A[m+1]:\n",
    "                return m\n",
    "            if A[m] < A[m+1]:\n",
    "                l = m + 1\n",
    "            else:\n",
    "                r = m\n",
    "        return l\n",
    "        \n",
    "        # # Solution 2: binary search\n",
    "        # l, r = 1, len(A) - 1\n",
    "        # while l <= r:\n",
    "        #     m = (l + r) // 2\n",
    "        #     if A[m] > A[m-1] and A[m] > A[m+1]:\n",
    "        #         return m\n",
    "        #     elif A[m] <= A[m-1]:\n",
    "        #         r = m - 1\n",
    "        #     else:\n",
    "        #         l = m + 1\n",
    "        # return -1\n",
    "        \n",
    "        # # Solution 1.5: scan (optimized)\n",
    "        # for i in range(1, len(A)-1):\n",
    "        #     if A[i] > A[i+1]:\n",
    "        #         return i\n",
    "        # return -1      \n",
    "        \n",
    "        # # Solution 1: scan\n",
    "        # for i in range(1, len(A)-1):\n",
    "        #     if A[i] > A[i-1] and A[i] > A[i+1]:\n",
    "        #         return i\n",
    "        # return -1"
   ]
  }
 ],
 "metadata": {
  "kernelspec": {
   "display_name": "Python 3",
   "language": "python",
   "name": "python3"
  },
  "language_info": {
   "codemirror_mode": {
    "name": "ipython",
    "version": 3
   },
   "file_extension": ".py",
   "mimetype": "text/x-python",
   "name": "python",
   "nbconvert_exporter": "python",
   "pygments_lexer": "ipython3",
   "version": "3.7.5"
  }
 },
 "nbformat": 4,
 "nbformat_minor": 2
}
