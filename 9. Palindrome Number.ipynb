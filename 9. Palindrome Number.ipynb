{
 "cells": [
  {
   "cell_type": "markdown",
   "metadata": {},
   "source": [
    "- Easy"
   ]
  },
  {
   "cell_type": "markdown",
   "metadata": {},
   "source": [
    "- 只需判断后半部分反转后是否和前半部分相同 (其实考虑整个反转也不好, 有可能overflow)\n",
    "- 判断反转了一半的标准就是剩余的x没有reversed_last_half大了\n",
    "- 当有奇数位时, reversed_last_half会多一位, 最后判断是注意下"
   ]
  },
  {
   "cell_type": "code",
   "execution_count": null,
   "metadata": {},
   "outputs": [],
   "source": [
    "class Solution:\n",
    "    def isPalindrome(self, x: int) -> bool:\n",
    "        if (x < 0) or (x != 0 and x % 10 == 0):\n",
    "            return False\n",
    "        \n",
    "        reversed_last_half = 0\n",
    "        while x > reversed_last_half:\n",
    "            reversed_last_half = 10 * reversed_last_half + x % 10\n",
    "            x //= 10\n",
    "        return (x == reversed_last_half) or (x == reversed_last_half // 10)"
   ]
  },
  {
   "cell_type": "markdown",
   "metadata": {},
   "source": [
    "- 先算出, log10, x是10的几次方\n",
    "- 然后用双指针遍历判断\n",
    "- TC=O(log10(x)), 且每个digit有较多的数学运算"
   ]
  },
  {
   "cell_type": "code",
   "execution_count": null,
   "metadata": {},
   "outputs": [],
   "source": [
    "import math\n",
    "\n",
    "class Solution:\n",
    "    def isPalindrome(self, x: int) -> bool:\n",
    "        # get the digit of a specific index\n",
    "        def get_digit(i, num):\n",
    "            return (num // (10 ** i)) % 10\n",
    "            \n",
    "        # base cases\n",
    "        if x < 0:\n",
    "            return False\n",
    "        if x < 10:\n",
    "            return True\n",
    "        \n",
    "        powers = math.floor(math.log10(x))\n",
    "        # two pointers\n",
    "        for i in range((powers + 1) // 2):\n",
    "            right = get_digit(i, x)\n",
    "            left = get_digit(powers - i, x)\n",
    "            if right != left:\n",
    "                return False\n",
    "        return True"
   ]
  }
 ],
 "metadata": {
  "kernelspec": {
   "display_name": "Python 3",
   "language": "python",
   "name": "python3"
  },
  "language_info": {
   "codemirror_mode": {
    "name": "ipython",
    "version": 3
   },
   "file_extension": ".py",
   "mimetype": "text/x-python",
   "name": "python",
   "nbconvert_exporter": "python",
   "pygments_lexer": "ipython3",
   "version": "3.7.5"
  }
 },
 "nbformat": 4,
 "nbformat_minor": 2
}
