{
 "cells": [
  {
   "cell_type": "markdown",
   "metadata": {},
   "source": [
    "- Medium\n",
    "- 常规的backtracking"
   ]
  },
  {
   "cell_type": "code",
   "execution_count": null,
   "metadata": {},
   "outputs": [],
   "source": [
    "class Solution:\n",
    "    def combinationSum3(self, k: int, n: int) -> List[List[int]]:\n",
    "        def backtrack(tmp, rest, start):\n",
    "            if (rest == 0) and (len(tmp) == k):  # base case: 长度和求和都得满足\n",
    "                ans.append(tmp)\n",
    "            else:\n",
    "                for i in range(start, 10):\n",
    "                    if i > rest:  # pruning\n",
    "                        break\n",
    "                    backtrack(tmp+[i], rest-i, i+1)\n",
    "        \n",
    "        ans = []\n",
    "        backtrack([], n, 1)\n",
    "        return ans"
   ]
  }
 ],
 "metadata": {
  "kernelspec": {
   "display_name": "Python 3",
   "language": "python",
   "name": "python3"
  },
  "language_info": {
   "codemirror_mode": {
    "name": "ipython",
    "version": 3
   },
   "file_extension": ".py",
   "mimetype": "text/x-python",
   "name": "python",
   "nbconvert_exporter": "python",
   "pygments_lexer": "ipython3",
   "version": "3.7.5"
  }
 },
 "nbformat": 4,
 "nbformat_minor": 2
}
