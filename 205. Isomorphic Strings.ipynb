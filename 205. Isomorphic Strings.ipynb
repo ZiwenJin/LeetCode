{
 "cells": [
  {
   "cell_type": "markdown",
   "metadata": {},
   "source": [
    "- Easy\n",
    "- 用dict记录映射关系\n",
    "- 双向都要检查"
   ]
  },
  {
   "cell_type": "code",
   "execution_count": null,
   "metadata": {},
   "outputs": [],
   "source": [
    "class Solution:\n",
    "    def isIsomorphic(self, s: str, t: str) -> bool:\n",
    "        def is_projection(s1, s2):\n",
    "            l1, l2 = len(s1), len(s2)\n",
    "            if l1 != l2:\n",
    "                return False\n",
    "            maps = dict()\n",
    "            for i in range(l1):\n",
    "                if s1[i] not in maps:\n",
    "                    maps[s1[i]] = s2[i]\n",
    "                else:\n",
    "                    if maps[s1[i]] != s2[i]:\n",
    "                        return False\n",
    "            return True\n",
    "        \n",
    "        return is_projection(s, t) and is_projection(t, s)"
   ]
  }
 ],
 "metadata": {
  "kernelspec": {
   "display_name": "Python 3",
   "language": "python",
   "name": "python3"
  },
  "language_info": {
   "codemirror_mode": {
    "name": "ipython",
    "version": 3
   },
   "file_extension": ".py",
   "mimetype": "text/x-python",
   "name": "python",
   "nbconvert_exporter": "python",
   "pygments_lexer": "ipython3",
   "version": "3.7.5"
  }
 },
 "nbformat": 4,
 "nbformat_minor": 2
}
