{
 "cells": [
  {
   "cell_type": "markdown",
   "metadata": {},
   "source": [
    "- Easy\n",
    "- 先用Counter计数; 然后算所有数的gcd; 一旦为1则返回False"
   ]
  },
  {
   "cell_type": "code",
   "execution_count": null,
   "metadata": {},
   "outputs": [],
   "source": [
    "import collections\n",
    "import math\n",
    "\n",
    "class Solution:\n",
    "    def hasGroupsSizeX(self, deck):\n",
    "        if deck is None or len(deck) <= 1:\n",
    "            return False\n",
    "        \n",
    "        cnts = list(collections.Counter(deck).values())\n",
    "        gcd = cnts[0]\n",
    "        for c in cnts[1:]:\n",
    "            gcd = math.gcd(gcd, c)\n",
    "            if gcd == 1:\n",
    "                return False\n",
    "        return True"
   ]
  }
 ],
 "metadata": {
  "kernelspec": {
   "display_name": "Python 3",
   "language": "python",
   "name": "python3"
  },
  "language_info": {
   "codemirror_mode": {
    "name": "ipython",
    "version": 3
   },
   "file_extension": ".py",
   "mimetype": "text/x-python",
   "name": "python",
   "nbconvert_exporter": "python",
   "pygments_lexer": "ipython3",
   "version": "3.7.5"
  }
 },
 "nbformat": 4,
 "nbformat_minor": 2
}
