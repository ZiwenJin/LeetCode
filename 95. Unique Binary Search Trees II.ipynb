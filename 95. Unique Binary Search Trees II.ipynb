{
 "cells": [
  {
   "cell_type": "markdown",
   "metadata": {},
   "source": [
    "- Medium\n",
    "- DP + recursive. memory用来记录任意(start, end)的结果\n",
    "- 会先把subproblem先算出来, 并存进memory, 缩短运行时间"
   ]
  },
  {
   "cell_type": "code",
   "execution_count": null,
   "metadata": {},
   "outputs": [],
   "source": [
    "# Definition for a binary tree node.\n",
    "# class TreeNode:\n",
    "#     def __init__(self, x):\n",
    "#         self.val = x\n",
    "#         self.left = None\n",
    "#         self.right = None\n",
    "\n",
    "class Solution:\n",
    "    def generateTrees(self, n: int) -> List[TreeNode]:\n",
    "        def helper(memory, start, end):\n",
    "            if start > end:\n",
    "                return [None]\n",
    "            if (start, end) in memory:\n",
    "                return memory[(start, end)]\n",
    "            memory[(start, end)] = []\n",
    "            for i in range(start, end+1):\n",
    "                for left in helper(memory, start, i-1):\n",
    "                    for right in helper(memory, i+1, end):\n",
    "                        node = TreeNode(i)\n",
    "                        node.left, node.right = left, right\n",
    "                        memory[(start, end)].append(node)\n",
    "            return memory[(start, end)]\n",
    "        \n",
    "        \n",
    "        if n == 0:\n",
    "            return []\n",
    "        return helper({}, 1, n)"
   ]
  }
 ],
 "metadata": {
  "kernelspec": {
   "display_name": "Python 3",
   "language": "python",
   "name": "python3"
  },
  "language_info": {
   "codemirror_mode": {
    "name": "ipython",
    "version": 3
   },
   "file_extension": ".py",
   "mimetype": "text/x-python",
   "name": "python",
   "nbconvert_exporter": "python",
   "pygments_lexer": "ipython3",
   "version": "3.5.2"
  }
 },
 "nbformat": 4,
 "nbformat_minor": 2
}
