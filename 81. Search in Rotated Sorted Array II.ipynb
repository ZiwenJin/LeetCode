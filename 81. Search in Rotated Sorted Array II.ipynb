{
 "cells": [
  {
   "cell_type": "markdown",
   "metadata": {
    "collapsed": false,
    "deletable": true,
    "editable": true
   },
   "source": [
    "- Medium\n",
    "- 有duplications后, 需要注意[3 1 2 3 3 3 3].\n",
    "- 1). 如果m, l, h对应的三位都相等, 那把l和h分别向m移一位;\n",
    "- 2). 只要m != l且它们对应数字相同, 就l += 1\n",
    "- 通过任一种方法, 都能进入和Search in Rotated Sorted Array (no duplications) 一样的情境"
   ]
  },
  {
   "cell_type": "code",
   "execution_count": null,
   "metadata": {
    "collapsed": true,
    "deletable": true,
    "editable": true
   },
   "outputs": [],
   "source": [
    "class Solution(object):\n",
    "    def search(self, nums, target):\n",
    "        \"\"\"\n",
    "        :type nums: List[int]\n",
    "        :type target: int\n",
    "        :rtype: bool\n",
    "        \"\"\"\n",
    "        if not nums:\n",
    "            return False\n",
    "        \n",
    "        l, h = 0, len(nums) - 1\n",
    "        while l < h:\n",
    "            m = (l + h) // 2\n",
    "            if nums[m] == target:\n",
    "                return True\n",
    "            \n",
    "            # if nums[m] == nums[l] == nums[h]:\n",
    "            #     l += 1\n",
    "            #     h -= 1\n",
    "            #     continue\n",
    "            \n",
    "            while m != l and nums[m] == nums[l]:\n",
    "                l += 1\n",
    "            \n",
    "            if nums[m] >= nums[l]:\n",
    "                    if nums[l] <= target < nums[m]:\n",
    "                        h = m - 1\n",
    "                    else:\n",
    "                        l = m + 1\n",
    "            else:\n",
    "                if nums[m] < target <= nums[h]:\n",
    "                    l = m + 1\n",
    "                else:\n",
    "                    h = m - 1\n",
    "        return nums[l] == target"
   ]
  }
 ],
 "metadata": {
  "kernelspec": {
   "display_name": "Python [default]",
   "language": "python",
   "name": "python3"
  },
  "language_info": {
   "codemirror_mode": {
    "name": "ipython",
    "version": 3
   },
   "file_extension": ".py",
   "mimetype": "text/x-python",
   "name": "python",
   "nbconvert_exporter": "python",
   "pygments_lexer": "ipython3",
   "version": "3.5.2"
  }
 },
 "nbformat": 4,
 "nbformat_minor": 2
}
