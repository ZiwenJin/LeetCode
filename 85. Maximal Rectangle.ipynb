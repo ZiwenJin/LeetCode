{
 "cells": [
  {
   "cell_type": "markdown",
   "metadata": {},
   "source": [
    "- Hard"
   ]
  },
  {
   "cell_type": "markdown",
   "metadata": {},
   "source": [
    "- bruteforce\n",
    "- TC=O(N*M*N*M*N), 5个嵌套循环, 最后一个是any()\n",
    "- Runtime: 2388 ms, faster than 8.64%"
   ]
  },
  {
   "cell_type": "code",
   "execution_count": 29,
   "metadata": {},
   "outputs": [],
   "source": [
    "class Solution:\n",
    "    def maximalRectangle(self, matrix) -> int:\n",
    "        # 计算以(i,j)为左上角的最大矩阵\n",
    "        def max_rect_pos(i, j):\n",
    "            cur = 1\n",
    "            # i2负责竖向, 即高度\n",
    "            for i2 in range(i, N):\n",
    "                if matrix[i2][j] == '0':\n",
    "                    break\n",
    "                j2 = j + 1\n",
    "                # j2负责横向, 即宽度\n",
    "                while j2 < M:\n",
    "                    if any([matrix[i3][j2] == '0' for i3 in range(i, i2+1)]):  # 该列只要有一个0就break\n",
    "                        break\n",
    "                    j2 += 1\n",
    "                cur = max(cur, (i2-i+1) * (j2-j))\n",
    "            return cur\n",
    "\n",
    "\n",
    "        if len(matrix) == 0 or len(matrix[0]) == 0:\n",
    "            return 0\n",
    "\n",
    "        N, M = len(matrix), len(matrix[0])\n",
    "        result = 0\n",
    "        for i in range(N):\n",
    "            for j in range(M):\n",
    "                if matrix[i][j] == '1':\n",
    "                    result = max(result, max_rect_pos(i, j))\n",
    "        return result"
   ]
  },
  {
   "cell_type": "code",
   "execution_count": 30,
   "metadata": {
    "scrolled": true
   },
   "outputs": [
    {
     "data": {
      "text/plain": [
       "6"
      ]
     },
     "execution_count": 30,
     "metadata": {},
     "output_type": "execute_result"
    }
   ],
   "source": [
    "matrix = [[\"1\",\"0\",\"1\",\"0\",\"0\"],\n",
    "          [\"1\",\"0\",\"1\",\"1\",\"1\"],\n",
    "          [\"1\",\"1\",\"1\",\"1\",\"1\"],\n",
    "          [\"1\",\"0\",\"0\",\"1\",\"0\"]]\n",
    "s = Solution()\n",
    "s.maximalRectangle(matrix)"
   ]
  },
  {
   "cell_type": "markdown",
   "metadata": {},
   "source": []
  },
  {
   "cell_type": "code",
   "execution_count": null,
   "metadata": {},
   "outputs": [],
   "source": []
  }
 ],
 "metadata": {
  "kernelspec": {
   "display_name": "Python 3",
   "language": "python",
   "name": "python3"
  },
  "language_info": {
   "codemirror_mode": {
    "name": "ipython",
    "version": 3
   },
   "file_extension": ".py",
   "mimetype": "text/x-python",
   "name": "python",
   "nbconvert_exporter": "python",
   "pygments_lexer": "ipython3",
   "version": "3.7.5"
  }
 },
 "nbformat": 4,
 "nbformat_minor": 2
}
