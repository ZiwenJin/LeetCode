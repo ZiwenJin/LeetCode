{
 "cells": [
  {
   "cell_type": "markdown",
   "metadata": {},
   "source": [
    "- Medium\n",
    "- Ugly Number II延伸\n",
    "- 用heap可以O(p*logn), 有空考虑"
   ]
  },
  {
   "cell_type": "code",
   "execution_count": null,
   "metadata": {},
   "outputs": [],
   "source": [
    "class Solution:\n",
    "    def nthSuperUglyNumber(self, n: int, primes: List[int]) -> int:\n",
    "        N = len(primes)\n",
    "        if n < 1 or N == 0:\n",
    "            return -1\n",
    "        if n == 1:\n",
    "            return 1\n",
    "        if N == 1:\n",
    "            return primes[0] ** (n-1)\n",
    "        \n",
    "        # Solution 1: TC: O(2np)=O(np), SC: O(n+p), where p=len(primes)\n",
    "        ans = [1]\n",
    "        idx = [0] * N\n",
    "        for i in range(n-1):  # O(n)\n",
    "            min_v = min([ans[x] * p for x, p in zip(idx, primes)])  # O(p)\n",
    "            ans.append(min_v)\n",
    "            for j in range(N):  # O(p)\n",
    "                if ans[idx[j]] * primes[j] <= min_v:\n",
    "                    idx[j] += 1\n",
    "        return ans[-1]"
   ]
  }
 ],
 "metadata": {
  "kernelspec": {
   "display_name": "Python 3",
   "language": "python",
   "name": "python3"
  },
  "language_info": {
   "codemirror_mode": {
    "name": "ipython",
    "version": 3
   },
   "file_extension": ".py",
   "mimetype": "text/x-python",
   "name": "python",
   "nbconvert_exporter": "python",
   "pygments_lexer": "ipython3",
   "version": "3.7.5"
  }
 },
 "nbformat": 4,
 "nbformat_minor": 2
}
