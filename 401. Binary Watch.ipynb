{
 "cells": [
  {
   "cell_type": "markdown",
   "metadata": {},
   "source": [
    "- Easy\n",
    "- 提前保存bit中1的情况, TC为O(1)\n",
    "- 然后遍历即可"
   ]
  },
  {
   "cell_type": "code",
   "execution_count": 36,
   "metadata": {},
   "outputs": [],
   "source": [
    "class Solution:\n",
    "    def readBinaryWatch(self, num: int):\n",
    "        if num > 8:\n",
    "            return []\n",
    "        \n",
    "        # 对hour和min, 用每个数字对应的bin中1的数量当key\n",
    "        hour_dict = dict()\n",
    "        min_dict = dict()\n",
    "        for h in range(12):\n",
    "            cnt1 = bin(h).count('1')\n",
    "            hour_dict[cnt1] = hour_dict.get(cnt1, []) + [str(h)]\n",
    "        for m in range(60):\n",
    "            cnt1 = bin(m).count('1')\n",
    "            m_str = str(m)\n",
    "            m_str = '0' + m_str if len(m_str) == 1 else m_str\n",
    "            min_dict[cnt1] = min_dict.get(cnt1, []) + [m_str]\n",
    "        \n",
    "        ans = []\n",
    "        for cnt_h in range(min(num+1, 4)):\n",
    "            cnt_m = num - cnt_h\n",
    "            if cnt_m > 5:\n",
    "                continue\n",
    "            hour_list = hour_dict[cnt_h]\n",
    "            min_list = min_dict[cnt_m]\n",
    "            ans += [h+':'+m for h in hour_list for m in min_list]\n",
    "        return ans"
   ]
  },
  {
   "cell_type": "code",
   "execution_count": 37,
   "metadata": {},
   "outputs": [
    {
     "data": {
      "text/plain": [
       "['0:01',\n",
       " '0:02',\n",
       " '0:04',\n",
       " '0:08',\n",
       " '0:16',\n",
       " '0:32',\n",
       " '1:00',\n",
       " '2:00',\n",
       " '4:00',\n",
       " '8:00']"
      ]
     },
     "execution_count": 37,
     "metadata": {},
     "output_type": "execute_result"
    }
   ],
   "source": [
    "s = Solution()\n",
    "s.readBinaryWatch(1)"
   ]
  },
  {
   "cell_type": "code",
   "execution_count": null,
   "metadata": {},
   "outputs": [],
   "source": []
  }
 ],
 "metadata": {
  "kernelspec": {
   "display_name": "Python 3",
   "language": "python",
   "name": "python3"
  },
  "language_info": {
   "codemirror_mode": {
    "name": "ipython",
    "version": 3
   },
   "file_extension": ".py",
   "mimetype": "text/x-python",
   "name": "python",
   "nbconvert_exporter": "python",
   "pygments_lexer": "ipython3",
   "version": "3.7.5"
  }
 },
 "nbformat": 4,
 "nbformat_minor": 2
}
