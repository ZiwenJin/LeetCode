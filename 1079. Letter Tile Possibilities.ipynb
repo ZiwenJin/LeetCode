{
 "cells": [
  {
   "cell_type": "markdown",
   "metadata": {},
   "source": [
    "- Medium\n",
    "- tiles内会有重复的元素, 但是添加时只需考虑一个, 所以用set"
   ]
  },
  {
   "cell_type": "code",
   "execution_count": 16,
   "metadata": {},
   "outputs": [],
   "source": [
    "class Solution:\n",
    "    def numTilePossibilities(self, tiles: str) -> int:\n",
    "        def dfs(rest, ans):\n",
    "            rest_set = set(rest)\n",
    "            for c in rest_set:\n",
    "                ans += 1\n",
    "                rest_copy = rest.copy()\n",
    "                rest_copy.remove(c)\n",
    "                ans = dfs(rest_copy, ans)\n",
    "            return ans\n",
    "        \n",
    "        if tiles is None or len(tiles) == 0:\n",
    "            return 0\n",
    "        return dfs(list(tiles), 0)"
   ]
  },
  {
   "cell_type": "code",
   "execution_count": 17,
   "metadata": {},
   "outputs": [
    {
     "data": {
      "text/plain": [
       "188"
      ]
     },
     "execution_count": 17,
     "metadata": {},
     "output_type": "execute_result"
    }
   ],
   "source": [
    "s = Solution()\n",
    "s.numTilePossibilities('AAABBC')"
   ]
  },
  {
   "cell_type": "code",
   "execution_count": null,
   "metadata": {},
   "outputs": [],
   "source": []
  }
 ],
 "metadata": {
  "kernelspec": {
   "display_name": "Python 3",
   "language": "python",
   "name": "python3"
  },
  "language_info": {
   "codemirror_mode": {
    "name": "ipython",
    "version": 3
   },
   "file_extension": ".py",
   "mimetype": "text/x-python",
   "name": "python",
   "nbconvert_exporter": "python",
   "pygments_lexer": "ipython3",
   "version": "3.7.5"
  }
 },
 "nbformat": 4,
 "nbformat_minor": 2
}
