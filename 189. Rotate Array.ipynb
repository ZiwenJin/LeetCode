{
 "cells": [
  {
   "cell_type": "markdown",
   "metadata": {},
   "source": [
    "- Easy\n",
    "- 重点看Solution 3 & 4"
   ]
  },
  {
   "cell_type": "code",
   "execution_count": null,
   "metadata": {},
   "outputs": [],
   "source": [
    "class Solution:\n",
    "    def rotate(self, nums, k: int) -> None:\n",
    "        \"\"\"\n",
    "        Do not return anything, modify nums in-place instead.\n",
    "        \"\"\"\n",
    "        # Solution 4: cyclic replacements\n",
    "        # 麻烦的地方在于如果k和N有相同的因子 (非1), 则需要若干次cycles\n",
    "        # TC=O(N), SC=O(1)\n",
    "        import math\n",
    "        N = len(nums)\n",
    "        k = k % N\n",
    "        if N == 0 or k == 0:\n",
    "            return nums\n",
    "        lcm = k * N // math.gcd(k, N)\n",
    "        loops = N // (lcm // k)  # lcm // k表示一次cycle可以replace的数量, loops即为需要多少个cycles\n",
    "        for i in range(loops):\n",
    "            prev, cur = nums[i], i\n",
    "            for step in range(lcm // k):\n",
    "                nxt = (cur + k) % N\n",
    "                nums[nxt], prev, cur = prev, nums[nxt], nxt\n",
    "        \n",
    "        # # Solution 3: reverse\n",
    "        # # TC=O(N), SC=O(1)\n",
    "        # def reverse(l, r):\n",
    "        #     while l < r:\n",
    "        #         nums[l], nums[r] = nums[r], nums[l]\n",
    "        #         l += 1\n",
    "        #         r -= 1\n",
    "        # N = len(nums)\n",
    "        # k = k % N\n",
    "        # reverse(0, N-1)  # reverse the whole\n",
    "        # reverse(0, k-1)  # reverse the first k\n",
    "        # reverse(k, N-1)  # reverse the rest\n",
    "        \n",
    "        # # Solution 2: rotate step by step\n",
    "        # # # TC=O(kN), SC=O(1) -> TLE\n",
    "        # def rotate_one_step():\n",
    "        #     prev = nums[-1]\n",
    "        #     for i in range(len(nums)):\n",
    "        #         nums[i], prev = prev, nums[i]\n",
    "        #\n",
    "        # N = len(nums)\n",
    "        # k = k % N\n",
    "        # print(N, k)\n",
    "        # for i in range(k):\n",
    "        #     rotate_one_step()\n",
    "        \n",
    "        # # Solution 1: copy nums\n",
    "        # # TC=O(N), SC=O(N)\n",
    "        # N = len(nums)\n",
    "        # k = k % N\n",
    "        # nums_copy = nums.copy()\n",
    "        # for i in range(N):\n",
    "        #     nums[(i+k)%N] = nums_copy[i]"
   ]
  }
 ],
 "metadata": {
  "kernelspec": {
   "display_name": "Python 3",
   "language": "python",
   "name": "python3"
  },
  "language_info": {
   "codemirror_mode": {
    "name": "ipython",
    "version": 3
   },
   "file_extension": ".py",
   "mimetype": "text/x-python",
   "name": "python",
   "nbconvert_exporter": "python",
   "pygments_lexer": "ipython3",
   "version": "3.7.5"
  }
 },
 "nbformat": 4,
 "nbformat_minor": 2
}
