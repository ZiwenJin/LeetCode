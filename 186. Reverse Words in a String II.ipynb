{
 "cells": [
  {
   "cell_type": "markdown",
   "metadata": {},
   "source": [
    "- Medium\n",
    "\n",
    "- 先reverse整个, 再reverse each word"
   ]
  },
  {
   "cell_type": "code",
   "execution_count": 1,
   "metadata": {},
   "outputs": [],
   "source": [
    "class Solution:\n",
    "    def reverseWords(self, s) -> None:\n",
    "        \"\"\"\n",
    "        Do not return anything, modify s in-place instead.\n",
    "        \"\"\"\n",
    "        def reverse_interval(start, end):\n",
    "            # 用while更直观\n",
    "            while start < end:\n",
    "                s[start], s[end] = s[end], s[start]\n",
    "                start += 1\n",
    "                end -= 1\n",
    "            \n",
    "#             length = end - start\n",
    "#             for i in range(length // 2):\n",
    "#                 l = start + i\n",
    "#                 r = end - 1 - i\n",
    "#                 s[l], s[r] = s[r], s[l]\n",
    "        \n",
    "        N = len(s)\n",
    "        reverse_interval(0, N-1)\n",
    "        \n",
    "        spaces = [-1]\n",
    "        for i in range(N):\n",
    "            if s[i] == ' ':\n",
    "                spaces.append(i)\n",
    "        spaces.append(N)\n",
    "        \n",
    "        for w_s, w_e in zip(spaces, spaces[1:]):\n",
    "            reverse_interval(w_s+1, w_e-1)\n",
    "        \n",
    "        return s"
   ]
  },
  {
   "cell_type": "code",
   "execution_count": 2,
   "metadata": {},
   "outputs": [
    {
     "name": "stdout",
     "output_type": "stream",
     "text": [
      "4591483632\n",
      "4591483632 ['b', 'l', 'u', 'e', ' ', 'i', 's', ' ', 's', 'k', 'y', ' ', 't', 'h', 'e']\n"
     ]
    }
   ],
   "source": [
    "s = Solution()\n",
    "i = [\"t\",\"h\",\"e\",\" \",\"s\",\"k\",\"y\",\" \",\"i\",\"s\",\" \",\"b\",\"l\",\"u\",\"e\"]\n",
    "print(id(i))\n",
    "print(id(s.reverseWords(i)), i)"
   ]
  }
 ],
 "metadata": {
  "kernelspec": {
   "display_name": "Python 3",
   "language": "python",
   "name": "python3"
  },
  "language_info": {
   "codemirror_mode": {
    "name": "ipython",
    "version": 3
   },
   "file_extension": ".py",
   "mimetype": "text/x-python",
   "name": "python",
   "nbconvert_exporter": "python",
   "pygments_lexer": "ipython3",
   "version": "3.7.5"
  }
 },
 "nbformat": 4,
 "nbformat_minor": 2
}
