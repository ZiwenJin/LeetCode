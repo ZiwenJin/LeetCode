{
 "cells": [
  {
   "cell_type": "markdown",
   "metadata": {},
   "source": [
    "- Hard\n",
    "- [123. Best Time to Buy and Sell Stock III](http://localhost:8888/notebooks/LeetCode/123.%20Best%20Time%20to%20Buy%20and%20Sell%20Stock%20III.ipynb)的扩展\n",
    "- 注意如果k >= len(prices) / 2, 那就是[122. Best Time to Buy and Sell Stock II](http://localhost:8888/notebooks/LeetCode/122.%20Best%20Time%20to%20Buy%20and%20Sell%20Stock%20II.ipynb)"
   ]
  },
  {
   "cell_type": "code",
   "execution_count": null,
   "metadata": {},
   "outputs": [],
   "source": [
    "class Solution:\n",
    "    def maxProfit(self, k: int, prices: List[int]) -> int:\n",
    "        if not prices or len(prices) < 2 or k == 0:\n",
    "            return 0\n",
    "        \n",
    "        if k >= len(prices) / 2:\n",
    "            return sum(y - x for y, x in zip(prices[1:], prices[:-1]) if y > x)\n",
    "        \n",
    "        import sys\n",
    "        bought = [-sys.maxsize] * k\n",
    "        sold = [0] * k\n",
    "        for p in prices:\n",
    "            bought[0] = max(bought[0], -p)\n",
    "            sold[0] = max(sold[0], bought[0] + p)\n",
    "            for t in range(1, k):\n",
    "                bought[t] = max(bought[t], sold[t-1] - p)\n",
    "                sold[t] = max(sold[t], bought[t] + p)\n",
    "        return sold[-1]"
   ]
  }
 ],
 "metadata": {
  "kernelspec": {
   "display_name": "Python 3",
   "language": "python",
   "name": "python3"
  },
  "language_info": {
   "codemirror_mode": {
    "name": "ipython",
    "version": 3
   },
   "file_extension": ".py",
   "mimetype": "text/x-python",
   "name": "python",
   "nbconvert_exporter": "python",
   "pygments_lexer": "ipython3",
   "version": "3.5.2"
  }
 },
 "nbformat": 4,
 "nbformat_minor": 2
}
