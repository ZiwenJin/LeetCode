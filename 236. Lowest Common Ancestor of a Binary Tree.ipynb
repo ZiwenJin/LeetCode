{
 "cells": [
  {
   "cell_type": "markdown",
   "metadata": {},
   "source": [
    "- Medium"
   ]
  },
  {
   "cell_type": "markdown",
   "metadata": {},
   "source": [
    "- 用backtracking找两个点的path, 然后比较"
   ]
  },
  {
   "cell_type": "code",
   "execution_count": null,
   "metadata": {},
   "outputs": [],
   "source": [
    "# Definition for a binary tree node.\n",
    "# class TreeNode:\n",
    "#     def __init__(self, x):\n",
    "#         self.val = x\n",
    "#         self.left = None\n",
    "#         self.right = None\n",
    "\n",
    "class Solution:\n",
    "    def lowestCommonAncestor(self, root: 'TreeNode', p: 'TreeNode', q: 'TreeNode') -> 'TreeNode':\n",
    "        def find_path(cur, target, path):\n",
    "            if cur is None:\n",
    "                return False\n",
    "            \n",
    "            path.append(cur)\n",
    "            if cur.val == target.val:\n",
    "                return True\n",
    "            for child in [cur.left, cur.right]:\n",
    "                if find_path(child, target, path):\n",
    "                    return True\n",
    "            path.pop()\n",
    "            return False\n",
    "        \n",
    "        path_p, path_q = [], []\n",
    "        find_path(root, p, path_p)\n",
    "        find_path(root, q, path_q)\n",
    "        for i, (v1, v2) in enumerate(zip(path_p, path_q)):\n",
    "            if v1.val != v2.val:\n",
    "                break\n",
    "        else:\n",
    "            i += 1  # no break means one node is the other's ancestor\n",
    "        return path_p[i-1]"
   ]
  },
  {
   "cell_type": "markdown",
   "metadata": {},
   "source": [
    "- dfs\n",
    "- 可以分成两种情况\n",
    "> 1. p是q的ancestor, 那在p的时候返回p, 其子节点其实都没看 (包括q), 然后对于p的父节点, 由于另一边都只能返回None, 所以到root返回的都是p\n",
    "> 2. 非情况1, 则在p和q会返回本身, 一直往上直到他们的LCA的left, right都非None, 所以返回该LCA, 再往上由于另一边只能返回None, 所以到root返回的还是这LCA"
   ]
  },
  {
   "cell_type": "code",
   "execution_count": null,
   "metadata": {},
   "outputs": [],
   "source": [
    "# Definition for a binary tree node.\n",
    "# class TreeNode:\n",
    "#     def __init__(self, x):\n",
    "#         self.val = x\n",
    "#         self.left = None\n",
    "#         self.right = None\n",
    "\n",
    "class Solution:\n",
    "    def lowestCommonAncestor(self, root: 'TreeNode', p: 'TreeNode', q: 'TreeNode') -> 'TreeNode':\n",
    "        if root is None:\n",
    "            return None\n",
    "        if root == p or root == q:\n",
    "            return root\n",
    "        left = self.lowestCommonAncestor(root.left, p, q)\n",
    "        right = self.lowestCommonAncestor(root.right, p, q)\n",
    "        if left and right:\n",
    "            return root\n",
    "        if left:\n",
    "            return left\n",
    "        if right:\n",
    "            return right"
   ]
  }
 ],
 "metadata": {
  "kernelspec": {
   "display_name": "Python 3",
   "language": "python",
   "name": "python3"
  },
  "language_info": {
   "codemirror_mode": {
    "name": "ipython",
    "version": 3
   },
   "file_extension": ".py",
   "mimetype": "text/x-python",
   "name": "python",
   "nbconvert_exporter": "python",
   "pygments_lexer": "ipython3",
   "version": "3.7.5"
  }
 },
 "nbformat": 4,
 "nbformat_minor": 2
}
