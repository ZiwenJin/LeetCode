{
 "cells": [
  {
   "cell_type": "markdown",
   "metadata": {},
   "source": [
    "- Easy\n",
    "- 1.) 暴力解, O(N^2)\n",
    "- 2.) 用dict计数"
   ]
  },
  {
   "cell_type": "code",
   "execution_count": null,
   "metadata": {
    "collapsed": true
   },
   "outputs": [],
   "source": [
    "class Solution(object):\n",
    "    def intersect(self, nums1, nums2):\n",
    "        \"\"\"\n",
    "        :type nums1: List[int]\n",
    "        :type nums2: List[int]\n",
    "        :rtype: List[int]\n",
    "        \"\"\"\n",
    "        res = []\n",
    "        dic = dict()\n",
    "        for n in nums1:\n",
    "            dic[n] = dic[n] + 1 if n in dic else 1\n",
    "        \n",
    "        for n in nums2:\n",
    "            if n in dic and dic[n] > 0:\n",
    "                dic[n] -= 1\n",
    "                res.append(n)\n",
    "        return res\n",
    "        \n",
    "        # res = []\n",
    "        # for n in nums1:\n",
    "        #     if n in nums2:\n",
    "        #         res.append(n)\n",
    "        #         nums2.remove(n)\n",
    "        # return res"
   ]
  }
 ],
 "metadata": {
  "kernelspec": {
   "display_name": "Python [default]",
   "language": "python",
   "name": "python3"
  },
  "language_info": {
   "codemirror_mode": {
    "name": "ipython",
    "version": 3
   },
   "file_extension": ".py",
   "mimetype": "text/x-python",
   "name": "python",
   "nbconvert_exporter": "python",
   "pygments_lexer": "ipython3",
   "version": "3.5.2"
  }
 },
 "nbformat": 4,
 "nbformat_minor": 2
}
