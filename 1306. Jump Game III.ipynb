{
 "cells": [
  {
   "cell_type": "markdown",
   "metadata": {},
   "source": [
    "- Medium\n",
    "- Recursion, 利用所有元素均为non-negative的特性\n",
    "> 1. start不在范围内, 或元素为负 -> False\n",
    "> 2. start位为0 -> True\n",
    "> 3. start位为positive -> 转成负的, 表示来过了, 然后看i + arr[i]和i - arr[i]的情况"
   ]
  },
  {
   "cell_type": "code",
   "execution_count": null,
   "metadata": {},
   "outputs": [],
   "source": [
    "class Solution:\n",
    "    def canReach(self, arr: List[int], start: int) -> bool:\n",
    "        if start < 0 or start >= len(arr) or arr[start] < 0:  # index out of range, or visited index\n",
    "            return False\n",
    "        elif arr[start] == 0:  # found!\n",
    "            return True\n",
    "        else:  # reaching here means arr[start] is positive\n",
    "            arr[start] = -abs(arr[start])  # converting to negative to indicate it has been visited\n",
    "            return self.canReach(arr, start+arr[start]) or self.canReach(arr, start-arr[start])  # do recursion"
   ]
  }
 ],
 "metadata": {
  "kernelspec": {
   "display_name": "Python 3",
   "language": "python",
   "name": "python3"
  },
  "language_info": {
   "codemirror_mode": {
    "name": "ipython",
    "version": 3
   },
   "file_extension": ".py",
   "mimetype": "text/x-python",
   "name": "python",
   "nbconvert_exporter": "python",
   "pygments_lexer": "ipython3",
   "version": "3.7.5"
  }
 },
 "nbformat": 4,
 "nbformat_minor": 2
}
