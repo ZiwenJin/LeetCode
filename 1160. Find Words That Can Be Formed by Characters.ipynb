{
 "cells": [
  {
   "cell_type": "markdown",
   "metadata": {},
   "source": [
    "- Easy\n",
    "- 用Counter统计频数\n",
    "- 遍历每个word, 看是否符合要求"
   ]
  },
  {
   "cell_type": "code",
   "execution_count": null,
   "metadata": {},
   "outputs": [],
   "source": [
    "from collections import Counter\n",
    "\n",
    "class Solution:\n",
    "    def countCharacters(self, words: List[str], chars: str) -> int:\n",
    "        def is_good(word, pools):\n",
    "            word = Counter(word)\n",
    "            for char, cnt in word.items():\n",
    "                if (char not in pools) or (cnt > pools[char]):\n",
    "                    return False\n",
    "            return True\n",
    "        \n",
    "        pools = Counter(chars)\n",
    "        ans = 0\n",
    "        for w in words:\n",
    "            ans += len(w) if is_good(w, pools) else 0\n",
    "        return ans"
   ]
  }
 ],
 "metadata": {
  "kernelspec": {
   "display_name": "Python 3",
   "language": "python",
   "name": "python3"
  },
  "language_info": {
   "codemirror_mode": {
    "name": "ipython",
    "version": 3
   },
   "file_extension": ".py",
   "mimetype": "text/x-python",
   "name": "python",
   "nbconvert_exporter": "python",
   "pygments_lexer": "ipython3",
   "version": "3.7.5"
  }
 },
 "nbformat": 4,
 "nbformat_minor": 2
}
