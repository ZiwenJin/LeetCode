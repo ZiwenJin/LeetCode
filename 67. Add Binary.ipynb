{
 "cells": [
  {
   "cell_type": "markdown",
   "metadata": {},
   "source": [
    "- Easy"
   ]
  },
  {
   "cell_type": "markdown",
   "metadata": {},
   "source": [
    "- 不使用add, 单纯做bit manipulation\n",
    "- x ^ y是不带carry的和\n",
    "- x & y是有carry的bit, 右移1位表示进位\n",
    "- 再把这两个相加 (循环), 直到没有carry"
   ]
  },
  {
   "cell_type": "code",
   "execution_count": null,
   "metadata": {},
   "outputs": [],
   "source": [
    "class Solution:\n",
    "    def addBinary(self, a: str, b: str) -> str:\n",
    "        x, y = int(a, 2), int(b, 2)\n",
    "        while y:\n",
    "            x, y = x ^ y, (x & y) << 1\n",
    "        return '{:b}'.format(x)"
   ]
  },
  {
   "cell_type": "markdown",
   "metadata": {},
   "source": [
    "- 用str.zfill\n",
    "- 倒序遍历\n",
    "- 当前结果直接用carry记录"
   ]
  },
  {
   "cell_type": "code",
   "execution_count": null,
   "metadata": {},
   "outputs": [],
   "source": [
    "class Solution:\n",
    "    def addBinary(self, a: str, b: str) -> str:\n",
    "        max_len = max(len(a), len(b))\n",
    "        a = a.zfill(max_len)\n",
    "        b = b.zfill(max_len)\n",
    "        \n",
    "        c = 0\n",
    "        res = []\n",
    "        for i in range(max_len-1, -1, -1):\n",
    "            if a[i] == '1':\n",
    "                c += 1\n",
    "            if b[i] == '1':\n",
    "                c += 1\n",
    "            res.append(str(c % 2))\n",
    "            c //= 2\n",
    "            \n",
    "        if c == 1:\n",
    "            res.append('1')\n",
    "        return ''.join(res[::-1])"
   ]
  },
  {
   "cell_type": "markdown",
   "metadata": {},
   "source": [
    "- 朴实无华"
   ]
  },
  {
   "cell_type": "code",
   "execution_count": null,
   "metadata": {},
   "outputs": [],
   "source": [
    "class Solution:\n",
    "    def addBinary(self, a: str, b: str) -> str:\n",
    "        la, lb = len(a), len(b)\n",
    "        if la > lb:\n",
    "            a, b = b, a\n",
    "            la, lb = len(a), len(b)\n",
    "        a, b = a[::-1], b[::-1]\n",
    "        \n",
    "        c = '0'\n",
    "        res = []\n",
    "        for i in range(la):\n",
    "            f, s = a[i], b[i]\n",
    "            if f == s == c == '0':\n",
    "                res.append('0')\n",
    "            elif f == s == c == '1':\n",
    "                res.append('1')\n",
    "            elif f == s == '0' or f == c == '0' or s == c == '0':\n",
    "                res.append('1')\n",
    "                c = '0'\n",
    "            else:\n",
    "                res.append('0')\n",
    "                c = '1'\n",
    "                \n",
    "        for i in range(la, lb):\n",
    "            f = b[i]\n",
    "            if f == c:\n",
    "                res.append('0')\n",
    "            else:\n",
    "                res.append('1')\n",
    "                c = '0'\n",
    "        if c == '1':\n",
    "            res.append(c)\n",
    "        return ''.join(res[::-1])"
   ]
  },
  {
   "cell_type": "code",
   "execution_count": null,
   "metadata": {},
   "outputs": [],
   "source": [
    "s = Solution()\n",
    "s.addBinary(\"1010\", \"1011\")"
   ]
  }
 ],
 "metadata": {
  "kernelspec": {
   "display_name": "Python 3",
   "language": "python",
   "name": "python3"
  },
  "language_info": {
   "codemirror_mode": {
    "name": "ipython",
    "version": 3
   },
   "file_extension": ".py",
   "mimetype": "text/x-python",
   "name": "python",
   "nbconvert_exporter": "python",
   "pygments_lexer": "ipython3",
   "version": "3.7.5"
  }
 },
 "nbformat": 4,
 "nbformat_minor": 2
}
