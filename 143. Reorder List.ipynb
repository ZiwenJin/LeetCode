{
 "cells": [
  {
   "cell_type": "markdown",
   "metadata": {},
   "source": [
    "- Medium\n",
    "- 1. 找中点; 2. reverse后半段; 3. reorder\n",
    "- 注意长度奇或偶"
   ]
  },
  {
   "cell_type": "code",
   "execution_count": null,
   "metadata": {
    "collapsed": false
   },
   "outputs": [],
   "source": [
    "# Definition for singly-linked list.\n",
    "# class ListNode(object):\n",
    "#     def __init__(self, x):\n",
    "#         self.val = x\n",
    "#         self.next = None\n",
    "\n",
    "class Solution(object):\n",
    "    def reorderList(self, head):\n",
    "        \"\"\"\n",
    "        :type head: ListNode\n",
    "        :rtype: void Do not return anything, modify head in-place instead.\n",
    "        \"\"\"\n",
    "        if not head:\n",
    "            return None\n",
    "        \n",
    "        slow = fast = head\n",
    "        while fast and fast.next:\n",
    "            slow = slow.next\n",
    "            fast = fast.next.next\n",
    "            \n",
    "        # # store the last node ahead\n",
    "        # last_node = None\n",
    "        # # if odd length\n",
    "        # if fast:\n",
    "        #     last_node = slow\n",
    "        #     slow = slow.next\n",
    "        #     last_node.next = None\n",
    "        \n",
    "        prev = None\n",
    "        while slow:\n",
    "            prev, slow.next, slow = slow, prev, slow.next\n",
    "            \n",
    "        start = head\n",
    "        while prev:\n",
    "            s_nxt, p_nxt = start.next, prev.next\n",
    "            start.next = prev\n",
    "            if prev != s_nxt:\n",
    "                prev.next = s_nxt\n",
    "            start, prev = s_nxt, p_nxt\n",
    "            "
   ]
  }
 ],
 "metadata": {
  "kernelspec": {
   "display_name": "Python [default]",
   "language": "python",
   "name": "python3"
  },
  "language_info": {
   "codemirror_mode": {
    "name": "ipython",
    "version": 3
   },
   "file_extension": ".py",
   "mimetype": "text/x-python",
   "name": "python",
   "nbconvert_exporter": "python",
   "pygments_lexer": "ipython3",
   "version": "3.5.2"
  }
 },
 "nbformat": 4,
 "nbformat_minor": 2
}
