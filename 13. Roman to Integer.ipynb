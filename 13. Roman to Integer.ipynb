{
 "cells": [
  {
   "cell_type": "markdown",
   "metadata": {},
   "source": [
    "- Easy\n",
    "- 遍历就完了"
   ]
  },
  {
   "cell_type": "code",
   "execution_count": null,
   "metadata": {},
   "outputs": [],
   "source": [
    "class Solution:\n",
    "    def romanToInt(self, s: str) -> int:\n",
    "        if s is None or len(s) == 0:\n",
    "            return 0\n",
    "        \n",
    "        # Solution 2: cur > prev时, 减去2*prev\n",
    "        roman_dict = {'I': 1, 'V': 5, 'X': 10, 'L': 50, 'C': 100, 'D': 500, 'M': 1000}\n",
    "        ans = 0\n",
    "        prev = 0\n",
    "        for c in s:\n",
    "            cur = roman_dict[c]\n",
    "            ans += cur if cur <= prev else cur - 2*prev  # 一个是多加上的, 一个是本该减的\n",
    "            prev = cur\n",
    "        return ans\n",
    "        \n",
    "        \n",
    "        # # Solution 1: 每次判断两位\n",
    "        # ans = 0\n",
    "        # roman_dict = {'I': 1, 'V': 5, 'X': 10, 'L': 50, 'C': 100, 'D': 500, 'M': 1000}\n",
    "        # subtract_dict = {'IV': 1, 'IX': 1, 'XL': 10, 'XC': 10, 'CD': 100, 'CM': 100}  # 需要subtract的情况\n",
    "        # for i in range(len(s)-1):\n",
    "        #     if s[i:i+2] in subtract_dict:\n",
    "        #         ans -= subtract_dict[s[i:i+2]]\n",
    "        #     else:\n",
    "        #         ans += roman_dict[s[i]]\n",
    "        # ans += roman_dict[s[-1]]  # 最后一位没遍历到\n",
    "        # return ans"
   ]
  }
 ],
 "metadata": {
  "kernelspec": {
   "display_name": "Python 3",
   "language": "python",
   "name": "python3"
  },
  "language_info": {
   "codemirror_mode": {
    "name": "ipython",
    "version": 3
   },
   "file_extension": ".py",
   "mimetype": "text/x-python",
   "name": "python",
   "nbconvert_exporter": "python",
   "pygments_lexer": "ipython3",
   "version": "3.7.5"
  }
 },
 "nbformat": 4,
 "nbformat_minor": 2
}
