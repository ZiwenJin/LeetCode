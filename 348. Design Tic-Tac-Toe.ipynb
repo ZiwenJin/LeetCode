{
 "cells": [
  {
   "cell_type": "markdown",
   "metadata": {},
   "source": [
    "- Medium\n",
    "- 直观就是用一个n*n的board记录, 每次move后就判断该move有没有win -> O(4n), each n for checking row, col, dia, anti-dia\n",
    "- 但如果用rows, cols, dia, anti_dia记录, player 1就+1, player 2就-1, 那每次move后就直接判断对应位置的值是否到达n或-n -> O(4)"
   ]
  },
  {
   "cell_type": "code",
   "execution_count": null,
   "metadata": {},
   "outputs": [],
   "source": [
    "class TicTacToe:\n",
    "\n",
    "    def __init__(self, n: int):\n",
    "        \"\"\"\n",
    "        Initialize your data structure here.\n",
    "        \"\"\"\n",
    "        self.rows = [0] * n\n",
    "        self.cols = [0] * n\n",
    "        self.dia, self.anti_dia = 0, 0\n",
    "        self.n = n\n",
    "        \n",
    "\n",
    "    def move(self, row: int, col: int, player: int) -> int:\n",
    "        \"\"\"\n",
    "        Player {player} makes a move at ({row}, {col}).\n",
    "        @param row The row of the board.\n",
    "        @param col The column of the board.\n",
    "        @param player The player, can be either 1 or 2.\n",
    "        @return The current winning condition, can be either:\n",
    "                0: No one wins.\n",
    "                1: Player 1 wins.\n",
    "                2: Player 2 wins.\n",
    "        \"\"\"\n",
    "        val = 1 if player == 1 else -1\n",
    "        self.rows[row] += val\n",
    "        self.cols[col] += val\n",
    "        if row == col:\n",
    "            self.dia += val\n",
    "        if row + col == self.n - 1:\n",
    "            self.anti_dia += val\n",
    "        \n",
    "        win_val = self.n if player == 1 else -self.n  # player 1 and 2 have different win values\n",
    "        \n",
    "        return player if win_val in [self.rows[row], self.cols[col], self.dia, self.anti_dia] else 0\n",
    "\n",
    "\n",
    "# Your TicTacToe object will be instantiated and called as such:\n",
    "# obj = TicTacToe(n)\n",
    "# param_1 = obj.move(row,col,player)"
   ]
  }
 ],
 "metadata": {
  "kernelspec": {
   "display_name": "Python 3",
   "language": "python",
   "name": "python3"
  },
  "language_info": {
   "codemirror_mode": {
    "name": "ipython",
    "version": 3
   },
   "file_extension": ".py",
   "mimetype": "text/x-python",
   "name": "python",
   "nbconvert_exporter": "python",
   "pygments_lexer": "ipython3",
   "version": "3.7.5"
  }
 },
 "nbformat": 4,
 "nbformat_minor": 2
}
