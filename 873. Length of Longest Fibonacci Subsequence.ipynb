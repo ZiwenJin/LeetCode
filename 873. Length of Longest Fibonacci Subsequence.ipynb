{
 "cells": [
  {
   "cell_type": "markdown",
   "metadata": {},
   "source": [
    "- Medium\n",
    "- DP\n",
    "- dict_ij定义的是以这两个数为结尾 (这样其实FibSeq的前面和后面也已经确定了) 的FibSeq的长度, 默认起始长度为2"
   ]
  },
  {
   "cell_type": "code",
   "execution_count": null,
   "metadata": {},
   "outputs": [],
   "source": [
    "class Solution:\n",
    "    def lenLongestFibSubseq(self, A: List[int]) -> int:\n",
    "        index = {e: i for i, e in enumerate(A)}  # 方便查找目标值是否存在, 及其index\n",
    "        dict_ij = dict()  # key为(i,j), 记录这两个index对应的数到目前的FibSeq长度\n",
    "        ans = 0\n",
    "        for j, e in enumerate(A):\n",
    "            for i in range(j):  # 对于每个数, 从前遍历到它的每个数, 看是否存在目标值\n",
    "                d = e - A[i]  # 目标值\n",
    "                if d in index and index[d] < i:  # 若存在, 且在i的前面\n",
    "                    dict_ij[i,j] = dict_ij.get((index[d],i), 2) + 1  # 更新dict_ij\n",
    "                    ans = max(ans, dict_ij[i,j])\n",
    "        return ans if ans > 2 else 0"
   ]
  }
 ],
 "metadata": {
  "kernelspec": {
   "display_name": "Python 3",
   "language": "python",
   "name": "python3"
  },
  "language_info": {
   "codemirror_mode": {
    "name": "ipython",
    "version": 3
   },
   "file_extension": ".py",
   "mimetype": "text/x-python",
   "name": "python",
   "nbconvert_exporter": "python",
   "pygments_lexer": "ipython3",
   "version": "3.7.5"
  }
 },
 "nbformat": 4,
 "nbformat_minor": 2
}
