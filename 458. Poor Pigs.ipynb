{
 "cells": [
  {
   "cell_type": "markdown",
   "metadata": {},
   "source": [
    "- Hard\n",
    "- k进制下的编码和组合"
   ]
  },
  {
   "cell_type": "code",
   "execution_count": null,
   "metadata": {},
   "outputs": [],
   "source": [
    "import math\n",
    "\n",
    "class Solution:\n",
    "    def poorPigs(self, buckets: int, minutesToDie: int, minutesToTest: int) -> int:\n",
    "        # 用binary encoding, 即bucket id用binary表示, binary的长度即为所需猪的数量\n",
    "        # binary位置为1表示此位置的猪需要喝该桶的水\n",
    "        # miniutesToDie过后, 根据死的情况确定\n",
    "        # 情形1: 每只猪只能喝一次\n",
    "        # return math.ceil(math.log2(buckets))\n",
    "    \n",
    "        # 情形2: 每只猪可以喝多次\n",
    "        # 则将buckets分散到这么多次进行\n",
    "        # feed_times = minutesToTest // minutesToDie\n",
    "        # return math.ceil(math.log2(math.ceil(buckets / feed_times)))\n",
    "    \n",
    "        # 情形3: 每只猪可以喝多次, k\n",
    "        # 情形1中其实是指当前位为0则不喝, 1则(在第一轮)喝\n",
    "        # 扩展到多次就是用k进制表示, 当前位值为m, 则在第m轮喝\n",
    "        # https://leetcode.com/problems/poor-pigs/discuss/94273/Solution-with-detailed-explanation\n",
    "        feed_times = minutesToTest // minutesToDie + 1\n",
    "        return math.ceil(math.log(buckets, feed_times))\n",
    "    \n",
    "        # 开放情形: 至多死一头猪\n",
    "        # 以上策略可能导致猪全死掉\n",
    "        # 至多死一头则不能用一桶水同时喂多头猪"
   ]
  }
 ],
 "metadata": {
  "kernelspec": {
   "display_name": "Python 3",
   "language": "python",
   "name": "python3"
  },
  "language_info": {
   "codemirror_mode": {
    "name": "ipython",
    "version": 3
   },
   "file_extension": ".py",
   "mimetype": "text/x-python",
   "name": "python",
   "nbconvert_exporter": "python",
   "pygments_lexer": "ipython3",
   "version": "3.7.5"
  }
 },
 "nbformat": 4,
 "nbformat_minor": 2
}
