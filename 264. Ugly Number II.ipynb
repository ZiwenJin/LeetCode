{
 "cells": [
  {
   "cell_type": "markdown",
   "metadata": {},
   "source": [
    "- Medium\n",
    "- 核心是维护3个变量, 分别记录乘以2, 3, 5后, <=当前值中的最小值\n",
    "- 注意公倍数时的处理方式"
   ]
  },
  {
   "cell_type": "code",
   "execution_count": null,
   "metadata": {},
   "outputs": [],
   "source": [
    "class Solution:\n",
    "    def nthUglyNumber(self, n: int) -> int:\n",
    "        if n <= 6:\n",
    "            return n\n",
    "        \n",
    "        ans = [1]\n",
    "        i2, i3, i5 = 0, 0, 0\n",
    "        for i in range(n-1):\n",
    "            # 取到min的对应的ix需要+=1\n",
    "            # 但是如果碰到2,3,5中两个或三个的公倍数, e.g. 6, 15, 30, 则对应的数的ix也需要+=1 ...\n",
    "            min_v = min(ans[i2]*2, ans[i3]*3, ans[i5]*5)\n",
    "            ans.append(min_v)\n",
    "            # ... 所以2, 3, 5都需要验证\n",
    "            if ans[i2] * 2 <= min_v:\n",
    "                i2 += 1\n",
    "            if ans[i3] * 3 <= min_v:\n",
    "                i3 += 1\n",
    "            if ans[i5] * 5 <= min_v:\n",
    "                i5 += 1\n",
    "        return ans[-1]"
   ]
  }
 ],
 "metadata": {
  "kernelspec": {
   "display_name": "Python 3",
   "language": "python",
   "name": "python3"
  },
  "language_info": {
   "codemirror_mode": {
    "name": "ipython",
    "version": 3
   },
   "file_extension": ".py",
   "mimetype": "text/x-python",
   "name": "python",
   "nbconvert_exporter": "python",
   "pygments_lexer": "ipython3",
   "version": "3.7.5"
  }
 },
 "nbformat": 4,
 "nbformat_minor": 2
}
