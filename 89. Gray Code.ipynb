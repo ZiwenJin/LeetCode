{
 "cells": [
  {
   "cell_type": "markdown",
   "metadata": {},
   "source": [
    "- Medium\n",
    "- if grayCode(n) satisfies gray code rules, then complement a 0/1 in the leading bit, aka. add 0/2**n-1 for each element, are both satisfy the rules\n",
    "- then, reverse the second one and concatnate them"
   ]
  },
  {
   "cell_type": "code",
   "execution_count": null,
   "metadata": {},
   "outputs": [],
   "source": [
    "class Solution:\n",
    "    def grayCode(self, n: int):\n",
    "        \"\"\" \n",
    "        THINKS ABOUT IT:\n",
    "        the result for n is [[0] + r for r in result(n-1)] + [[1] + r for r in reversed(result(n-1))]\n",
    "        \"\"\"\n",
    "        ans = [0]\n",
    "        for i in range(n):\n",
    "            ans += [a + 2**i for a in reversed(ans)]\n",
    "        return ans"
   ]
  }
 ],
 "metadata": {
  "kernelspec": {
   "display_name": "Python 3",
   "language": "python",
   "name": "python3"
  },
  "language_info": {
   "codemirror_mode": {
    "name": "ipython",
    "version": 3
   },
   "file_extension": ".py",
   "mimetype": "text/x-python",
   "name": "python",
   "nbconvert_exporter": "python",
   "pygments_lexer": "ipython3",
   "version": "3.7.5"
  }
 },
 "nbformat": 4,
 "nbformat_minor": 2
}
