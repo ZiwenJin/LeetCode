{
 "cells": [
  {
   "cell_type": "markdown",
   "metadata": {},
   "source": [
    "- Medium\n",
    "- 核心1: 知道对任意的num, a, b, c, 包括多少ugly number -> ugly_number_cnt. 注意**num如果不是ugly number, 则返回值和离其最近 (往小) 的ugly number相同**\n",
    "- 核心2: 每least common multiple, lcm(a, b, c), 中ugly number的数量一致 -> 缩小搜索范围\n",
    "- 注意和Ugly Number, Ugly Number II的区别, 这两个是因子只有2, 3, 5, 而这题是能被2/3/5整除"
   ]
  },
  {
   "cell_type": "code",
   "execution_count": 1,
   "metadata": {},
   "outputs": [],
   "source": [
    "import math\n",
    "\n",
    "class Solution:\n",
    "    def nthUglyNumber(self, n: int, a: int, b: int, c: int) -> int:\n",
    "        def lcm(a, b):\n",
    "            return a * b // math.gcd(a, b)\n",
    "        \n",
    "        def ugly_number_cnt(num, a, b, c, ab, ac, bc, abc):\n",
    "            # 返回num (inclusive) 内ugly number的数量\n",
    "            # 画维恩图\n",
    "            # NOTICE! num如果不是ugly number, 则返回值和离其最近 (往小) 的ugly number相同\n",
    "            cnt = num // a + num // b + num // c\n",
    "            cnt -= num // ab + num // ac + num // bc  # 两两间重复的部分\n",
    "            cnt += num // abc  # 上面一行减过了, 再补上\n",
    "            return cnt\n",
    "        \n",
    "        ab, ac, bc = lcm(a, b), lcm(a, c), lcm(b, c)\n",
    "        abc = lcm(ab, c)\n",
    "        # 每least common multiple, lcm(a, b, c), 中ugly number的数量一致 \n",
    "        ugly_number_cnt_in_one_lcm = ugly_number_cnt(abc, a, b, c, ab, ac, bc, abc)\n",
    "        # 确定在第几个lcm, 整数倍应该放在前一个lcm, 所以需-1\n",
    "        ith_lcm = (n - 1) // ugly_number_cnt_in_one_lcm\n",
    "        # 缩小搜索范围到一个lcm\n",
    "        low, high = ith_lcm * abc + 1, (ith_lcm + 1) * abc\n",
    "        while low < high:\n",
    "            mid = (low + high) // 2\n",
    "            # # 因为mid有可能不是ugly number, 所以不能这样直接return\n",
    "            # if mid_ugly_number_cnt == n:\n",
    "            #     return mid\n",
    "            if ugly_number_cnt(mid, a, b, c, ab, ac, bc, abc) < n:  # <n则下限可以+1\n",
    "                low = mid + 1\n",
    "            else:  # =n时上限不能-1. 由于//2会往下去, 所以不会死循环\n",
    "                high = mid\n",
    "        return low"
   ]
  },
  {
   "cell_type": "code",
   "execution_count": 2,
   "metadata": {
    "scrolled": false
   },
   "outputs": [
    {
     "data": {
      "text/plain": [
       "1999999984"
      ]
     },
     "execution_count": 2,
     "metadata": {},
     "output_type": "execute_result"
    }
   ],
   "source": [
    "s = Solution()\n",
    "s.nthUglyNumber(1000000000,2,217983653,336916467)"
   ]
  },
  {
   "cell_type": "code",
   "execution_count": 3,
   "metadata": {},
   "outputs": [],
   "source": [
    "def ugly_number_cnt(num, a, b, c, ab, ac, bc, abc):\n",
    "    # 返回num, inclusive, 内ugly number的数量\n",
    "    # 画维恩图\n",
    "            # NOTICE! num如果不是ugly number, 则返回值和离其最近 (往小) 的ugly number相同\n",
    "    cnt = num // a + num // b + num // c\n",
    "    cnt -= num // ab + num // ac + num // bc  # 两两间重复的部分\n",
    "    cnt += num // abc  # 上面一行减过了, 再补上\n",
    "    return cnt"
   ]
  },
  {
   "cell_type": "code",
   "execution_count": 4,
   "metadata": {},
   "outputs": [
    {
     "data": {
      "text/plain": [
       "166"
      ]
     },
     "execution_count": 4,
     "metadata": {},
     "output_type": "execute_result"
    }
   ],
   "source": [
    "ugly_number_cnt(286,2,11,13,22,26,143,286)"
   ]
  },
  {
   "cell_type": "code",
   "execution_count": 5,
   "metadata": {},
   "outputs": [
    {
     "data": {
      "text/plain": [
       "332"
      ]
     },
     "execution_count": 5,
     "metadata": {},
     "output_type": "execute_result"
    }
   ],
   "source": [
    "ugly_number_cnt(572,2,11,13,22,26,143,286)"
   ]
  }
 ],
 "metadata": {
  "kernelspec": {
   "display_name": "Python 3",
   "language": "python",
   "name": "python3"
  },
  "language_info": {
   "codemirror_mode": {
    "name": "ipython",
    "version": 3
   },
   "file_extension": ".py",
   "mimetype": "text/x-python",
   "name": "python",
   "nbconvert_exporter": "python",
   "pygments_lexer": "ipython3",
   "version": "3.7.5"
  }
 },
 "nbformat": 4,
 "nbformat_minor": 2
}
