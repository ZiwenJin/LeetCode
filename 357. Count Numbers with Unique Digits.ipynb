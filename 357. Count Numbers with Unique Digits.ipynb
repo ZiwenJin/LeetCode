{
 "cells": [
  {
   "cell_type": "markdown",
   "metadata": {},
   "source": [
    "- Medium\n",
    "- a表示上上次结果, b表示上次结果\n",
    "- 相比上次, 这次多出来的结果是有n位的情况, 即在b - a这些情况后面再加一位, 可以加的数有11 - n个 (9,9,8,7,6,5,4,3,2,1)\n",
    "- 超过10位后, 必有重复, 所以上限是n=10"
   ]
  },
  {
   "cell_type": "code",
   "execution_count": null,
   "metadata": {},
   "outputs": [],
   "source": [
    "class Solution:\n",
    "    def countNumbersWithUniqueDigits(self, n: int) -> int:\n",
    "        n = min(n, 10)\n",
    "        \n",
    "        # Solution 1: dynamic programming\n",
    "        if n == 0: return 1\n",
    "        if n == 1: return 10\n",
    "        a, b = 1, 10\n",
    "        for i in range(2, n+1):\n",
    "            a, b = b, b + (b - a) * (11 - i)\n",
    "        return b"
   ]
  }
 ],
 "metadata": {
  "kernelspec": {
   "display_name": "Python 3",
   "language": "python",
   "name": "python3"
  },
  "language_info": {
   "codemirror_mode": {
    "name": "ipython",
    "version": 3
   },
   "file_extension": ".py",
   "mimetype": "text/x-python",
   "name": "python",
   "nbconvert_exporter": "python",
   "pygments_lexer": "ipython3",
   "version": "3.7.5"
  }
 },
 "nbformat": 4,
 "nbformat_minor": 2
}
