{
 "cells": [
  {
   "cell_type": "markdown",
   "metadata": {},
   "source": [
    "- Medium"
   ]
  },
  {
   "cell_type": "markdown",
   "metadata": {},
   "source": [
    "- sort and min-heap\n",
    "- 每次开会前检查最近结束的会是否结束了, 结束则先pop再push (重复使用该room), 没结束则直接push (新开一个room)"
   ]
  },
  {
   "cell_type": "code",
   "execution_count": null,
   "metadata": {},
   "outputs": [],
   "source": [
    "import heapq\n",
    "\n",
    "class Solution:\n",
    "    def minMeetingRooms(self, intervals: List[List[int]]) -> int:\n",
    "        intervals.sort()\n",
    "        end_time_heap = []\n",
    "        for i, e in enumerate(intervals):\n",
    "            if end_time_heap and end_time_heap[0] <= e[0]:\n",
    "                heapq.heappop(end_time_heap)\n",
    "            heapq.heappush(end_time_heap, e[1])\n",
    "        return len(end_time_heap)"
   ]
  },
  {
   "cell_type": "markdown",
   "metadata": {},
   "source": [
    "- sort and merge\n",
    "- 先分别把start和end排序\n",
    "- 用merge思路遍历这两个list, 先看到start则cnt+=1, 反之则cnt-=1"
   ]
  },
  {
   "cell_type": "code",
   "execution_count": null,
   "metadata": {},
   "outputs": [],
   "source": [
    "class Solution:\n",
    "    def minMeetingRooms(self, intervals: List[List[int]]) -> int:\n",
    "        N = len(intervals)\n",
    "        s_time = sorted([i[0] for i in intervals])\n",
    "        e_time = sorted([i[1] for i in intervals])\n",
    "        s_i, e_i, cnt, ans = 0, 0, 0, 0  # cnt记录当前用了几个rooms, ans记录最多曾同时用了几个rooms\n",
    "        while s_i < N:\n",
    "            if s_time[s_i] < e_time[e_i]:\n",
    "                cnt += 1\n",
    "                s_i += 1\n",
    "                ans = max(ans, cnt)\n",
    "            else:\n",
    "                cnt -= 1\n",
    "                e_i += 1\n",
    "        return ans"
   ]
  }
 ],
 "metadata": {
  "kernelspec": {
   "display_name": "Python 3",
   "language": "python",
   "name": "python3"
  },
  "language_info": {
   "codemirror_mode": {
    "name": "ipython",
    "version": 3
   },
   "file_extension": ".py",
   "mimetype": "text/x-python",
   "name": "python",
   "nbconvert_exporter": "python",
   "pygments_lexer": "ipython3",
   "version": "3.7.5"
  }
 },
 "nbformat": 4,
 "nbformat_minor": 2
}
