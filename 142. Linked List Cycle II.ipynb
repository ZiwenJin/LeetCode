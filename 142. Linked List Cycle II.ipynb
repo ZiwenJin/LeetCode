{
 "cells": [
  {
   "cell_type": "markdown",
   "metadata": {},
   "source": [
    "- Medium\n",
    "- solution 1: 用dict存看过的\n",
    "- solution 2: 用slow, fast两个pointer. 假设head到cycle start的距离是a, cycle start点到pointer meeting点的距离是b, cycle长度是c. 那么, 可以得到2 * (a + b) = a + b + r, 即a + b = r. 但是 a 和 b 都未知, 所以要head和slow同时走 a 步, 一起到cycle start点"
   ]
  },
  {
   "cell_type": "code",
   "execution_count": null,
   "metadata": {
    "collapsed": true
   },
   "outputs": [],
   "source": [
    "# Definition for singly-linked list.\n",
    "# class ListNode(object):\n",
    "#     def __init__(self, x):\n",
    "#         self.val = x\n",
    "#         self.next = None\n",
    "\n",
    "class Solution(object):\n",
    "    def detectCycle(self, head):\n",
    "        \"\"\"\n",
    "        :type head: ListNode\n",
    "        :rtype: ListNode\n",
    "        \"\"\"\n",
    "        if not head:\n",
    "            return None\n",
    "        \n",
    "        start = slow = fast = head\n",
    "        while fast and fast.next:\n",
    "            slow = slow.next\n",
    "            fast = fast.next.next\n",
    "            if slow == fast:\n",
    "                while slow != start:\n",
    "                    slow = slow.next\n",
    "                    start = start.next\n",
    "                return start\n",
    "        return None\n",
    "        \n",
    "#         # SC: O(N), use dict to store visited nodes\n",
    "#         visited = dict()\n",
    "#         while head:\n",
    "#             if head in visited:\n",
    "#                 return head\n",
    "#             visited[head] = 0\n",
    "#             head = head.next\n",
    "            \n",
    "#         return None"
   ]
  }
 ],
 "metadata": {
  "kernelspec": {
   "display_name": "Python [default]",
   "language": "python",
   "name": "python3"
  },
  "language_info": {
   "codemirror_mode": {
    "name": "ipython",
    "version": 3
   },
   "file_extension": ".py",
   "mimetype": "text/x-python",
   "name": "python",
   "nbconvert_exporter": "python",
   "pygments_lexer": "ipython3",
   "version": "3.5.2"
  }
 },
 "nbformat": 4,
 "nbformat_minor": 2
}
