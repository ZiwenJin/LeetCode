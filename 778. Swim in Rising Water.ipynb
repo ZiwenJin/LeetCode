{
 "cells": [
  {
   "cell_type": "markdown",
   "metadata": {},
   "source": [
    "- Hard\n",
    "- Solution 1: 分成两阶段. 1). 对于任意num, 通过dfs/bfs判断是否通过; 2). 对(0, N*N-1)进行二分搜索 -> TC=O(N^2*logN)\n",
    "- Solution 2: Dijkstra + PriorityQueue -> TC=O(N^2*logN), 但实际运行更快"
   ]
  },
  {
   "cell_type": "markdown",
   "metadata": {},
   "source": [
    "- Dijkstra + PriorityQueue\n",
    "- TC=O(N^2*logN), logN for PriorityQueue\n",
    "- 把grid想象成graph的话, 就是从node [0, 0]到node [N-1, N-1]的最短路径\n",
    "- 用PriorityQueue即结合了greedy, 可以更快找到"
   ]
  },
  {
   "cell_type": "code",
   "execution_count": null,
   "metadata": {},
   "outputs": [],
   "source": [
    "import heapq\n",
    "\n",
    "class Solution:\n",
    "    def swimInWater(self, grid: List[List[int]]) -> int:\n",
    "        N = len(grid)\n",
    "        ans = grid[0][0]\n",
    "        pq = [[ans, 0, 0]]\n",
    "        visited = set([(0, 0)])\n",
    "        while pq:\n",
    "            v, x, y = heapq.heappop(pq)\n",
    "            ans = max(ans, v)\n",
    "            if x == y == N-1:\n",
    "                return ans\n",
    "            for xn, yn in [[x, y-1], [x, y+1], [x-1, y], [x+1, y]]:\n",
    "                if 0 <= xn < N and 0 <= yn < N and (xn, yn) not in visited:\n",
    "                    heapq.heappush(pq, (grid[xn][yn], xn, yn))\n",
    "                    visited.add((xn, yn))"
   ]
  },
  {
   "cell_type": "markdown",
   "metadata": {},
   "source": [
    "- bfs\n",
    "- TC=O(N^2*logN)"
   ]
  },
  {
   "cell_type": "code",
   "execution_count": null,
   "metadata": {},
   "outputs": [],
   "source": [
    "from collections import deque\n",
    "\n",
    "class Solution:\n",
    "    def swimInWater(self, grid) -> int:\n",
    "        def bfs(grid, num, N, pos, visited):\n",
    "            queue = deque([(0, 0)])\n",
    "            visited = [[0] * N for _ in range(N)]\n",
    "            visited[0][0] = 1\n",
    "            while queue:\n",
    "                x, y = queue.popleft()\n",
    "                for i, j in [[0, -1], [0, 1], [-1, 0], [1, 0]]:\n",
    "                    xn, yn = x + i, y + j\n",
    "                    posn = (xn, yn)\n",
    "                    if 0 <= xn < N and 0 <= yn < N and visited[xn][yn] == 0 and grid[xn][yn] <= num:\n",
    "                        if posn == (N-1, N-1): return True\n",
    "                        queue.append(posn)\n",
    "                        visited[xn][yn] = 1\n",
    "            return False\n",
    "        \n",
    "        N = len(grid)\n",
    "        low, high = 0, N*N-1\n",
    "        while low < high:\n",
    "            mid = (low + high) // 2\n",
    "            visited = [[0] * N for _ in range(N)]\n",
    "            if grid[0][0] <= mid and dfs(grid, mid, N, (0,0), visited):\n",
    "                high = mid\n",
    "            else:\n",
    "                low = mid + 1\n",
    "        return low"
   ]
  },
  {
   "cell_type": "markdown",
   "metadata": {},
   "source": [
    "- dfs\n",
    "- TC=O(N^2*logN)"
   ]
  },
  {
   "cell_type": "code",
   "execution_count": null,
   "metadata": {},
   "outputs": [],
   "source": [
    "class Solution:\n",
    "    def swimInWater(self, grid) -> int:\n",
    "        def dfs(grid, num, N, pos, visited):\n",
    "            if pos == (N-1, N-1):\n",
    "                return True\n",
    "            for i, j in [[0, -1], [0, 1], [-1, 0], [1, 0]]:\n",
    "                xn, yn = pos[0] + i, pos[1] + j\n",
    "                posn = (xn, yn)\n",
    "                if 0 <= xn < N and 0 <= yn < N and posn not in visited and grid[xn][yn] <= num:\n",
    "                    visited.add(posn)\n",
    "                    if dfs(grid, num, N, posn, visited):\n",
    "                        return True\n",
    "            return False\n",
    "        \n",
    "        N = len(grid)\n",
    "        low, high = 0, N*N-1\n",
    "        while low < high:\n",
    "            mid = (low + high) // 2\n",
    "            visited = set()\n",
    "            visited.add((0, 0))\n",
    "            if grid[0][0] <= mid and dfs(grid, mid, N, (0,0), visited):\n",
    "                high = mid\n",
    "            else:\n",
    "                low = mid + 1\n",
    "        return low"
   ]
  }
 ],
 "metadata": {
  "kernelspec": {
   "display_name": "Python 3",
   "language": "python",
   "name": "python3"
  },
  "language_info": {
   "codemirror_mode": {
    "name": "ipython",
    "version": 3
   },
   "file_extension": ".py",
   "mimetype": "text/x-python",
   "name": "python",
   "nbconvert_exporter": "python",
   "pygments_lexer": "ipython3",
   "version": "3.7.5"
  }
 },
 "nbformat": 4,
 "nbformat_minor": 2
}
