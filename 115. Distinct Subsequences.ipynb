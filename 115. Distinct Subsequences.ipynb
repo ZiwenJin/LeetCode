{
 "cells": [
  {
   "cell_type": "markdown",
   "metadata": {},
   "source": [
    "- Hard\n",
    "- 先确定初始情况, 即t为空结果为1, s为空结果为0\n",
    "- 当s[j-1] != t[i-1], 结果就是cur_memory[j-1], 即不考虑s的当前位的数量\n",
    "- 当s[j-1] == t[i-1], 还需加上pre_memory[j-1], 即s和t各去掉当前位的结果"
   ]
  },
  {
   "cell_type": "code",
   "execution_count": null,
   "metadata": {},
   "outputs": [],
   "source": [
    "import copy\n",
    "\n",
    "class Solution:\n",
    "    def numDistinct(self, s: str, t: str) -> int:\n",
    "        if len(s) < len(t):\n",
    "            return 0\n",
    "        \n",
    "        pre_memory = [1] * (len(s) + 1)\n",
    "        cur_memory = [0] * (len(s) + 1)\n",
    "        for i in range(1, len(t)+1):\n",
    "            for j in range(1, len(s)+1):\n",
    "                cur_memory[j] = cur_memory[j-1] if s[j-1] != t[i-1] else cur_memory[j-1] + pre_memory[j-1]\n",
    "            pre_memory = copy.deepcopy(cur_memory)\n",
    "        return cur_memory[-1]"
   ]
  }
 ],
 "metadata": {
  "kernelspec": {
   "display_name": "Python 3",
   "language": "python",
   "name": "python3"
  },
  "language_info": {
   "codemirror_mode": {
    "name": "ipython",
    "version": 3
   },
   "file_extension": ".py",
   "mimetype": "text/x-python",
   "name": "python",
   "nbconvert_exporter": "python",
   "pygments_lexer": "ipython3",
   "version": "3.5.2"
  }
 },
 "nbformat": 4,
 "nbformat_minor": 2
}
