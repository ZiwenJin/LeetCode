{
 "cells": [
  {
   "cell_type": "markdown",
   "metadata": {},
   "source": [
    "- Medium\n",
    "- 用两个链表分别保存<x和>=x的部分"
   ]
  },
  {
   "cell_type": "code",
   "execution_count": null,
   "metadata": {
    "collapsed": true
   },
   "outputs": [],
   "source": [
    "# Definition for singly-linked list.\n",
    "# class ListNode(object):\n",
    "#     def __init__(self, x):\n",
    "#         self.val = x\n",
    "#         self.next = None\n",
    "\n",
    "class Solution(object):\n",
    "    def partition(self, head, x):\n",
    "        \"\"\"\n",
    "        :type head: ListNode\n",
    "        :type x: int\n",
    "        :rtype: ListNode\n",
    "        \"\"\"\n",
    "        dummy1 = ListNode('-1')\n",
    "        dummy2 = ListNode('-1')\n",
    "        tmp1 = dummy1\n",
    "        tmp2 = dummy2\n",
    "        \n",
    "        cur = head\n",
    "        while cur:\n",
    "            if cur.val < x:\n",
    "                tmp1.next = ListNode(cur.val)\n",
    "                tmp1 = tmp1.next\n",
    "            else:\n",
    "                tmp2.next = ListNode(cur.val)\n",
    "                tmp2 = tmp2.next\n",
    "            cur = cur.next\n",
    "                \n",
    "        tmp1.next = dummy2.next\n",
    "        return dummy1.next"
   ]
  }
 ],
 "metadata": {
  "kernelspec": {
   "display_name": "Python [default]",
   "language": "python",
   "name": "python3"
  },
  "language_info": {
   "codemirror_mode": {
    "name": "ipython",
    "version": 3
   },
   "file_extension": ".py",
   "mimetype": "text/x-python",
   "name": "python",
   "nbconvert_exporter": "python",
   "pygments_lexer": "ipython3",
   "version": "3.5.2"
  }
 },
 "nbformat": 4,
 "nbformat_minor": 2
}
