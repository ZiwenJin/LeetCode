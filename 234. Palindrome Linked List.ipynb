{
 "cells": [
  {
   "cell_type": "markdown",
   "metadata": {},
   "source": [
    "- Easy\n",
    "- Linked list和Palindrome一起时, 考虑用slow和fast两个pointer, 因为Palindrome可以从中间开始判断\n",
    "- 注意linked list长度为奇数和偶数的区别\n",
    "- 注意注释的两行:\n",
    "    - python里从左往右先evaluate等号右边, 然后左边\n",
    "    - 第二句问题在于左边先更新了slow, 所以它后面的slow.next指的是新的slow, 即右边的slow.next"
   ]
  },
  {
   "cell_type": "code",
   "execution_count": null,
   "metadata": {
    "collapsed": true
   },
   "outputs": [],
   "source": [
    "# Definition for singly-linked list.\n",
    "# class ListNode(object):\n",
    "#     def __init__(self, x):\n",
    "#         self.val = x\n",
    "#         self.next = None\n",
    "\n",
    "class Solution(object):\n",
    "    def isPalindrome(self, head):\n",
    "        \"\"\"\n",
    "        :type head: ListNode\n",
    "        :rtype: bool\n",
    "        \"\"\"\n",
    "        rev, slow, fast = None, head, head\n",
    "        while fast and fast.next:\n",
    "            fast = fast.next.next\n",
    "            \n",
    "            nxt = slow.next\n",
    "            slow.next = rev\n",
    "            rev = slow\n",
    "            slow = nxt\n",
    "            # rev, slow.next, slow = slow, rev, slow.next\n",
    "            # rev, slow, slow.next = slow, slow.next, rev\n",
    "            \n",
    "        if fast:\n",
    "            slow = slow.next\n",
    "            \n",
    "        while slow:\n",
    "            if slow.val != rev.val:\n",
    "                return False\n",
    "            slow, rev = slow.next, rev.next\n",
    "        return True\n",
    "        \n",
    "        \n",
    "#         if head is None or head.next is None:\n",
    "#             return True\n",
    "        \n",
    "#         to_list = []\n",
    "#         while head is not None:\n",
    "#             to_list.append(head.val)\n",
    "#             head = head.next\n",
    "            \n",
    "#         return to_list == to_list[::-1]"
   ]
  }
 ],
 "metadata": {
  "kernelspec": {
   "display_name": "Python [default]",
   "language": "python",
   "name": "python3"
  },
  "language_info": {
   "codemirror_mode": {
    "name": "ipython",
    "version": 3
   },
   "file_extension": ".py",
   "mimetype": "text/x-python",
   "name": "python",
   "nbconvert_exporter": "python",
   "pygments_lexer": "ipython3",
   "version": "3.5.2"
  }
 },
 "nbformat": 4,
 "nbformat_minor": 2
}
