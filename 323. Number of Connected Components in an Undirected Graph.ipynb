{
 "cells": [
  {
   "cell_type": "markdown",
   "metadata": {},
   "source": [
    "- Medium\n",
    "- bfs, 用一个visited和一个queue"
   ]
  },
  {
   "cell_type": "code",
   "execution_count": null,
   "metadata": {},
   "outputs": [],
   "source": [
    "from collections import deque\n",
    "\n",
    "class Solution:\n",
    "    def countComponents(self, n: int, edges: List[List[int]]) -> int:\n",
    "        neig = [[] for _ in range(n)]\n",
    "        for e in edges:\n",
    "            neig[e[0]].append(e[1])\n",
    "            neig[e[1]].append(e[0])\n",
    "        \n",
    "        # bfs\n",
    "        visited = [False for _ in range(n)]\n",
    "        queue = deque([])\n",
    "        ans = 0\n",
    "        for i in range(n):\n",
    "            if not visited[i]:\n",
    "                queue.append(i)\n",
    "                visited[i] = True\n",
    "                ans += 1\n",
    "                while queue:\n",
    "                    cur = queue.popleft()\n",
    "                    for nn in neig[cur]:\n",
    "                        if not visited[nn]:\n",
    "                            visited[nn] = True\n",
    "                            queue.append(nn)\n",
    "        return ans"
   ]
  }
 ],
 "metadata": {
  "kernelspec": {
   "display_name": "Python 3",
   "language": "python",
   "name": "python3"
  },
  "language_info": {
   "codemirror_mode": {
    "name": "ipython",
    "version": 3
   },
   "file_extension": ".py",
   "mimetype": "text/x-python",
   "name": "python",
   "nbconvert_exporter": "python",
   "pygments_lexer": "ipython3",
   "version": "3.7.5"
  }
 },
 "nbformat": 4,
 "nbformat_minor": 2
}
