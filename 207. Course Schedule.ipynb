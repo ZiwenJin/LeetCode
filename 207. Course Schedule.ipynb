{
 "cells": [
  {
   "cell_type": "markdown",
   "metadata": {},
   "source": [
    "- bfs\n",
    "- 核心是从所有root node开始学习, 每学一门就将其后续课程的依赖减1, 依赖减到0后就能够学了, 最后判断学过的课和课程数量是否相同\n",
    "- runtime 96 ms, beats 96.00%"
   ]
  },
  {
   "cell_type": "code",
   "execution_count": null,
   "metadata": {},
   "outputs": [],
   "source": [
    "from collections import deque\n",
    "\n",
    "class Solution:\n",
    "    def canFinish(self, numCourses: int, prerequisites: List[List[int]]) -> bool:\n",
    "        # base case\n",
    "        if len(prerequisites) <= 1:\n",
    "            return True\n",
    "        \n",
    "        # neighbors and indegree\n",
    "        node_neig = [[] for n in range(numCourses)]\n",
    "        indegree = [0 for n in range(numCourses)]\n",
    "        for pr in prerequisites:\n",
    "            node_neig[pr[1]].append(pr[0])\n",
    "            indegree[pr[0]] += 1\n",
    "            \n",
    "        # bfs\n",
    "        queue = deque([i for i, n in enumerate(indegree) if n == 0])  # 从indegree=0, 即root node, 开始学习\n",
    "        learnt_cnt = len(queue)  # root node的数量\n",
    "        while queue:\n",
    "            cur_n = queue.popleft()\n",
    "            for nn in node_neig[cur_n]:\n",
    "                indegree[nn] -= 1  # 学完一门课后, 其后续课的依赖就少1 ...\n",
    "                if indegree[nn] == 0:  # ... 依赖变成0就可以学习了\n",
    "                    queue.append(nn)\n",
    "                    learnt_cnt += 1\n",
    "        return learnt_cnt == numCourses"
   ]
  },
  {
   "cell_type": "markdown",
   "metadata": {},
   "source": [
    "- dfs\n",
    "- visited[n]有3个标记\n",
    "> 0: initial mark, 尚未遍历  \n",
    "> -1: temporary mark, 当前循环内以visit, 如果会再次visit, 说明存在cycle  \n",
    "> 1: permanent mark, 当前循环内以visit, 但之后发现该点与其successors不存在cycle, 标记为1, 这样之后的遍历再遇到可以直接返回True\n",
    "- runtime 88 ms, beats 99.80%"
   ]
  },
  {
   "cell_type": "code",
   "execution_count": null,
   "metadata": {},
   "outputs": [],
   "source": [
    "class Solution:\n",
    "    def canFinish(self, numCourses: int, prerequisites: List[List[int]]) -> bool:\n",
    "        def has_cycle(cur_n):\n",
    "            # dfs\n",
    "            if visited[cur_n] == -1:\n",
    "                return True\n",
    "            if visited[cur_n] == 1:\n",
    "                return False\n",
    "            visited[cur_n] = -1\n",
    "            for nn in node_neig[cur_n]:\n",
    "                if has_cycle(nn):\n",
    "                    return True\n",
    "            visited[cur_n] = 1\n",
    "            return False\n",
    "        \n",
    "        # base case\n",
    "        if len(prerequisites) <= 1:\n",
    "            return True\n",
    "        \n",
    "        # neighbors\n",
    "        node_neig = [[] for n in range(numCourses)]\n",
    "        for pr in prerequisites:\n",
    "            node_neig[pr[1]].append(pr[0])\n",
    "        \n",
    "        # visited\n",
    "        visited = [0 for n in range(numCourses)]\n",
    "        \n",
    "        for n in range(numCourses):\n",
    "            if has_cycle(n):\n",
    "                return False\n",
    "        return True"
   ]
  },
  {
   "cell_type": "markdown",
   "metadata": {},
   "source": [
    "- dfs, 有大量重复计算: runtime 832 ms, beats 8.28%"
   ]
  },
  {
   "cell_type": "code",
   "execution_count": null,
   "metadata": {},
   "outputs": [],
   "source": [
    "class Solution:\n",
    "    def canFinish(self, numCourses: int, prerequisites: List[List[int]]) -> bool:\n",
    "        def has_cycle(cur_n, visited):\n",
    "            # dfs\n",
    "            if cur_n in visited:\n",
    "                return True\n",
    "            visited.add(cur_n)\n",
    "            for nn in node_neig[cur_n]:\n",
    "                if has_cycle(nn, visited):\n",
    "                    return True\n",
    "            visited.remove(cur_n)\n",
    "            return False\n",
    "        \n",
    "        # base case\n",
    "        if len(prerequisites) <= 1:\n",
    "            return True\n",
    "        \n",
    "        node_neig = [[] for n in range(numCourses)]\n",
    "        for pr in prerequisites:\n",
    "            node_neig[pr[1]].append(pr[0])\n",
    "        \n",
    "        # 会重复计算所有非根节点的node\n",
    "        for n in range(numCourses):\n",
    "            if has_cycle(n, set()):\n",
    "                return False\n",
    "        return True"
   ]
  }
 ],
 "metadata": {
  "kernelspec": {
   "display_name": "Python 3",
   "language": "python",
   "name": "python3"
  },
  "language_info": {
   "codemirror_mode": {
    "name": "ipython",
    "version": 3
   },
   "file_extension": ".py",
   "mimetype": "text/x-python",
   "name": "python",
   "nbconvert_exporter": "python",
   "pygments_lexer": "ipython3",
   "version": "3.7.5"
  }
 },
 "nbformat": 4,
 "nbformat_minor": 2
}
