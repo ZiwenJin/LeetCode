{
 "cells": [
  {
   "cell_type": "markdown",
   "metadata": {},
   "source": [
    "- Easy\n",
    "- 直接把约数都加起来. 只需要到开平方, 注意开平方是整数的情况\n",
    "- 第二个解法比较硬核, 看看就行"
   ]
  },
  {
   "cell_type": "code",
   "execution_count": null,
   "metadata": {},
   "outputs": [],
   "source": [
    "import math\n",
    "\n",
    "class Solution:\n",
    "    def checkPerfectNumber(self, num: int) -> bool:\n",
    "        if num is None or num <= 2:\n",
    "            return False\n",
    "        div_sum = 1\n",
    "        for i in range(2, math.ceil(math.sqrt(num))):\n",
    "            if num % i == 0:\n",
    "                div_sum += i\n",
    "                div_sum += num // i\n",
    "        if math.sqrt(num) ** 2 == num:\n",
    "            div_sum -= int(math.sqrt(num))\n",
    "        return div_sum == num"
   ]
  },
  {
   "cell_type": "code",
   "execution_count": null,
   "metadata": {},
   "outputs": [],
   "source": []
  },
  {
   "cell_type": "markdown",
   "metadata": {},
   "source": [
    "### Euclid-Euler Theorem [Accepted]\n",
    "Euclid proved that 2^(p−1)(2^p − 1) is an even perfect number whenever 2^p − 1 is prime, where p is prime.\n",
    "Notice, for p=11, 2^11 − 1 = 2047 = 23 × 89 is not a prime number.\n",
    "\n",
    "You can see that for small value of pp, its related perfect number goes very high. So, we need to evaluate perfect numbers for some primes (2, 3, 5, 7, 13, 17, 19, 31) only, as for bigger prime its perfect number will not fit in 64 bits."
   ]
  },
  {
   "cell_type": "markdown",
   "metadata": {},
   "source": [
    "for p = 2:   21(22 − 1) = 6  \n",
    "for p = 3:   22(23 − 1) = 28  \n",
    "for p = 5:   24(25 − 1) = 496  \n",
    "for p = 7:   26(27 − 1) = 8128"
   ]
  },
  {
   "cell_type": "code",
   "execution_count": 18,
   "metadata": {},
   "outputs": [],
   "source": [
    "import math\n",
    "\n",
    "class Solution:\n",
    "    def checkPerfectNumber(self, num: int) -> bool:\n",
    "        def pn(p):\n",
    "            return (1 << (p - 1)) * ((1 << p) - 1)\n",
    "        \n",
    "        primes = [2,3,5,7,13,17,19,31]\n",
    "        return any([pn(p) == num for p in primes])"
   ]
  },
  {
   "cell_type": "code",
   "execution_count": 23,
   "metadata": {},
   "outputs": [
    {
     "data": {
      "text/plain": [
       "True"
      ]
     },
     "execution_count": 23,
     "metadata": {},
     "output_type": "execute_result"
    }
   ],
   "source": [
    "s = Solution()\n",
    "s.checkPerfectNumber(8128)"
   ]
  }
 ],
 "metadata": {
  "kernelspec": {
   "display_name": "Python 3",
   "language": "python",
   "name": "python3"
  },
  "language_info": {
   "codemirror_mode": {
    "name": "ipython",
    "version": 3
   },
   "file_extension": ".py",
   "mimetype": "text/x-python",
   "name": "python",
   "nbconvert_exporter": "python",
   "pygments_lexer": "ipython3",
   "version": "3.7.5"
  }
 },
 "nbformat": 4,
 "nbformat_minor": 2
}
