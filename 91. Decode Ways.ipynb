{
 "cells": [
  {
   "cell_type": "markdown",
   "metadata": {},
   "source": [
    "- Medium\n",
    "- dynamic programming, 如果当前位为0, 若前一位为1或2, 则该两位只能连着, 所以与上上位解法相同, 要不然直接返回0\n",
    "- 非0时, 若该两位在[11, 26]内, 把上位和上上位的相加, 否则, 就等于上一位(在上一位的所有decoding后面都跟上当前数字)\n",
    "- 可以就用两个变量a, b来记录上一位和当前位的结果"
   ]
  },
  {
   "cell_type": "code",
   "execution_count": null,
   "metadata": {
    "collapsed": true
   },
   "outputs": [],
   "source": [
    "class Solution(object):\n",
    "    def numDecodings(self, s):\n",
    "        \"\"\"\n",
    "        :type s: str\n",
    "        :rtype: int\n",
    "        \"\"\"\n",
    "        n = len(s)\n",
    "        if not s or s[0] == '0':\n",
    "            return 0\n",
    "        \n",
    "        a, b = 1, 1\n",
    "        for i in range(1, n):\n",
    "            tmp = b\n",
    "            if s[i] == '0':\n",
    "                if 1 <= int(s[i-1]) <= 2:\n",
    "                    b = a\n",
    "                else:\n",
    "                    return 0\n",
    "            elif 11 <= int(s[i-1:i+1]) <= 26:\n",
    "                b = a + b\n",
    "            a = tmp\n",
    "        return b\n",
    "        \n",
    "        # res = [0] * (n+1)\n",
    "        # res[0], res[1] = 1, 1\n",
    "        # for i in range(2, n+1):\n",
    "        #     if s[i-1] == '0':\n",
    "        #         if 1 <= int(s[i-2]) <= 2:\n",
    "        #             res[i] = res[i-2]\n",
    "        #         else:\n",
    "        #             return 0\n",
    "        #     elif 11 <= int(s[i-2:i]) <= 26:\n",
    "        #         res[i] = res[i-2] + res[i-1]\n",
    "        #     else:\n",
    "        #         res[i] = res[i-1]\n",
    "        # return res[-1]"
   ]
  }
 ],
 "metadata": {
  "kernelspec": {
   "display_name": "Python [default]",
   "language": "python",
   "name": "python3"
  },
  "language_info": {
   "codemirror_mode": {
    "name": "ipython",
    "version": 3
   },
   "file_extension": ".py",
   "mimetype": "text/x-python",
   "name": "python",
   "nbconvert_exporter": "python",
   "pygments_lexer": "ipython3",
   "version": "3.5.2"
  }
 },
 "nbformat": 4,
 "nbformat_minor": 2
}
