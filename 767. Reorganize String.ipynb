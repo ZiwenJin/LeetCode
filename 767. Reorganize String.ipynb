{
 "cells": [
  {
   "cell_type": "markdown",
   "metadata": {},
   "source": [
    "- Medium\n",
    "- 核心是每次用非上一个char中剩余次数最多的char, 用heap完美解决\n",
    "- 无解的情况: 数量最多的char比剩余加起来多1个以上, 或者说数量最多的char占总体的一半 (向上取整) 还多"
   ]
  },
  {
   "cell_type": "code",
   "execution_count": null,
   "metadata": {},
   "outputs": [],
   "source": [
    "import heapq\n",
    "from collections import Counter\n",
    "\n",
    "class Solution:\n",
    "    def reorganizeString(self, S: str) -> str:\n",
    "        if S is None or len(S) == 0:\n",
    "            return ''\n",
    "        \n",
    "        chr_cnt = Counter(S)\n",
    "        pq = [(-v, k) for k, v in chr_cnt.items()]\n",
    "        heapq.heapify(pq)\n",
    "        if pq[0][0] + 1 < sum(pq[i][0] for i in range(1, len(pq))):\n",
    "            return ''\n",
    "        \n",
    "        pre_cnt, pre_chr = heapq.heappop(pq)\n",
    "        ans = [pre_chr]\n",
    "        while pq:\n",
    "            cur_cnt, cur_chr = heapq.heappop(pq)\n",
    "            ans.append(cur_chr)\n",
    "            if pre_cnt < -1:\n",
    "                heapq.heappush(pq, (pre_cnt+1, pre_chr))\n",
    "            pre_cnt, pre_chr = cur_cnt, cur_chr\n",
    "        return ''.join(ans)"
   ]
  }
 ],
 "metadata": {
  "kernelspec": {
   "display_name": "Python 3",
   "language": "python",
   "name": "python3"
  },
  "language_info": {
   "codemirror_mode": {
    "name": "ipython",
    "version": 3
   },
   "file_extension": ".py",
   "mimetype": "text/x-python",
   "name": "python",
   "nbconvert_exporter": "python",
   "pygments_lexer": "ipython3",
   "version": "3.7.5"
  }
 },
 "nbformat": 4,
 "nbformat_minor": 2
}
