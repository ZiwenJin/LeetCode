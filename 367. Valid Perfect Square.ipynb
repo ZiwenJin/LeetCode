{
 "cells": [
  {
   "cell_type": "markdown",
   "metadata": {},
   "source": [
    "- Easy\n",
    "- 1.) binary search\n",
    "- 2.) 牛顿法"
   ]
  },
  {
   "cell_type": "code",
   "execution_count": null,
   "metadata": {
    "collapsed": true
   },
   "outputs": [],
   "source": [
    "class Solution(object):\n",
    "    def isPerfectSquare(self, num):\n",
    "        \"\"\"\n",
    "        :type num: int\n",
    "        :rtype: bool\n",
    "        \"\"\"\n",
    "        if num < 0:\n",
    "            return False\n",
    "        \n",
    "        xn = num\n",
    "        while xn*xn > num:\n",
    "            xn = (xn + num//xn) // 2\n",
    "        return xn*xn == num\n",
    "        \n",
    "        # low, high = 0, num\n",
    "        # while low <= high:\n",
    "        #     mid = (low + high) // 2\n",
    "        #     mid_2 = mid * mid\n",
    "        #     if mid_2 < num:\n",
    "        #         low = mid + 1\n",
    "        #     elif mid_2 > num:\n",
    "        #         high = mid - 1\n",
    "        #     else:\n",
    "        #         return True\n",
    "        # return False"
   ]
  }
 ],
 "metadata": {
  "kernelspec": {
   "display_name": "Python [default]",
   "language": "python",
   "name": "python3"
  },
  "language_info": {
   "codemirror_mode": {
    "name": "ipython",
    "version": 3
   },
   "file_extension": ".py",
   "mimetype": "text/x-python",
   "name": "python",
   "nbconvert_exporter": "python",
   "pygments_lexer": "ipython3",
   "version": "3.5.2"
  }
 },
 "nbformat": 4,
 "nbformat_minor": 2
}
