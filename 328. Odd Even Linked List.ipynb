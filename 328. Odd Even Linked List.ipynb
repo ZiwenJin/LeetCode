{
 "cells": [
  {
   "cell_type": "markdown",
   "metadata": {},
   "source": [
    "- Medium\n",
    "- 这题很直观, 就用两个head来分别存odd和even的nodes, 然后再连起来"
   ]
  },
  {
   "cell_type": "code",
   "execution_count": null,
   "metadata": {
    "collapsed": true
   },
   "outputs": [],
   "source": [
    "# Definition for singly-linked list.\n",
    "# class ListNode(object):\n",
    "#     def __init__(self, x):\n",
    "#         self.val = x\n",
    "#         self.next = None\n",
    "\n",
    "class Solution(object):\n",
    "    def oddEvenList(self, head):\n",
    "        \"\"\"\n",
    "        :type head: ListNode\n",
    "        :rtype: ListNode\n",
    "        \"\"\"\n",
    "        if not head or not head.next:\n",
    "            return head\n",
    "        \n",
    "        dummy1, dummy2 = ListNode(-1), ListNode(-1)\n",
    "        tmp1, tmp2 = dummy1, dummy2\n",
    "        cur = head\n",
    "        while cur and cur.next:\n",
    "            nxt = cur.next.next\n",
    "            tmp1.next, tmp2.next = cur, cur.next\n",
    "            tmp1, tmp2 = tmp1.next, tmp2.next\n",
    "            cur = nxt\n",
    "            \n",
    "        if cur:\n",
    "            tmp1.next = cur\n",
    "            tmp1 = tmp1.next\n",
    "            tmp2.next = None\n",
    "            \n",
    "        tmp1.next = dummy2.next\n",
    "        return dummy1.next"
   ]
  }
 ],
 "metadata": {
  "kernelspec": {
   "display_name": "Python [default]",
   "language": "python",
   "name": "python3"
  },
  "language_info": {
   "codemirror_mode": {
    "name": "ipython",
    "version": 3
   },
   "file_extension": ".py",
   "mimetype": "text/x-python",
   "name": "python",
   "nbconvert_exporter": "python",
   "pygments_lexer": "ipython3",
   "version": "3.5.2"
  }
 },
 "nbformat": 4,
 "nbformat_minor": 2
}
