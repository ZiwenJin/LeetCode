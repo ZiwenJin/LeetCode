{
 "cells": [
  {
   "cell_type": "markdown",
   "metadata": {},
   "source": [
    "- dfs\n",
    "- 和Course Schedule类似, visited记录三种marks"
   ]
  },
  {
   "cell_type": "code",
   "execution_count": null,
   "metadata": {},
   "outputs": [],
   "source": [
    "class Solution:\n",
    "    def findOrder(self, numCourses: int, prerequisites: List[List[int]]) -> List[int]:\n",
    "        def dfs(k):\n",
    "            if visited[k] == -1:  # temporary mark\n",
    "                return False\n",
    "            if visited[k] == 1:  # permanent mark\n",
    "                return True\n",
    "            visited[k] = -1\n",
    "            for nn in neig[k]:\n",
    "                if dfs(nn) is False:\n",
    "                    return False\n",
    "            visited[k] = 1\n",
    "            order.append(k)  # k没有还未遍历过的neig\n",
    "            return True\n",
    "            \n",
    "        # neig and indegree\n",
    "        neig = [[] for _ in range(numCourses)]\n",
    "        for pr in prerequisites:\n",
    "            neig[pr[1]].append(pr[0])\n",
    "            \n",
    "        # dfs\n",
    "        order = []  # a stack, 用来反向记录visit的顺序\n",
    "        visited = [0 for _ in range(numCourses)]\n",
    "        for i in range(numCourses):\n",
    "            if dfs(i) is False:\n",
    "                return []\n",
    "        return order[::-1]"
   ]
  },
  {
   "cell_type": "markdown",
   "metadata": {},
   "source": [
    "- bfs\n",
    "- 和Course Schedule类似"
   ]
  },
  {
   "cell_type": "code",
   "execution_count": null,
   "metadata": {},
   "outputs": [],
   "source": [
    "from collections import deque\n",
    "\n",
    "class Solution:\n",
    "    def findOrder(self, numCourses: int, prerequisites: List[List[int]]) -> List[int]:\n",
    "        # neig and indegree\n",
    "        neig = [[] for _ in range(numCourses)]\n",
    "        indegree = [0 for _ in range(numCourses)]\n",
    "        for pr in prerequisites:\n",
    "            neig[pr[1]].append(pr[0])\n",
    "            indegree[pr[0]] += 1\n",
    "            \n",
    "        # bfs\n",
    "        # queue记录可以学的课, 初始包含所有root node\n",
    "        queue = deque([i for i, e in enumerate(indegree) if e == 0])\n",
    "        order = []\n",
    "        while queue:\n",
    "            # 开始学这门 ...\n",
    "            cur_learn = queue.popleft()\n",
    "            order.append(cur_learn)\n",
    "            # ... 学了这门后, 后续的课的依赖减1 ...\n",
    "            for nn in neig[cur_learn]:\n",
    "                indegree[nn] -= 1\n",
    "                # ... 依赖减完后, 就可以加入queue里等待学习了\n",
    "                if indegree[nn] == 0:\n",
    "                    queue.append(nn)\n",
    "        return order if len(order) == numCourses else []  # 条件不满足说明存在cycle, 无法学习"
   ]
  },
  {
   "cell_type": "code",
   "execution_count": null,
   "metadata": {},
   "outputs": [],
   "source": []
  }
 ],
 "metadata": {
  "kernelspec": {
   "display_name": "Python 3",
   "language": "python",
   "name": "python3"
  },
  "language_info": {
   "codemirror_mode": {
    "name": "ipython",
    "version": 3
   },
   "file_extension": ".py",
   "mimetype": "text/x-python",
   "name": "python",
   "nbconvert_exporter": "python",
   "pygments_lexer": "ipython3",
   "version": "3.7.5"
  }
 },
 "nbformat": 4,
 "nbformat_minor": 2
}
