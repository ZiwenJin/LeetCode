{
 "cells": [
  {
   "cell_type": "markdown",
   "metadata": {},
   "source": [
    "- Medium"
   ]
  },
  {
   "cell_type": "markdown",
   "metadata": {},
   "source": [
    "- sliding window, 2 pointers\n",
    "- r不断往右移, 每当cur_sum>=s, 右移l\n",
    "- TC=O(N)"
   ]
  },
  {
   "cell_type": "code",
   "execution_count": null,
   "metadata": {},
   "outputs": [],
   "source": [
    "class Solution:\n",
    "    def minSubArrayLen(self, s: int, nums: List[int]) -> int:\n",
    "        N = len(nums)\n",
    "        l = 0\n",
    "        cur_sum = 0\n",
    "        min_size = N + 1\n",
    "        for r in range(N):\n",
    "            cur_sum += nums[r]\n",
    "            if cur_sum >= s:\n",
    "                while cur_sum >= s:\n",
    "                    cur_sum -= nums[l]\n",
    "                    l += 1\n",
    "                min_size = min(min_size, r-l+2)\n",
    "        return 0 if min_size == N + 1 else min_size  # 如果ans没更新过, 说明不存在"
   ]
  },
  {
   "cell_type": "markdown",
   "metadata": {},
   "source": [
    "- 遍历 + binary search\n",
    "- 先保存一个cumulative sums, 遍历的时候通过binary search去找是否存在以当前位开始的subarray\n",
    "- TC=O(N*logN)"
   ]
  },
  {
   "cell_type": "code",
   "execution_count": null,
   "metadata": {},
   "outputs": [],
   "source": [
    "import bisect\n",
    "\n",
    "class Solution:\n",
    "    def minSubArrayLen(self, s: int, nums: List[int]) -> int:\n",
    "        N = len(nums)\n",
    "        \n",
    "        # cumulative sums\n",
    "        cum_sum = [0] * (N + 1)\n",
    "        for i in range(1, N+1):\n",
    "            cum_sum[i] = cum_sum[i-1] + nums[i-1]\n",
    "            \n",
    "        ans = N + 1\n",
    "        for i in range(N):\n",
    "            target = s + cum_sum[i]  # 目标值每次都有变化, 但difference不变\n",
    "            target_index = bisect.bisect_left(cum_sum[i+1:], target)  # binary search\n",
    "            if target_index == N - i:  # 如果某次找不到这样的subarry, 可以提前break, 因为都是pos. numbers, 后面更加达不到s\n",
    "                break\n",
    "            ans = min(ans, target_index + 1)  # 找到了就update ans\n",
    "        return 0 if ans == N + 1 else ans  # 如果ans没更新过, 说明不存在"
   ]
  }
 ],
 "metadata": {
  "kernelspec": {
   "display_name": "Python 3",
   "language": "python",
   "name": "python3"
  },
  "language_info": {
   "codemirror_mode": {
    "name": "ipython",
    "version": 3
   },
   "file_extension": ".py",
   "mimetype": "text/x-python",
   "name": "python",
   "nbconvert_exporter": "python",
   "pygments_lexer": "ipython3",
   "version": "3.7.5"
  }
 },
 "nbformat": 4,
 "nbformat_minor": 2
}
