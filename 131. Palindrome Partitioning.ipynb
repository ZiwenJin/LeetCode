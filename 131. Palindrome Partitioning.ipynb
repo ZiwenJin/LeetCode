{
 "cells": [
  {
   "cell_type": "markdown",
   "metadata": {},
   "source": [
    "- Medium\n",
    "- backtrack\n",
    "- 终止条件是offset到头\n",
    "- DFS时, 不断看substring, 如果前面是palindrome, 那就走一步, 递归, 再回一步\n",
    "- 可以记录一个is_pal_dict, 加速is_pal判断"
   ]
  },
  {
   "cell_type": "code",
   "execution_count": 8,
   "metadata": {},
   "outputs": [],
   "source": [
    "class Solution:\n",
    "    def partition(self, s: str) -> List[List[str]]:\n",
    "        def backtrack(tmp, offset):\n",
    "            if offset == N:\n",
    "                ans.append(tmp[:])\n",
    "            else:\n",
    "                for i, e in enumerate(s[offset:], offset):\n",
    "                    if is_pal(s[offset:i+1]):\n",
    "                        tmp.append(s[offset:i+1])\n",
    "                        backtrack(tmp, i+1)\n",
    "                        tmp.pop()\n",
    "                        \n",
    "        def is_pal(string):\n",
    "            if string in is_pal_dict:\n",
    "                return is_pal_dict[string]\n",
    "            \n",
    "            start, end = 0, len(string) - 1\n",
    "            while start < end:\n",
    "                if string[start] != string[end]:\n",
    "                    result = False\n",
    "                    break\n",
    "                start += 1\n",
    "                end -= 1\n",
    "            else:\n",
    "                result = True\n",
    "            is_pal_dict[string] = result\n",
    "            return result\n",
    "        \n",
    "        ans = []\n",
    "        N = len(s)\n",
    "        is_pal_dict = dict()\n",
    "        backtrack([], 0)\n",
    "        return ans"
   ]
  },
  {
   "cell_type": "code",
   "execution_count": 11,
   "metadata": {},
   "outputs": [
    {
     "name": "stdout",
     "output_type": "stream",
     "text": [
      "[] 0\n",
      "['a'] 1\n",
      "['a', 'a'] 2\n",
      "['a', 'a', 'b'] 3\n",
      "['a', 'a', 'b', 'a'] 4\n",
      "['a', 'aba'] 4\n",
      "['aa'] 2\n",
      "['aa', 'b'] 3\n",
      "['aa', 'b', 'a'] 4\n"
     ]
    },
    {
     "data": {
      "text/plain": [
       "[['a', 'a', 'b', 'a'], ['a', 'aba'], ['aa', 'b', 'a']]"
      ]
     },
     "execution_count": 11,
     "metadata": {},
     "output_type": "execute_result"
    }
   ],
   "source": [
    "s = Solution()\n",
    "s.partition('aaba')"
   ]
  },
  {
   "cell_type": "code",
   "execution_count": null,
   "metadata": {},
   "outputs": [],
   "source": []
  }
 ],
 "metadata": {
  "kernelspec": {
   "display_name": "Python 3",
   "language": "python",
   "name": "python3"
  },
  "language_info": {
   "codemirror_mode": {
    "name": "ipython",
    "version": 3
   },
   "file_extension": ".py",
   "mimetype": "text/x-python",
   "name": "python",
   "nbconvert_exporter": "python",
   "pygments_lexer": "ipython3",
   "version": "3.7.5"
  }
 },
 "nbformat": 4,
 "nbformat_minor": 2
}
