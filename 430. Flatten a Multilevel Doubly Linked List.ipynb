{
 "cells": [
  {
   "cell_type": "markdown",
   "metadata": {},
   "source": [
    "- Medium\n",
    "- 递归. 当碰到某node有child时, 就递归, 返回的是子LL的start和end, 然后就可以会当前的LL拼起来\n",
    "- 注意没有next而有child的情况"
   ]
  },
  {
   "cell_type": "code",
   "execution_count": null,
   "metadata": {},
   "outputs": [],
   "source": [
    "\"\"\"\n",
    "# Definition for a Node.\n",
    "class Node:\n",
    "    def __init__(self, val, prev, next, child):\n",
    "        self.val = val\n",
    "        self.prev = prev\n",
    "        self.next = next\n",
    "        self.child = child\n",
    "\"\"\"\n",
    "class Solution:\n",
    "    def flatten(self, head: 'Node') -> 'Node':\n",
    "        def recursive(node):\n",
    "            if node is None:\n",
    "                return None, None\n",
    "            \n",
    "            start, end = node, node\n",
    "            while end:\n",
    "                nxt = end.next\n",
    "                if end.child is not None:\n",
    "                    sub_start, sub_end = recursive(end.child)\n",
    "                    end.child = None\n",
    "                    end.next = sub_start\n",
    "                    sub_start.prev = end\n",
    "                    sub_end.next = nxt\n",
    "                    if nxt is None:\n",
    "                        return start, sub_end\n",
    "                    nxt.prev = sub_end\n",
    "                    end = nxt\n",
    "                if nxt is None:\n",
    "                    return start, end\n",
    "                end = nxt\n",
    "        \n",
    "        return recursive(head)[0]"
   ]
  }
 ],
 "metadata": {
  "kernelspec": {
   "display_name": "Python 3",
   "language": "python",
   "name": "python3"
  },
  "language_info": {
   "codemirror_mode": {
    "name": "ipython",
    "version": 3
   },
   "file_extension": ".py",
   "mimetype": "text/x-python",
   "name": "python",
   "nbconvert_exporter": "python",
   "pygments_lexer": "ipython3",
   "version": "3.5.2"
  }
 },
 "nbformat": 4,
 "nbformat_minor": 2
}
