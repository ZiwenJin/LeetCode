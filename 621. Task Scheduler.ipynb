{
 "cells": [
  {
   "cell_type": "markdown",
   "metadata": {},
   "source": [
    "- Medium"
   ]
  },
  {
   "cell_type": "markdown",
   "metadata": {},
   "source": [
    "- 算是数学解法, 根据schedule逻辑出发, 答案应该是#(tasks) + #(idle slots)\n",
    "- 先排最多的tasks, 然后在后面跟着的idle slots内插入其他task\n",
    "- 如果idle slots不够用, 那直接在后面接上其他tasks即可, 不会打破cooldown规则, 且答案就是tasks的总数量\n",
    "- 看Solution的Approach #3 Calculating Idle slots https://leetcode.com/problems/task-scheduler/solution/"
   ]
  },
  {
   "cell_type": "code",
   "execution_count": null,
   "metadata": {},
   "outputs": [],
   "source": [
    "from collections import Counter\n",
    "\n",
    "class Solution:\n",
    "    def leastInterval(self, tasks: List[str], n: int) -> int:\n",
    "        task_cnt = Counter(tasks)\n",
    "        task_cnt = sorted(task_cnt.values(), reverse=True)\n",
    "        max_cnt = task_cnt[0] - 1  # 最后一次做完就结束了, 不需要跟idle slots\n",
    "        idle_slots = max_cnt * n  # idle slots的数量\n",
    "        for cnt in task_cnt[1:]:\n",
    "            idle_slots -= min(max_cnt, cnt)\n",
    "            if idle_slots <= 0:  # 若idle slots不够用, 则直接返回#(tasks)\n",
    "                return len(tasks)\n",
    "        return len(tasks) + idle_slots"
   ]
  },
  {
   "cell_type": "markdown",
   "metadata": {},
   "source": [
    "- PriorityQueue\n",
    "- 以一个cooldown为周期进行循环, 按各task数量从大到小抽取\n",
    "- 每次循环前有两种情况\n",
    "> 1. 最大数量的task唯一, 则当前循环其第一个被抽取, 且到下一回合该task数量仍然最大 (但不一定唯一了), 仍可在第一个执行\n",
    "> 2. 最大数量的task不唯一, 则这些tasks会先被抽取, 到下一回合可能仍然是最大, 可以继续如此抽取, 也可能不是最大 (说明在一个cooldown内没跑完), 那就开始抽取其余那些没跑的"
   ]
  },
  {
   "cell_type": "code",
   "execution_count": null,
   "metadata": {},
   "outputs": [],
   "source": [
    "import heapq\n",
    "from collections import Counter\n",
    "\n",
    "class Solution:\n",
    "    def leastInterval(self, tasks: List[str], n: int) -> int:\n",
    "        task_cnt = Counter(tasks).values()\n",
    "        pq = []\n",
    "        for c in task_cnt:\n",
    "            heapq.heappush(pq, -c)  # min-heap\n",
    "            \n",
    "        ans = 0\n",
    "        while pq:\n",
    "            cd = 0\n",
    "            temp = []\n",
    "            while cd <= n:  # 以每个cooldown周期循环\n",
    "                if pq:\n",
    "                    if pq[0] < -1:  # 如果不是最后一次, 那先放进temp, 循环结束后放回heap\n",
    "                        temp.append(heapq.heappop(pq) + 1)\n",
    "                    else:\n",
    "                        heapq.heappop(pq)\n",
    "                ans += 1  # 1). 做一个task, 2). 当前没task可做, idle (未进入上面if)\n",
    "                if len(pq) == 0 and len(temp) == 0:  # 最后一次循环时有[1, n]个还剩1次的tasks, 所以每次heappop不会进入temp\n",
    "                    break\n",
    "                cd += 1\n",
    "            # 放回heap\n",
    "            for t in temp:\n",
    "                heapq.heappush(pq, t)\n",
    "        return ans"
   ]
  }
 ],
 "metadata": {
  "kernelspec": {
   "display_name": "Python 3",
   "language": "python",
   "name": "python3"
  },
  "language_info": {
   "codemirror_mode": {
    "name": "ipython",
    "version": 3
   },
   "file_extension": ".py",
   "mimetype": "text/x-python",
   "name": "python",
   "nbconvert_exporter": "python",
   "pygments_lexer": "ipython3",
   "version": "3.7.5"
  }
 },
 "nbformat": 4,
 "nbformat_minor": 2
}
