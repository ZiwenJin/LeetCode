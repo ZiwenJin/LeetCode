{
 "cells": [
  {
   "cell_type": "markdown",
   "metadata": {},
   "source": [
    "- Medium\n",
    "- bruteforce就是每遍历一个新元素, 将加和不加的都更新上去\n",
    "- backtrack的核心是用一个tmp (list) 记录DFS的path状态\n",
    "- 注意.copy(), 由于python传参传的是引用, 且list是mutable, 所以如果不复制一个, 会导致最终tmp pop回[], 则返回结果里就全是[]. 感觉递推要注意这点"
   ]
  },
  {
   "cell_type": "code",
   "execution_count": 74,
   "metadata": {},
   "outputs": [],
   "source": [
    "class Solution:\n",
    "    def subsets(self, nums):\n",
    "        global ans\n",
    "        # solution 2: backtrack\n",
    "        def backtrack(tmp, nums, offset):\n",
    "            ans.append(tmp.copy())\n",
    "            for i in range(offset, len(nums)):\n",
    "                tmp.append(nums[i])\n",
    "                backtrack(tmp, nums, i+1)\n",
    "                tmp.pop()\n",
    "        \n",
    "        ans = []\n",
    "        backtrack([], nums, 0)\n",
    "        return ans\n",
    "        \n",
    "        \n",
    "        # # Solution 1: bruteforce\n",
    "        # ans = [[]]\n",
    "        # for n in nums:\n",
    "        #     ans += [a + [n] for a in ans]\n",
    "        # return ans"
   ]
  },
  {
   "cell_type": "code",
   "execution_count": 75,
   "metadata": {},
   "outputs": [
    {
     "data": {
      "text/plain": [
       "[[], [0], [0, 1], [0, 1, 2], [0, 2], [1], [1, 2], [2]]"
      ]
     },
     "execution_count": 75,
     "metadata": {},
     "output_type": "execute_result"
    }
   ],
   "source": [
    "s = Solution()\n",
    "s.subsets([0,1,2])"
   ]
  },
  {
   "cell_type": "code",
   "execution_count": null,
   "metadata": {},
   "outputs": [],
   "source": []
  },
  {
   "cell_type": "code",
   "execution_count": null,
   "metadata": {},
   "outputs": [],
   "source": []
  },
  {
   "cell_type": "code",
   "execution_count": 93,
   "metadata": {},
   "outputs": [],
   "source": [
    "def subsets(nums):\n",
    "    def backtrack(tmp, nums, offset):\n",
    "        ans.append(tmp.copy())\n",
    "        for i in range(offset, len(nums)):\n",
    "            tmp.append(nums[i])\n",
    "            backtrack(tmp, nums, i+1)\n",
    "            tmp.pop()\n",
    "\n",
    "    ans = []\n",
    "    backtrack([], nums, 0)\n",
    "    return ans\n",
    "\n",
    "def subsets2(nums):\n",
    "    def backtrack(tmp, nums, offset):\n",
    "        ans.append(tmp)\n",
    "        print(tmp, id(tmp))\n",
    "        for i in range(offset, len(nums)):\n",
    "            tmp.append(nums[i])\n",
    "            backtrack(tmp, nums, i+1)\n",
    "            tmp.pop()\n",
    "\n",
    "    ans = []\n",
    "    backtrack([], nums, 0)\n",
    "    return ans"
   ]
  },
  {
   "cell_type": "code",
   "execution_count": 94,
   "metadata": {},
   "outputs": [
    {
     "name": "stdout",
     "output_type": "stream",
     "text": [
      "[] 4455917600\n",
      "[0] 4455917600\n",
      "[0, 1] 4455917600\n",
      "[1] 4455917600\n"
     ]
    },
    {
     "data": {
      "text/plain": [
       "[[], [], [], []]"
      ]
     },
     "execution_count": 94,
     "metadata": {},
     "output_type": "execute_result"
    }
   ],
   "source": [
    "subsets2([0,1])"
   ]
  },
  {
   "cell_type": "code",
   "execution_count": null,
   "metadata": {},
   "outputs": [],
   "source": []
  },
  {
   "cell_type": "code",
   "execution_count": 100,
   "metadata": {},
   "outputs": [
    {
     "name": "stdout",
     "output_type": "stream",
     "text": [
      "4419075872\n",
      "4419075872\n"
     ]
    }
   ],
   "source": [
    "def shadiao(a):\n",
    "    print(id(a))\n",
    "    \n",
    "print(id(1))\n",
    "shadiao(1)"
   ]
  },
  {
   "cell_type": "code",
   "execution_count": null,
   "metadata": {},
   "outputs": [],
   "source": []
  }
 ],
 "metadata": {
  "kernelspec": {
   "display_name": "Python 3",
   "language": "python",
   "name": "python3"
  },
  "language_info": {
   "codemirror_mode": {
    "name": "ipython",
    "version": 3
   },
   "file_extension": ".py",
   "mimetype": "text/x-python",
   "name": "python",
   "nbconvert_exporter": "python",
   "pygments_lexer": "ipython3",
   "version": "3.7.5"
  }
 },
 "nbformat": 4,
 "nbformat_minor": 2
}
