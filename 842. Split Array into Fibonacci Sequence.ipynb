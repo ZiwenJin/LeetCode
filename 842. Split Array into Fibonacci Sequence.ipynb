{
 "cells": [
  {
   "cell_type": "markdown",
   "metadata": {},
   "source": [
    "- Medium\n",
    "- 核心是确定开始两个数后, 就暴力判断后续数字是否存在\n",
    "- 限制每个数的长度, 10位, 及大小, 2**31-1\n",
    "- 不做大小判断, \"539834657215398346785398346991079669377161950407626991734534318677529701785098211336528511\"不会返回[]\n",
    "- 两个for由于都是遍历十个, 所以总的TC为O(10*10*N), 即O(N)"
   ]
  },
  {
   "cell_type": "code",
   "execution_count": 24,
   "metadata": {},
   "outputs": [],
   "source": [
    "class Solution:\n",
    "    def splitIntoFibonacci(self, S: str):\n",
    "        if S is None or len(S) <= 2:\n",
    "            return []\n",
    "        \n",
    "        max_val = 2 ** 31 - 1  # 有10位, 但后续还是需要对数字的大小进行判断\n",
    "        \n",
    "        # 由于最大值是2^31-1, 所以i, j可以限制在10位内\n",
    "        for i in range(1, 11):\n",
    "            if S[0] == '0' and i > 1:\n",
    "                break\n",
    "            for j in range(1, 11):\n",
    "                if (i+j > len(S)) or (S[i] == '0' and j > 1) or (int(S[:i]) > max_val) or (int(S[i:i+j]) > max_val):\n",
    "                    break\n",
    "                ans = [int(S[:i]), int(S[i:i+j])]  # 对于任意两个起始值, 进行Fib判断\n",
    "                k = i + j  # 下一个数的起始index\n",
    "                following = ans[-2] + ans[-1]\n",
    "                following_s = str(following)\n",
    "                while S[k:].startswith(following_s):\n",
    "                    ans.append(following)\n",
    "                    k += len(following_s)\n",
    "                    following = ans[-2] + ans[-1]\n",
    "                    if following > max_val:\n",
    "                        break\n",
    "                    following_s = str(following)\n",
    "                if len(ans) > 2 and k == len(S):  # 若FibSeq大于两个, 且正好在S末尾结束, 则符合要求\n",
    "                    return ans\n",
    "        return []"
   ]
  },
  {
   "cell_type": "code",
   "execution_count": 25,
   "metadata": {},
   "outputs": [
    {
     "data": {
      "text/plain": [
       "[]"
      ]
     },
     "execution_count": 25,
     "metadata": {},
     "output_type": "execute_result"
    }
   ],
   "source": [
    "s = Solution()\n",
    "s.splitIntoFibonacci(\"539834657215398346785398346991079669377161950407626991734534318677529701785098211336528511\")"
   ]
  },
  {
   "cell_type": "code",
   "execution_count": null,
   "metadata": {},
   "outputs": [],
   "source": []
  }
 ],
 "metadata": {
  "kernelspec": {
   "display_name": "Python 3",
   "language": "python",
   "name": "python3"
  },
  "language_info": {
   "codemirror_mode": {
    "name": "ipython",
    "version": 3
   },
   "file_extension": ".py",
   "mimetype": "text/x-python",
   "name": "python",
   "nbconvert_exporter": "python",
   "pygments_lexer": "ipython3",
   "version": "3.7.5"
  }
 },
 "nbformat": 4,
 "nbformat_minor": 2
}
