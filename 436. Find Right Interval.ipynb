{
 "cells": [
  {
   "cell_type": "markdown",
   "metadata": {},
   "source": [
    "- Medium\n",
    "- 用bisect, 对每个interval的end, bisect_left出位置, 如果是最后一位, 说明没有比这end大的start, 返回-1\n",
    "- 注意sort list里的内容是(start_point, index), tuple是按其元素依次比较的"
   ]
  },
  {
   "cell_type": "code",
   "execution_count": null,
   "metadata": {},
   "outputs": [],
   "source": [
    "class Solution:\n",
    "    def findRightInterval(self, intervals: List[List[int]]) -> List[int]:\n",
    "        import bisect\n",
    "        \n",
    "        start_point_list = [(interval[0], i) for i, interval in enumerate(intervals)]\n",
    "        start_point_list.sort()\n",
    "        \n",
    "        res = []\n",
    "        for interval in intervals:\n",
    "            find_index = bisect.bisect_left(start_point_list, (interval[1],))\n",
    "            res.append(start_point_list[find_index][1] if find_index < len(start_point_list) else -1)\n",
    "        return res"
   ]
  }
 ],
 "metadata": {
  "kernelspec": {
   "display_name": "Python 3",
   "language": "python",
   "name": "python3"
  },
  "language_info": {
   "codemirror_mode": {
    "name": "ipython",
    "version": 3
   },
   "file_extension": ".py",
   "mimetype": "text/x-python",
   "name": "python",
   "nbconvert_exporter": "python",
   "pygments_lexer": "ipython3",
   "version": "3.5.2"
  }
 },
 "nbformat": 4,
 "nbformat_minor": 2
}
