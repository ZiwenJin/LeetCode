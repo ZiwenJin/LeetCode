{
 "cells": [
  {
   "cell_type": "markdown",
   "metadata": {},
   "source": [
    "- Medium\n",
    "- 用cycle (https://leetcode.com/problems/linked-list-cycle-ii/solution/)\n",
    "- 先用slow和fast找到相遇点, 该点有可能是相同值的不同位置, 那就是答案, 也可能只是同一点\n",
    "- 所以需要再找到cycle入口, 那才肯定是答案"
   ]
  },
  {
   "cell_type": "code",
   "execution_count": null,
   "metadata": {},
   "outputs": [],
   "source": [
    "class Solution:\n",
    "    def findDuplicate(self, nums):\n",
    "        slow = nums[0]\n",
    "        fast = nums[0]\n",
    "        while True:\n",
    "            slow = nums[slow]\n",
    "            fast = nums[nums[fast]]\n",
    "            if slow == fast:\n",
    "                break\n",
    "            \n",
    "        pt1 = nums[0]\n",
    "        pt2 = slow\n",
    "        while pt1 != pt2:\n",
    "            pt1 = nums[pt1]\n",
    "            pt2 = nums[pt2]\n",
    "        return pt1"
   ]
  }
 ],
 "metadata": {
  "kernelspec": {
   "display_name": "Python 3",
   "language": "python",
   "name": "python3"
  },
  "language_info": {
   "codemirror_mode": {
    "name": "ipython",
    "version": 3
   },
   "file_extension": ".py",
   "mimetype": "text/x-python",
   "name": "python",
   "nbconvert_exporter": "python",
   "pygments_lexer": "ipython3",
   "version": "3.5.2"
  }
 },
 "nbformat": 4,
 "nbformat_minor": 2
}
