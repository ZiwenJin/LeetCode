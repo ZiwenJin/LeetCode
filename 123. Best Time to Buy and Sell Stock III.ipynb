{
 "cells": [
  {
   "cell_type": "markdown",
   "metadata": {},
   "source": [
    "- Hard\n",
    "- 扩展成任意固定次交易的最优解\n",
    "- 核心在于里面的for, 即每一次交易是基于上一次卖出后的本金\n",
    "- 下面例子中, bought[i]/sold[i]对应的是当前行, 即prices的subarray, 进行i次交易的最优解\n",
    "- 其实从p4]=7开始, 1B1S和2B2S中的1B1S并不一样, 前者对应1买7卖, 后者对应1买4卖, 所以还能有2买7卖\n",
    "- 其实2B从p[2]=2开始就在记最新的2次买入价"
   ]
  },
  {
   "cell_type": "code",
   "execution_count": 1,
   "metadata": {},
   "outputs": [],
   "source": [
    "class Solution:\n",
    "    def maxProfit(self, prices):\n",
    "        if not prices:\n",
    "            return 0\n",
    "        \n",
    "        import sys\n",
    "        k = 2\n",
    "        bought = [sys.maxsize] * k\n",
    "        sold = [0] * k\n",
    "        print('p\\t1B\\t1S\\t2B\\t2S')\n",
    "        for p in prices:\n",
    "            bought[0] = min(bought[0], p)\n",
    "            sold[0] = max(sold[0], p - bought[0])  # 其实这里等价于bought[0] = p if p < bought[0] else sold[0] = max(sold[0], p - bought[0])\n",
    "            for i in range(1, k):\n",
    "                bought[i] = min(bought[i], p - sold[i-1])  # 从上一次卖出后的本金中扣去\n",
    "                sold[i] = max(sold[i], p - bought[i])\n",
    "            print('{}\\t'.format(p) + '\\t'.join([str(b)+'\\t'+str(s) for b, s in zip(bought, sold)]))\n",
    "        return sold[-1]\n",
    "        \n",
    "        # # 错误, 这时一笔交易内可以发生下跌\n",
    "        # # 如[1,2,4,2,5,7,2,4,9,0], 应该是1买7卖, 2买9卖\n",
    "        # i, profits = 0, []\n",
    "        # while i < len(prices)-1:\n",
    "        #     while (i < len(prices)-1) and (prices[i] >= prices[i+1]):\n",
    "        #         i += 1\n",
    "        #     buyin_price = prices[i]\n",
    "        #     while (i < len(prices)-1) and (prices[i] < prices[i+1]):\n",
    "        #         i += 1\n",
    "        #     profits.append(prices[i] - buyin_price)\n",
    "        # profits.sort()\n",
    "        # return sum(profits[-2:])"
   ]
  },
  {
   "cell_type": "code",
   "execution_count": 2,
   "metadata": {},
   "outputs": [
    {
     "name": "stdout",
     "output_type": "stream",
     "text": [
      "p\t1B\t1S\t2B\t2S\n",
      "1\t1\t0\t1\t0\n",
      "4\t1\t3\t1\t3\n",
      "2\t1\t3\t-1\t3\n",
      "1\t1\t3\t-2\t3\n",
      "7\t1\t6\t-2\t9\n",
      "2\t1\t6\t-4\t9\n",
      "9\t1\t8\t-4\t13\n"
     ]
    },
    {
     "data": {
      "text/plain": [
       "13"
      ]
     },
     "execution_count": 2,
     "metadata": {},
     "output_type": "execute_result"
    }
   ],
   "source": [
    "s = Solution()\n",
    "s.maxProfit([1,4,2,1,7,2,9])"
   ]
  }
 ],
 "metadata": {
  "kernelspec": {
   "display_name": "Python 3",
   "language": "python",
   "name": "python3"
  },
  "language_info": {
   "codemirror_mode": {
    "name": "ipython",
    "version": 3
   },
   "file_extension": ".py",
   "mimetype": "text/x-python",
   "name": "python",
   "nbconvert_exporter": "python",
   "pygments_lexer": "ipython3",
   "version": "3.5.2"
  }
 },
 "nbformat": 4,
 "nbformat_minor": 2
}
