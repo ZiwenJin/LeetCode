{
 "cells": [
  {
   "cell_type": "markdown",
   "metadata": {},
   "source": [
    "- Easy\n",
    "- Solution 1: preorder遍历, t的应该是s的一部分, 但需注意None结点和分隔符的使用\n",
    "- Solution 2: 用了两个recursion\n",
    "> 1. 为了traverse s来判断里面的每个结点\n",
    "> 2. 对于每个结点, 递归判断两个子树x, y是否相同"
   ]
  },
  {
   "cell_type": "code",
   "execution_count": null,
   "metadata": {},
   "outputs": [],
   "source": [
    "# Definition for a binary tree node.\n",
    "# class TreeNode:\n",
    "#     def __init__(self, x):\n",
    "#         self.val = x\n",
    "#         self.left = None\n",
    "#         self.right = None\n",
    "\n",
    "class Solution:\n",
    "    def isSubtree(self, s: TreeNode, t: TreeNode) -> bool:\n",
    "        # Solution 2: recursion\n",
    "        def equals(x, y):\n",
    "            if x is None and y is None:\n",
    "                return True\n",
    "            if x is None or y is None:\n",
    "                return False\n",
    "            return x.val == y.val and equals(x.left, y.left) and equals(x.right, y.right)\n",
    "        \n",
    "        def traverse(s, t):\n",
    "            return (s is not None) and (equals(s, t) or traverse(s.left, t) or traverse(s.right, t))\n",
    "        \n",
    "        return traverse(s, t)\n",
    "        \n",
    "        # # Solution 1: preorder\n",
    "        # def preorder(node):\n",
    "        #     if node is None:\n",
    "        #         return 'N'  # 需注明, 否则无法区分[1,2,3]和[1,2]\n",
    "        #     return ' ' + str(node.val) + ' ' + preorder(node.left) + ' ' + preorder(node.right)  # '#'和' '是为了防止val 12和val 1或2\n",
    "        # preorder_s = preorder(s)\n",
    "        # preorder_t = preorder(t)\n",
    "        # return preorder_t in preorder_s"
   ]
  }
 ],
 "metadata": {
  "kernelspec": {
   "display_name": "Python 3",
   "language": "python",
   "name": "python3"
  },
  "language_info": {
   "codemirror_mode": {
    "name": "ipython",
    "version": 3
   },
   "file_extension": ".py",
   "mimetype": "text/x-python",
   "name": "python",
   "nbconvert_exporter": "python",
   "pygments_lexer": "ipython3",
   "version": "3.7.5"
  }
 },
 "nbformat": 4,
 "nbformat_minor": 2
}
