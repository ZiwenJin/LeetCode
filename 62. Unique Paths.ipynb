{
 "cells": [
  {
   "cell_type": "markdown",
   "metadata": {},
   "source": [
    "- Medium\n",
    "- 核心就是当前 = 上 + 左\n",
    "- 可以仅保留两行结果"
   ]
  },
  {
   "cell_type": "code",
   "execution_count": null,
   "metadata": {},
   "outputs": [],
   "source": [
    "class Solution:\n",
    "    def uniquePaths(self, m: int, n: int) -> int:\n",
    "        prev_row = [1] * n\n",
    "        cur_row = [1] + [0] * (n-1)\n",
    "        for i in range(1, m):\n",
    "            for j in range(1, n):\n",
    "                cur_row[j] = cur_row[j-1] + prev_row[j]\n",
    "            prev_row = cur_row\n",
    "            cur_row = [1] + [0] * (n-1)\n",
    "        return prev_row[-1]"
   ]
  }
 ],
 "metadata": {
  "kernelspec": {
   "display_name": "Python 3",
   "language": "python",
   "name": "python3"
  },
  "language_info": {
   "codemirror_mode": {
    "name": "ipython",
    "version": 3
   },
   "file_extension": ".py",
   "mimetype": "text/x-python",
   "name": "python",
   "nbconvert_exporter": "python",
   "pygments_lexer": "ipython3",
   "version": "3.7.5"
  }
 },
 "nbformat": 4,
 "nbformat_minor": 2
}
