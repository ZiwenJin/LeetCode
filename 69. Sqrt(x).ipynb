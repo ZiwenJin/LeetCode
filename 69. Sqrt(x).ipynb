{
 "cells": [
  {
   "cell_type": "markdown",
   "metadata": {},
   "source": [
    "- Easy\n",
    "- 注意if的条件, elif中要用<=, 因为应该在>时return min"
   ]
  },
  {
   "cell_type": "code",
   "execution_count": null,
   "metadata": {
    "collapsed": true
   },
   "outputs": [],
   "source": [
    "class Solution(object):\n",
    "    def mySqrt(self, x):\n",
    "        \"\"\"\n",
    "        :type x: int\n",
    "        :rtype: int\n",
    "        \"\"\"\n",
    "        \n",
    "        # return int(x ** 0.5)\n",
    "        \n",
    "        low, high = 0, x\n",
    "        while low < high:\n",
    "            mid = (low + high) // 2\n",
    "            if mid ** 2 > x:\n",
    "                high = mid - 1\n",
    "            elif (mid + 1) ** 2 <= x:\n",
    "                low = mid + 1\n",
    "            else:\n",
    "                return mid\n",
    "        return low"
   ]
  }
 ],
 "metadata": {
  "kernelspec": {
   "display_name": "Python [default]",
   "language": "python",
   "name": "python3"
  },
  "language_info": {
   "codemirror_mode": {
    "name": "ipython",
    "version": 3
   },
   "file_extension": ".py",
   "mimetype": "text/x-python",
   "name": "python",
   "nbconvert_exporter": "python",
   "pygments_lexer": "ipython3",
   "version": "3.5.2"
  }
 },
 "nbformat": 4,
 "nbformat_minor": 2
}
