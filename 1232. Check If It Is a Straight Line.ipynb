{
 "cells": [
  {
   "cell_type": "markdown",
   "metadata": {},
   "source": [
    "- Easy\n",
    "- 算两点间的斜率\n",
    "- 原来的解法用了除法, 所以0还得特殊处理. 其实直接转成乘法就可以"
   ]
  },
  {
   "cell_type": "code",
   "execution_count": null,
   "metadata": {},
   "outputs": [],
   "source": [
    "class Solution:\n",
    "    def checkStraightLine(self, coordinates) -> bool:\n",
    "        if coordinates is None or len(coordinates) == 0:\n",
    "            return False\n",
    "        \n",
    "        if len(coordinates) <= 2:\n",
    "            return True\n",
    "        \n",
    "        # 对直线上任意三点, 两两间斜率相同\n",
    "        (p, q), (u, v) = coordinates[:2]\n",
    "        return all([(y-q)*(x-u) == (y-v)*(x-p) for x, y in coordinates[2:]])\n",
    "        \n",
    "        \n",
    "#         base_x, base_y = coordinates[0]\n",
    "#         delta_x, delta_y = [coordinates[1][i] - coordinates[0][i] for i in [0, 1]]\n",
    "#         if delta_x == 0:  # vertical line\n",
    "#             return all([p[0] == base_x for p in coordinates])\n",
    "        \n",
    "#         if delta_y == 0:  # horizontal line\n",
    "#             return all([p[1] == base_y for p in coordinates])\n",
    "        \n",
    "#         return all([(p[0] - base_x) / delta_x == (p[1] - base_y) / delta_y for p in coordinates[2:]])"
   ]
  }
 ],
 "metadata": {
  "kernelspec": {
   "display_name": "Python 3",
   "language": "python",
   "name": "python3"
  },
  "language_info": {
   "codemirror_mode": {
    "name": "ipython",
    "version": 3
   },
   "file_extension": ".py",
   "mimetype": "text/x-python",
   "name": "python",
   "nbconvert_exporter": "python",
   "pygments_lexer": "ipython3",
   "version": "3.7.5"
  }
 },
 "nbformat": 4,
 "nbformat_minor": 2
}
