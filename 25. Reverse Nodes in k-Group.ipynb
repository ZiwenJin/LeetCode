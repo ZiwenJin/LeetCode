{
 "cells": [
  {
   "cell_type": "markdown",
   "metadata": {},
   "source": [
    "- Hard\n",
    "- 先看后面还有没有k个node, 不足就直接return dummy.next (不是break, break只会break当前for, 然后继续执行下面代码)\n",
    "- 有k个node的话, 就把这部分反转.\n",
    "- 注意: 首位的连接关系, 以及cur最后是更新成start.next, 即当前部分反转后的末位"
   ]
  },
  {
   "cell_type": "code",
   "execution_count": null,
   "metadata": {
    "collapsed": true
   },
   "outputs": [],
   "source": [
    "# Definition for singly-linked list.\n",
    "# class ListNode(object):\n",
    "#     def __init__(self, x):\n",
    "#         self.val = x\n",
    "#         self.next = None\n",
    "\n",
    "class Solution(object):\n",
    "    def reverseKGroup(self, head, k):\n",
    "        \"\"\"\n",
    "        :type head: ListNode\n",
    "        :type k: int\n",
    "        :rtype: ListNode\n",
    "        \"\"\"\n",
    "        if k < 2 or not head:\n",
    "            return head\n",
    "        \n",
    "        dummy, dummy.next = ListNode(-1), head\n",
    "        cur = dummy\n",
    "        while cur:\n",
    "            tmp = cur\n",
    "            for i in range(k):\n",
    "                tmp = tmp.next\n",
    "                if not tmp:\n",
    "                    # break\n",
    "                    return dummy.next\n",
    "            \n",
    "            start = cur\n",
    "            prev, cur = cur.next, cur.next.next\n",
    "            for i in range(k-1):\n",
    "                prev, cur.next, cur = cur, prev, cur.next\n",
    "            start.next.next = cur\n",
    "            cur = start.next\n",
    "            start.next = prev\n",
    "        # return dummy.next"
   ]
  }
 ],
 "metadata": {
  "kernelspec": {
   "display_name": "Python [default]",
   "language": "python",
   "name": "python3"
  },
  "language_info": {
   "codemirror_mode": {
    "name": "ipython",
    "version": 3
   },
   "file_extension": ".py",
   "mimetype": "text/x-python",
   "name": "python",
   "nbconvert_exporter": "python",
   "pygments_lexer": "ipython3",
   "version": "3.5.2"
  }
 },
 "nbformat": 4,
 "nbformat_minor": 2
}
