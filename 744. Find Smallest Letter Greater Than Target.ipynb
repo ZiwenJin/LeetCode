{
 "cells": [
  {
   "cell_type": "markdown",
   "metadata": {},
   "source": [
    "- Easy\n",
    "- 普通二分查找, 但由于可循环, 需要在一开始判断"
   ]
  },
  {
   "cell_type": "code",
   "execution_count": null,
   "metadata": {
    "collapsed": true
   },
   "outputs": [],
   "source": [
    "class Solution(object):\n",
    "    def nextGreatestLetter(self, letters, target):\n",
    "        \"\"\"\n",
    "        :type letters: List[str]\n",
    "        :type target: str\n",
    "        :rtype: str\n",
    "        \"\"\"\n",
    "        if target < letters[0] or target >= letters[-1]:\n",
    "            return letters[0]\n",
    "        \n",
    "        low, high = 0, len(letters)\n",
    "        while low < high:\n",
    "            mid = (low + high) // 2\n",
    "            if letters[mid-1] <= target < letters[mid]:\n",
    "                return letters[mid]\n",
    "            \n",
    "            if target < letters[mid-1]:\n",
    "                high = mid\n",
    "            else:\n",
    "                low = mid + 1"
   ]
  }
 ],
 "metadata": {
  "kernelspec": {
   "display_name": "Python [default]",
   "language": "python",
   "name": "python3"
  },
  "language_info": {
   "codemirror_mode": {
    "name": "ipython",
    "version": 3
   },
   "file_extension": ".py",
   "mimetype": "text/x-python",
   "name": "python",
   "nbconvert_exporter": "python",
   "pygments_lexer": "ipython3",
   "version": "3.5.2"
  }
 },
 "nbformat": 4,
 "nbformat_minor": 2
}
