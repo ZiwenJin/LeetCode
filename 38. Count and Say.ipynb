{
 "cells": [
  {
   "cell_type": "markdown",
   "metadata": {},
   "source": [
    "- Easy\n",
    "- 第一种用list存ans, 第二种用str存ans -> 第一种快很多, 可能是因为list是mutable, 不需要重新创建变量"
   ]
  },
  {
   "cell_type": "code",
   "execution_count": null,
   "metadata": {},
   "outputs": [],
   "source": [
    "# Runtime: 32 ms, beats 91.39%\n",
    "class Solution:\n",
    "    def countAndSay(self, n: int) -> str:\n",
    "        ans = ['1']\n",
    "        for _ in range(n-1):\n",
    "            new_ans = []\n",
    "            cur, cnt = ans[0], 1\n",
    "            for i, c in enumerate(ans[1:], 1):\n",
    "                if c == ans[i-1]:\n",
    "                    cnt += 1\n",
    "                else:\n",
    "                    new_ans += [str(cnt), cur]\n",
    "                    cur, cnt = c, 1\n",
    "            ans = new_ans + [str(cnt), cur]\n",
    "        return ''.join(ans)"
   ]
  },
  {
   "cell_type": "code",
   "execution_count": null,
   "metadata": {},
   "outputs": [],
   "source": [
    "# Runtime: 48 ms, beats 13.90%\n",
    "class Solution:\n",
    "    def countAndSay(self, n: int) -> str:\n",
    "        ans = '1'\n",
    "        for _ in range(n-1):\n",
    "            new_ans = ''\n",
    "            cur, cnt = ans[0], 1\n",
    "            for i, c in enumerate(ans[1:], 1):\n",
    "                if c == ans[i-1]:\n",
    "                    cnt += 1\n",
    "                else:\n",
    "                    new_ans += str(cnt) + cur\n",
    "                    cur, cnt = c, 1\n",
    "            ans = new_ans + str(cnt) + cur\n",
    "        return ans"
   ]
  }
 ],
 "metadata": {
  "kernelspec": {
   "display_name": "Python 3",
   "language": "python",
   "name": "python3"
  },
  "language_info": {
   "codemirror_mode": {
    "name": "ipython",
    "version": 3
   },
   "file_extension": ".py",
   "mimetype": "text/x-python",
   "name": "python",
   "nbconvert_exporter": "python",
   "pygments_lexer": "ipython3",
   "version": "3.7.5"
  }
 },
 "nbformat": 4,
 "nbformat_minor": 2
}
