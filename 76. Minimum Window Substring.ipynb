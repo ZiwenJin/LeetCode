{
 "cells": [
  {
   "cell_type": "markdown",
   "metadata": {},
   "source": [
    "- Hard\n",
    "- sliding window的思路\n",
    "> 1. 先右边先不断扩充, 直到符合要求\n",
    "> 2. 然后把左边多余的去掉, 直到不符合要求, 重复step 1"
   ]
  },
  {
   "cell_type": "code",
   "execution_count": null,
   "metadata": {},
   "outputs": [],
   "source": [
    "from collections import Counter\n",
    "\n",
    "class Solution:\n",
    "    def minWindow(self, s: str, t: str) -> str:\n",
    "        N_S, N_T = len(s), len(t)\n",
    "        # base cases\n",
    "        if N_S < N_T:\n",
    "            return ''\n",
    "        if N_T == 1:\n",
    "            return t if t in s else ''\n",
    "        \n",
    "        target = Counter(t)  # count dict for each element in t\n",
    "        remain_c = len(target)  # 表示t内还有几种元素未包含\n",
    "        l, r = 0, 0\n",
    "        ans = (N_S+1, None, None)  # 最大的window也就N_S\n",
    "        \n",
    "        while r < N_S:\n",
    "            if s[r] in target:\n",
    "                target[s[r]] -= 1  # 对应element次数-1\n",
    "                if target[s[r]] == 0:  # 减到0后, 说明该元素处理完了\n",
    "                    remain_c -= 1\n",
    "                    \n",
    "            while remain_c == 0:  # 全都处理好后, 就可以把左边多余的去掉\n",
    "                if ans[0] > r-l+1:\n",
    "                    ans = (r-l+1, l, r)\n",
    "                if s[l] in target:  # 对应element次数+1\n",
    "                    target[s[l]] += 1\n",
    "                    if target[s[l]] > 0:  # 又不够了, 那remain_c需要+1\n",
    "                        remain_c += 1\n",
    "                l += 1\n",
    "                \n",
    "            r += 1\n",
    "        return '' if ans[1]==ans[2]==0 else s[ans[1]:ans[2]+1]"
   ]
  },
  {
   "cell_type": "code",
   "execution_count": null,
   "metadata": {},
   "outputs": [],
   "source": [
    "s = Solution()\n",
    "s.minWindow(\"ab\", \"ab\")"
   ]
  }
 ],
 "metadata": {
  "kernelspec": {
   "display_name": "Python 3",
   "language": "python",
   "name": "python3"
  },
  "language_info": {
   "codemirror_mode": {
    "name": "ipython",
    "version": 3
   },
   "file_extension": ".py",
   "mimetype": "text/x-python",
   "name": "python",
   "nbconvert_exporter": "python",
   "pygments_lexer": "ipython3",
   "version": "3.7.5"
  }
 },
 "nbformat": 4,
 "nbformat_minor": 2
}
