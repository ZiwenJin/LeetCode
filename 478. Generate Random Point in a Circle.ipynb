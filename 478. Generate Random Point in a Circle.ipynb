{
 "cells": [
  {
   "cell_type": "markdown",
   "metadata": {},
   "source": [
    "- Medium\n",
    "- rejection sampling\n",
    "- check Approach 2, https://leetcode.com/problems/generate-random-point-in-a-circle/solution/"
   ]
  },
  {
   "cell_type": "code",
   "execution_count": null,
   "metadata": {},
   "outputs": [],
   "source": [
    "import random\n",
    "\n",
    "class Solution:\n",
    "\n",
    "    def __init__(self, radius: float, x_center: float, y_center: float):\n",
    "        self.radius = radius\n",
    "        self.x_center = x_center\n",
    "        self.y_center = y_center\n",
    "        self.x_l = x_center - radius\n",
    "        self.y_b = y_center - radius\n",
    "        \n",
    "\n",
    "    def randPoint(self) -> List[float]:\n",
    "        while True:\n",
    "            hor = random.random()\n",
    "            ver = random.random()\n",
    "            x_point = self.x_l + hor * self.radius * 2\n",
    "            y_point = self.y_b + ver * self.radius * 2\n",
    "            if ((x_point - self.x_center)**2 + (y_point - self.y_center)**2)**0.5 <= self.radius:\n",
    "                return [x_point, y_point]\n",
    "\n",
    "\n",
    "# Your Solution object will be instantiated and called as such:\n",
    "# obj = Solution(radius, x_center, y_center)\n",
    "# param_1 = obj.randPoint()"
   ]
  }
 ],
 "metadata": {
  "kernelspec": {
   "display_name": "Python 3",
   "language": "python",
   "name": "python3"
  },
  "language_info": {
   "codemirror_mode": {
    "name": "ipython",
    "version": 3
   },
   "file_extension": ".py",
   "mimetype": "text/x-python",
   "name": "python",
   "nbconvert_exporter": "python",
   "pygments_lexer": "ipython3",
   "version": "3.7.5"
  }
 },
 "nbformat": 4,
 "nbformat_minor": 2
}
