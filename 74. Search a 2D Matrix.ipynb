{
 "cells": [
  {
   "cell_type": "markdown",
   "metadata": {},
   "source": [
    "- Medium\n",
    "- 先确定可能在哪一行, 再看在不在\n",
    "- 确定行时, 用rl = rm和rh = rm更新pointer, 防止跳过当前行"
   ]
  },
  {
   "cell_type": "code",
   "execution_count": null,
   "metadata": {
    "collapsed": true
   },
   "outputs": [],
   "source": [
    "class Solution(object):\n",
    "    def searchMatrix(self, matrix, target):\n",
    "        \"\"\"\n",
    "        :type matrix: List[List[int]]\n",
    "        :type target: int\n",
    "        :rtype: bool\n",
    "        \"\"\"\n",
    "        if not matrix or not matrix[0] or target < matrix[0][0]:\n",
    "            return False\n",
    "        \n",
    "        rl, rh, cl, ch = 0, len(matrix), 0, len(matrix[0])\n",
    "        \n",
    "        while rl + 1 < rh:\n",
    "            rm = (rl + rh) // 2\n",
    "            if matrix[rm][0] == target:\n",
    "                return True\n",
    "            elif matrix[rm][0] < target:\n",
    "                rl = rm\n",
    "            else:\n",
    "                rh = rm\n",
    "                \n",
    "        while cl < ch:\n",
    "            cm = (cl + ch) // 2\n",
    "            if matrix[rl][cm] == target:\n",
    "                return True\n",
    "            elif matrix[rl][cm] < target:\n",
    "                cl = cm + 1\n",
    "            else:\n",
    "                ch = cm\n",
    "        return False"
   ]
  }
 ],
 "metadata": {
  "kernelspec": {
   "display_name": "Python [default]",
   "language": "python",
   "name": "python3"
  },
  "language_info": {
   "codemirror_mode": {
    "name": "ipython",
    "version": 3
   },
   "file_extension": ".py",
   "mimetype": "text/x-python",
   "name": "python",
   "nbconvert_exporter": "python",
   "pygments_lexer": "ipython3",
   "version": "3.5.2"
  }
 },
 "nbformat": 4,
 "nbformat_minor": 2
}
