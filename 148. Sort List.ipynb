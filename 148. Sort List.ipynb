{
 "cells": [
  {
   "cell_type": "markdown",
   "metadata": {},
   "source": [
    "- Medium\n",
    "- divide and conquer\n",
    "- find the middle of the current LL"
   ]
  },
  {
   "cell_type": "code",
   "execution_count": null,
   "metadata": {
    "collapsed": true
   },
   "outputs": [],
   "source": [
    "# Definition for singly-linked list.\n",
    "# class ListNode(object):\n",
    "#     def __init__(self, x):\n",
    "#         self.val = x\n",
    "#         self.next = None\n",
    "\n",
    "class Solution(object):\n",
    "    def sortList(self, head):\n",
    "        \"\"\"\n",
    "        :type head: ListNode\n",
    "        :rtype: ListNode\n",
    "        \"\"\"\n",
    "        if not head or not head.next:\n",
    "            return head\n",
    "        \n",
    "        dummy, dummy.next = ListNode('-1'), head\n",
    "        slow = fast = dummy\n",
    "        while fast and fast.next:\n",
    "            slow = slow.next\n",
    "            fast = fast.next.next\n",
    "            \n",
    "        right = self.sortList(slow.next)\n",
    "        slow.next = None\n",
    "        left = self.sortList(head)\n",
    "        \n",
    "        return self.merge(left, right)\n",
    "        \n",
    "    \n",
    "    def merge(self, left, right):\n",
    "        dummy = ListNode(-1)\n",
    "        cur = dummy\n",
    "        while left and right:\n",
    "            if left.val < right.val:\n",
    "                cur.next = left\n",
    "                left = left.next\n",
    "            else:\n",
    "                cur.next = right\n",
    "                right = right.next\n",
    "            cur = cur.next\n",
    "            \n",
    "        cur.next = left if left else right\n",
    "        \n",
    "        return dummy.next"
   ]
  }
 ],
 "metadata": {
  "kernelspec": {
   "display_name": "Python [default]",
   "language": "python",
   "name": "python3"
  },
  "language_info": {
   "codemirror_mode": {
    "name": "ipython",
    "version": 3
   },
   "file_extension": ".py",
   "mimetype": "text/x-python",
   "name": "python",
   "nbconvert_exporter": "python",
   "pygments_lexer": "ipython3",
   "version": "3.5.2"
  }
 },
 "nbformat": 4,
 "nbformat_minor": 2
}
