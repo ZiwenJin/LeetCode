{
 "cells": [
  {
   "cell_type": "markdown",
   "metadata": {},
   "source": [
    "- Medium\n",
    "- adjacency matrix上的celebrity就是该列都是1 (所有人都认识他/她), 该行, 除了自己, 都是0 (他/她不认识其他人)"
   ]
  },
  {
   "cell_type": "markdown",
   "metadata": {},
   "source": [
    "- 从定义出发, 首先最多只有一人可能是celebrity\n",
    "- 先该此人找到, 即他/她不认识所有其他人\n",
    "- 假如存在, 则再判断是否其他人都认识他/她\n",
    "- worst case: 第一个双层for有n^2-n次knows(), 第二个for有n-1次knows()"
   ]
  },
  {
   "cell_type": "code",
   "execution_count": null,
   "metadata": {},
   "outputs": [],
   "source": [
    "# The knows API is already defined for you.\n",
    "# return a bool, whether a knows b\n",
    "# def knows(a: int, b: int) -> bool:\n",
    "\n",
    "class Solution:\n",
    "    def findCelebrity(self, n: int) -> int:\n",
    "        if n == 1:\n",
    "            return 0\n",
    "        \n",
    "        # 对于每个potential_celebrity ...\n",
    "        for p_c in range(n):\n",
    "            # 对于每个other ...\n",
    "            for o in range(n):\n",
    "                if o != p_c and knows(p_c, o):  # p_c knows o, 说明p_c不是celebrity, 那就break\n",
    "                    break\n",
    "            else:  # 如果每个o都没break, 说明p_c对所有o都不认识, 说明这个p_c就可能是celebrity\n",
    "                break\n",
    "        else:  # 走这里说明每个p_c都认识某个o, 所以都不可能是celebrity\n",
    "            return -1\n",
    "        \n",
    "        # 对于可能的p_c, 判断是否o都认识他/她\n",
    "        for o in range(n):\n",
    "            if o != p_c and not knows(o, p_c):\n",
    "                return -1\n",
    "        return p_c"
   ]
  },
  {
   "cell_type": "markdown",
   "metadata": {},
   "source": [
    "- 第一个for找到了那个potential_celebrity\n",
    "> p_c之前的人不可能是, 因为他们认识了后面某个人, 所以被update了  \n",
    "> p_c后面的人不可能是, 因为p_c都不认识他们\n",
    "- 后两个for确认该p_c是否真的是celebrity\n",
    "> 他/她不认识之前的人, 之后的在第一个for里已经跑过了  \n",
    "> 所有人都认识他/她\n",
    "- n + p_c + n次knows()"
   ]
  },
  {
   "cell_type": "code",
   "execution_count": null,
   "metadata": {},
   "outputs": [],
   "source": [
    "# The knows API is already defined for you.\n",
    "# return a bool, whether a knows b\n",
    "# def knows(a: int, b: int) -> bool:\n",
    "\n",
    "class Solution:\n",
    "    def findCelebrity(self, n: int) -> int:\n",
    "        p_c = 0\n",
    "        for i in range(1, n):\n",
    "            if knows(p_c, i):  # True则当前p_c不可能是celebrity\n",
    "                p_c = i\n",
    "        # 不认识之前的人\n",
    "        for i in range(p_c):\n",
    "            if knows(p_c, i):\n",
    "                return -1\n",
    "        # 所有人都认识他/她\n",
    "        for i in range(n):\n",
    "            if not knows(i, p_c):\n",
    "                return -1\n",
    "        \n",
    "        return p_c"
   ]
  }
 ],
 "metadata": {
  "kernelspec": {
   "display_name": "Python 3",
   "language": "python",
   "name": "python3"
  },
  "language_info": {
   "codemirror_mode": {
    "name": "ipython",
    "version": 3
   },
   "file_extension": ".py",
   "mimetype": "text/x-python",
   "name": "python",
   "nbconvert_exporter": "python",
   "pygments_lexer": "ipython3",
   "version": "3.7.5"
  }
 },
 "nbformat": 4,
 "nbformat_minor": 2
}
