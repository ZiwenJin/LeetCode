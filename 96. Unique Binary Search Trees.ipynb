{
 "cells": [
  {
   "cell_type": "markdown",
   "metadata": {},
   "source": [
    "- Medium\n",
    "- nums保存长度为index的BST的数量, 初始条件为nums[0] = nums[1] = 1\n",
    "- 然后对于每个index, 遍历**每个数当root**, 这样左树和右树的数量**相乘**就是当前unique BST的数量, **所有root相加**即为当前解"
   ]
  },
  {
   "cell_type": "code",
   "execution_count": null,
   "metadata": {},
   "outputs": [],
   "source": [
    "class Solution:\n",
    "    def numTrees(self, n: int) -> int:\n",
    "        if n == 0 or n == 1:\n",
    "            return 1\n",
    "        nums = [1, 1] + [0] * (n - 1)\n",
    "        for i in range(2, n+1):\n",
    "            for j in range(1, i+1):\n",
    "                nums[i] += nums[j-1] * nums[i-j]\n",
    "        return nums[n]"
   ]
  }
 ],
 "metadata": {
  "kernelspec": {
   "display_name": "Python 3",
   "language": "python",
   "name": "python3"
  },
  "language_info": {
   "codemirror_mode": {
    "name": "ipython",
    "version": 3
   },
   "file_extension": ".py",
   "mimetype": "text/x-python",
   "name": "python",
   "nbconvert_exporter": "python",
   "pygments_lexer": "ipython3",
   "version": "3.5.2"
  }
 },
 "nbformat": 4,
 "nbformat_minor": 2
}
