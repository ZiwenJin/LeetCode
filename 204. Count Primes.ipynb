{
 "cells": [
  {
   "cell_type": "markdown",
   "metadata": {},
   "source": [
    "- Easy\n",
    "- 直接看hints, https://leetcode.com/problems/count-primes/submissions/"
   ]
  },
  {
   "cell_type": "code",
   "execution_count": null,
   "metadata": {},
   "outputs": [],
   "source": [
    "class Solution:\n",
    "    def countPrimes(self, n: int) -> int:\n",
    "        if n <= 1:\n",
    "            return 0\n",
    "        \n",
    "        is_prime = [1] * n\n",
    "        is_prime[0], is_prime[1] = 0, 0\n",
    "        i = 2\n",
    "        while i * i <= n:\n",
    "            if is_prime[i] == 1:  # 遇到prime, 则 ...\n",
    "                for p in range(i*i, n, i):  # ... 从i*i开始, 其所有倍数都不是prime\n",
    "                    is_prime[p] = 0\n",
    "            i += 1\n",
    "        return sum(is_prime)"
   ]
  }
 ],
 "metadata": {
  "kernelspec": {
   "display_name": "Python 3",
   "language": "python",
   "name": "python3"
  },
  "language_info": {
   "codemirror_mode": {
    "name": "ipython",
    "version": 3
   },
   "file_extension": ".py",
   "mimetype": "text/x-python",
   "name": "python",
   "nbconvert_exporter": "python",
   "pygments_lexer": "ipython3",
   "version": "3.7.5"
  }
 },
 "nbformat": 4,
 "nbformat_minor": 2
}
