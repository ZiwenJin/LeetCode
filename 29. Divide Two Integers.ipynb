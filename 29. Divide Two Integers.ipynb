{
 "cells": [
  {
   "cell_type": "markdown",
   "metadata": {},
   "source": [
    "- Medium\n",
    "- 用bit manipulation, 不断从dividend中减去(2^k)*divisor\n",
    "- 1.) 从小往大减: k从1开始, 不断从dividend中减去一个(2^k)*divisor\n",
    "- 2.) 从大往小减: k从最大开始, 不断从dividend中减去所有(2^k)*divisor"
   ]
  },
  {
   "cell_type": "code",
   "execution_count": null,
   "metadata": {
    "collapsed": true
   },
   "outputs": [],
   "source": [
    "class Solution(object):\n",
    "    def divide(self, dividend, divisor):\n",
    "        \"\"\"\n",
    "        :type dividend: int\n",
    "        :type divisor: int\n",
    "        :rtype: int\n",
    "        \"\"\"\n",
    "        # from small to large\n",
    "        sign = (dividend > 0) == (divisor > 0)\n",
    "        dividend, divisor = abs(dividend), abs(divisor)\n",
    "        \n",
    "        res = 0\n",
    "        while dividend >= divisor:\n",
    "            tmp, i = divisor, 1\n",
    "            while dividend >= tmp:\n",
    "                dividend -= tmp\n",
    "                res += i\n",
    "                i <<= 1\n",
    "                tmp <<= 1\n",
    "                \n",
    "        if not sign:\n",
    "            res = -res\n",
    "        return min(max(-2147483648, res), 2147483647)\n",
    "        \n",
    "        \n",
    "#         # from large to small\n",
    "#         sign = (dividend > 0) == (divisor > 0)\n",
    "#         dividend, divisor = abs(dividend), abs(divisor)\n",
    "        \n",
    "#         fold = 1\n",
    "#         tmp = divisor\n",
    "#         while dividend >= (tmp<<1):\n",
    "#             tmp <<= 1\n",
    "#             fold <<= 1\n",
    "            \n",
    "#         res = 0\n",
    "#         while fold > 0:\n",
    "#             while dividend >= tmp:\n",
    "#                 res += fold\n",
    "#                 dividend -= tmp\n",
    "#             tmp >>= 1\n",
    "#             fold >>= 1\n",
    "            \n",
    "#         if not sign:\n",
    "#             res = -res\n",
    "#         return min(max(-2147483648, res), 2147483647)"
   ]
  }
 ],
 "metadata": {
  "kernelspec": {
   "display_name": "Python [default]",
   "language": "python",
   "name": "python3"
  },
  "language_info": {
   "codemirror_mode": {
    "name": "ipython",
    "version": 3
   },
   "file_extension": ".py",
   "mimetype": "text/x-python",
   "name": "python",
   "nbconvert_exporter": "python",
   "pygments_lexer": "ipython3",
   "version": "3.5.2"
  }
 },
 "nbformat": 4,
 "nbformat_minor": 2
}
