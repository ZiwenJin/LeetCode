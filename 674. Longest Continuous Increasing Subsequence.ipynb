{
 "cells": [
  {
   "cell_type": "markdown",
   "metadata": {},
   "source": [
    "- Easy\n",
    "- 记录全局最长(ans)和当前长度(cnt), 一旦遇到non-increasing就更新ans\n",
    "- 别忘了末尾的一段"
   ]
  },
  {
   "cell_type": "code",
   "execution_count": null,
   "metadata": {},
   "outputs": [],
   "source": [
    "class Solution:\n",
    "    def findLengthOfLCIS(self, nums: List[int]) -> int:\n",
    "        if len(nums) == 0:\n",
    "            return 0\n",
    "        \n",
    "        ans, cnt = 1, 1\n",
    "        for i in range(len(nums)-1):\n",
    "            if nums[i] < nums[i+1]:\n",
    "                cnt += 1\n",
    "            else:\n",
    "                ans = max(ans, cnt)\n",
    "                cnt = 1\n",
    "        return max(ans, cnt)"
   ]
  }
 ],
 "metadata": {
  "kernelspec": {
   "display_name": "Python 3",
   "language": "python",
   "name": "python3"
  },
  "language_info": {
   "codemirror_mode": {
    "name": "ipython",
    "version": 3
   },
   "file_extension": ".py",
   "mimetype": "text/x-python",
   "name": "python",
   "nbconvert_exporter": "python",
   "pygments_lexer": "ipython3",
   "version": "3.7.5"
  }
 },
 "nbformat": 4,
 "nbformat_minor": 2
}
