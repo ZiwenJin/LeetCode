{
 "cells": [
  {
   "cell_type": "markdown",
   "metadata": {},
   "source": [
    "- Easy\n",
    "- Solution 1: recursion, 和之前binary tree的遍历类似\n",
    "- Solution 2: iteration\n",
    "> 1. 先理清遍历的顺序, 即同一个children group内从左往右依次处理完每个child的整个subtree, 从上到下\n",
    "> 2. 用stack, 把children逆序放入, 这样就可以优先处理完最左边的node, 再处理次左边的node"
   ]
  },
  {
   "cell_type": "code",
   "execution_count": null,
   "metadata": {},
   "outputs": [],
   "source": [
    "\"\"\"\n",
    "# Definition for a Node.\n",
    "class Node:\n",
    "    def __init__(self, val=None, children=None):\n",
    "        self.val = val\n",
    "        self.children = children\n",
    "\"\"\"\n",
    "class Solution:\n",
    "    def preorder(self, root: 'Node') -> List[int]:\n",
    "        # Solution 2: iteration\n",
    "        if root is None:\n",
    "            return []\n",
    "        \n",
    "        stack, output = [root], []\n",
    "        while stack:\n",
    "            node = stack.pop()\n",
    "            output.append(node.val)\n",
    "            stack.extend(node.children[::-1])\n",
    "        return output\n",
    "    \n",
    "#         # Solution 1: recursion\n",
    "#         def helper(node):\n",
    "#             if node is None:\n",
    "#                 return []\n",
    "#             path = [node.val]\n",
    "#             for c in node.children:\n",
    "#                 path += helper(c)\n",
    "#             return path\n",
    "#         return helper(root)"
   ]
  }
 ],
 "metadata": {
  "kernelspec": {
   "display_name": "Python 3",
   "language": "python",
   "name": "python3"
  },
  "language_info": {
   "codemirror_mode": {
    "name": "ipython",
    "version": 3
   },
   "file_extension": ".py",
   "mimetype": "text/x-python",
   "name": "python",
   "nbconvert_exporter": "python",
   "pygments_lexer": "ipython3",
   "version": "3.7.5"
  }
 },
 "nbformat": 4,
 "nbformat_minor": 2
}
