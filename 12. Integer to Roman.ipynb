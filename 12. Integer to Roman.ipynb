{
 "cells": [
  {
   "cell_type": "markdown",
   "metadata": {},
   "source": [
    "- Medium\n",
    "- Solution 2从千/百/十/个分位角度算, 后三种情况是一样的"
   ]
  },
  {
   "cell_type": "code",
   "execution_count": null,
   "metadata": {},
   "outputs": [],
   "source": [
    "class Solution:\n",
    "    def intToRoman(self, num: int) -> str:\n",
    "        if num is None or num == 0 or num > 3999:\n",
    "            return ''\n",
    "        \n",
    "        # Solution 2: 按千/百/十/个分位算\n",
    "        thousand_bit = num // 1000\n",
    "        hundred_ten_digit_bit = [(num % 1000) // 100, (num % 100) // 10, num % 10]\n",
    "        bit_pair = [('M', 'D', 'C'), ('C', 'L', 'X'), ('X', 'V', 'I')]\n",
    "        \n",
    "        ans = 'M' * thousand_bit\n",
    "        for bit, pair in zip(hundred_ten_digit_bit, bit_pair):\n",
    "            if bit <= 3:\n",
    "                ans += pair[2] * bit\n",
    "            elif bit == 4:\n",
    "                ans += pair[2] + pair[1]\n",
    "            elif bit == 5:\n",
    "                ans += pair[1]\n",
    "            elif bit <= 8:\n",
    "                ans += pair[1] + pair[2] * (bit-5)\n",
    "            elif bit == 9:\n",
    "                ans += pair[2] + pair[0]\n",
    "        return ans\n",
    "        \n",
    "        \n",
    "        # # Soluion 1: brute force, 逐个减\n",
    "        # ans = ''\n",
    "        # if num >= 1000:\n",
    "        #     div, num = divmod(num, 1000)\n",
    "        #     ans += 'M' * div\n",
    "        # if num >= 900:\n",
    "        #     ans += 'CM'\n",
    "        #     num -= 900\n",
    "        # if num >= 500:\n",
    "        #     ans += 'D'\n",
    "        #     num -= 500\n",
    "        # if num >= 400:\n",
    "        #     ans += 'CD'\n",
    "        #     num -= 400\n",
    "        # if num >= 100:\n",
    "        #     div, num = divmod(num, 100)\n",
    "        #     ans += 'C' * div\n",
    "        # if num >= 90:\n",
    "        #     ans += 'XC'\n",
    "        #     num -= 90\n",
    "        # if num >= 50:\n",
    "        #     ans += 'L'\n",
    "        #     num -= 50\n",
    "        # if num >= 40:\n",
    "        #     ans += 'XL'\n",
    "        #     num -= 40\n",
    "        # if num >= 10:\n",
    "        #     div, num = divmod(num, 10)\n",
    "        #     ans += 'X' * div\n",
    "        # if num >= 9:\n",
    "        #     ans += 'IX'\n",
    "        #     num -= 9\n",
    "        # if num >= 5:\n",
    "        #     ans += 'V'\n",
    "        #     num -= 5\n",
    "        # if num >= 4:\n",
    "        #     ans += 'IV'\n",
    "        #     num -= 4\n",
    "        # if num >= 0:\n",
    "        #     ans += 'I' * num\n",
    "        # return ans"
   ]
  }
 ],
 "metadata": {
  "kernelspec": {
   "display_name": "Python 3",
   "language": "python",
   "name": "python3"
  },
  "language_info": {
   "codemirror_mode": {
    "name": "ipython",
    "version": 3
   },
   "file_extension": ".py",
   "mimetype": "text/x-python",
   "name": "python",
   "nbconvert_exporter": "python",
   "pygments_lexer": "ipython3",
   "version": "3.7.5"
  }
 },
 "nbformat": 4,
 "nbformat_minor": 2
}
