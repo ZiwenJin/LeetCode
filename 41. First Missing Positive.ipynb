{
 "cells": [
  {
   "cell_type": "markdown",
   "metadata": {},
   "source": [
    "- Hard\n",
    "- 题目要求TC=O(n), SC=O(1)\n",
    "- 思路\n",
    "> 1. 用index当key, 记录当前value是否存在\n",
    "> 2. 答案只可能在[1, N+1]内, 且N+1只可能是在sorted(nums) == list(range(1, N+1))时\n",
    "> 3. 所以在i的地方记录值i+1\n",
    "> 4. 由于可能覆盖掉值, 所以还需要一个while循环\n",
    "- 如果没有那个限制, 还可以直接sort, 或者用set, min(set(range(1, N+2)) - set(nums))"
   ]
  },
  {
   "cell_type": "code",
   "execution_count": 1,
   "metadata": {},
   "outputs": [],
   "source": [
    "class Solution:\n",
    "    def firstMissingPositive(self, nums) -> int:\n",
    "        N = len(nums)\n",
    "        for i, e in enumerate(nums):  # 遍历\n",
    "            val = e  # 记录当前值\n",
    "            while (1 <= val <= N) and (val != nums[val-1]):  # 如果val在允许范围内, 且不在该在的index\n",
    "                nums[val-1], val = val, nums[val-1]  # 移过去, 并检查那个位置的val\n",
    "                \n",
    "        for i, e in enumerate(nums, 1):  # 再遍历一遍检查哪漏了\n",
    "            if i != e:\n",
    "                return i\n",
    "        return N + 1"
   ]
  },
  {
   "cell_type": "code",
   "execution_count": 2,
   "metadata": {},
   "outputs": [
    {
     "data": {
      "text/plain": [
       "2"
      ]
     },
     "execution_count": 2,
     "metadata": {},
     "output_type": "execute_result"
    }
   ],
   "source": [
    "s = Solution()\n",
    "s.firstMissingPositive([3,4,-1,1])"
   ]
  }
 ],
 "metadata": {
  "kernelspec": {
   "display_name": "Python 3",
   "language": "python",
   "name": "python3"
  },
  "language_info": {
   "codemirror_mode": {
    "name": "ipython",
    "version": 3
   },
   "file_extension": ".py",
   "mimetype": "text/x-python",
   "name": "python",
   "nbconvert_exporter": "python",
   "pygments_lexer": "ipython3",
   "version": "3.7.5"
  }
 },
 "nbformat": 4,
 "nbformat_minor": 2
}
