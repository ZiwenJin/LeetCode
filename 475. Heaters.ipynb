{
 "cells": [
  {
   "cell_type": "markdown",
   "metadata": {},
   "source": [
    "- Easy\n",
    "- 核心是对每个house, 找出其左右两边heater中近的那个, 全局radius然后不断跟其求max\n",
    "- 注意始末的边界情况: 1. 起始需要找到大于第一个heater的house, 2. 末尾需判断是否heater先遍历完"
   ]
  },
  {
   "cell_type": "code",
   "execution_count": null,
   "metadata": {
    "collapsed": false
   },
   "outputs": [],
   "source": [
    "class Solution(object):\n",
    "    def findRadius(self, houses, heaters):\n",
    "        \"\"\"\n",
    "        :type houses: List[int]\n",
    "        :type heaters: List[int]\n",
    "        :rtype: int\n",
    "        \"\"\"\n",
    "        houses, heaters = sorted(houses), sorted(heaters)\n",
    "        house_i, heater_i, radius = 0, 0, 0\n",
    "        num_houses, num_heaters = len(houses), len(heaters)\n",
    "        \n",
    "        if houses[0] < heaters[0]:\n",
    "            radius = heaters[0] - houses[0]\n",
    "            while house_i < num_houses and houses[house_i] < heaters[0]:\n",
    "                house_i += 1\n",
    "        \n",
    "        while house_i < num_houses:\n",
    "            while heater_i < num_heaters and houses[house_i] >= heaters[heater_i]:\n",
    "                heater_i += 1\n",
    "                \n",
    "            if heater_i == num_heaters:\n",
    "                radius = max(radius, houses[-1] - heaters[-1])\n",
    "                break\n",
    "                \n",
    "            if houses[house_i] != heaters[heater_i-1]:\n",
    "                left = houses[house_i] - heaters[heater_i-1] if heater_i > 0 else float('inf')\n",
    "                right = heaters[heater_i] - houses[house_i] if heater_i < num_heaters else float('inf')\n",
    "                cur_radius = min(left, right)\n",
    "                radius = max(radius, cur_radius)\n",
    "            house_i += 1\n",
    "        return radius"
   ]
  }
 ],
 "metadata": {
  "kernelspec": {
   "display_name": "Python [default]",
   "language": "python",
   "name": "python3"
  },
  "language_info": {
   "codemirror_mode": {
    "name": "ipython",
    "version": 3
   },
   "file_extension": ".py",
   "mimetype": "text/x-python",
   "name": "python",
   "nbconvert_exporter": "python",
   "pygments_lexer": "ipython3",
   "version": "3.5.2"
  }
 },
 "nbformat": 4,
 "nbformat_minor": 2
}
