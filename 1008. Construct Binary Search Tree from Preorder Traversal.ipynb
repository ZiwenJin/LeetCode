{
 "cells": [
  {
   "cell_type": "markdown",
   "metadata": {},
   "source": [
    "- Medium\n",
    "- 看Solution里的图, https://leetcode.com/problems/construct-binary-search-tree-from-preorder-traversal/solution/"
   ]
  },
  {
   "cell_type": "code",
   "execution_count": 1,
   "metadata": {},
   "outputs": [],
   "source": [
    "from collections import deque\n",
    "\n",
    "# Definition for a binary tree node.\n",
    "class TreeNode:\n",
    "    def __init__(self, x):\n",
    "        self.val = x\n",
    "        self.left = None\n",
    "        self.right = None\n",
    "        \n",
    "    def draw(self):\n",
    "        queue = deque([self])\n",
    "        while queue:\n",
    "            nxt_queue = deque([])\n",
    "            while queue:\n",
    "                node = queue.popleft()\n",
    "                if node is None:\n",
    "                    print('None', end=' ')\n",
    "                    nxt_queue.extend([None, None])\n",
    "                else:\n",
    "                    print(node.val, end=' ')\n",
    "                    nxt_queue.extend([node.left, node.right])\n",
    "            print()\n",
    "            if all([i is None for i in nxt_queue]):\n",
    "                nxt_queue = deque([])\n",
    "            queue = nxt_queue"
   ]
  },
  {
   "cell_type": "markdown",
   "metadata": {},
   "source": [
    "- 通过preorder和inorder: preorder能确定root在哪, inorder能确定left, right分别有什么\n",
    "- 逻辑上是遍历preorder, 然后在inorder内找该值的index, 然后就能递归, left = helper(l, index), right = helper(index+1, r)\n",
    "- TC=O(N*logN), 因为要排序成inorder, 所以不是最优解"
   ]
  },
  {
   "cell_type": "code",
   "execution_count": 19,
   "metadata": {},
   "outputs": [],
   "source": [
    "class Solution:\n",
    "    def bstFromPreorder(self, preorder):\n",
    "        \n",
    "        def helper(l, r):\n",
    "            nonlocal preorder_index\n",
    "            if l == r:\n",
    "                return None\n",
    "            \n",
    "            cur_val = preorder[preorder_index]\n",
    "            cur_node = TreeNode(cur_val)\n",
    "            inorder_index = idx_map[cur_val]\n",
    "            preorder_index += 1\n",
    "            cur_node.left = helper(l, inorder_index)\n",
    "            cur_node.right = helper(inorder_index+1, r)\n",
    "            return cur_node\n",
    "            \n",
    "        inorder = sorted(preorder)\n",
    "        idx_map = {e: i for i, e in enumerate(inorder)}\n",
    "        preorder_index = 0\n",
    "        return helper(0, len(preorder))"
   ]
  },
  {
   "cell_type": "code",
   "execution_count": 20,
   "metadata": {},
   "outputs": [
    {
     "name": "stdout",
     "output_type": "stream",
     "text": [
      "8 \n",
      "5 10 \n",
      "1 7 None 12 \n"
     ]
    }
   ],
   "source": [
    "s = Solution()\n",
    "s.bstFromPreorder([8,5,1,7,10,12]).draw()"
   ]
  },
  {
   "cell_type": "markdown",
   "metadata": {},
   "source": [
    "- recursion\n",
    "- 可以通过(lower, upper)给每个subtree限定范围, 那如果当前的val不在这范围内, 就说明不是这个subtree的root, 直接返回None\n",
    "- TC=O(N)"
   ]
  },
  {
   "cell_type": "code",
   "execution_count": null,
   "metadata": {},
   "outputs": [],
   "source": [
    "class Solution:\n",
    "    def bstFromPreorder(self, preorder: List[int]) -> TreeNode:\n",
    "        def helper(lower, upper):\n",
    "            nonlocal idx\n",
    "            # 遍历完了\n",
    "            if idx == n:\n",
    "                return None\n",
    "            \n",
    "            val = preorder[idx]\n",
    "            # 该node不在此subtree内\n",
    "            if val < lower or val > upper:\n",
    "                return None\n",
    "            \n",
    "            idx += 1  # 当前Node放好了, 看下一个\n",
    "            root = TreeNode(val)\n",
    "            root.left = helper(lower, val)\n",
    "            root.right = helper(val, upper)\n",
    "            return root\n",
    "            \n",
    "        idx = 0\n",
    "        n = len(preorder)\n",
    "        return helper(float('-inf'), float('inf'))"
   ]
  },
  {
   "cell_type": "markdown",
   "metadata": {},
   "source": [
    "- Iteration\n",
    "- 用stack记录没完全处理完的node. 完全处理完是指 1). 其left subtree遍历完了, 剩下的都是比它大的nodes, 要么是它的right subtree, 要么就是它某个父节点的right subtree, 2). 无论哪种情况, 都可以从stack里pop了, 因为如果是其right subtree, 那当前node的left和right都已确定, 接下来要用的也是该right subtree的root, 而如果是其父节点的, 那就一直pop到其父节点, 然后也就一个道理了\n",
    "- TC=O(N)"
   ]
  },
  {
   "cell_type": "code",
   "execution_count": null,
   "metadata": {},
   "outputs": [],
   "source": [
    "class Solution:\n",
    "    def bstFromPreorder(self, preorder: List[int]) -> TreeNode:\n",
    "        n = len(preorder)\n",
    "        if n == 0:\n",
    "            return []\n",
    "        \n",
    "        root = TreeNode(preorder[0])\n",
    "        stack = [root]\n",
    "        \n",
    "        for i in range(1, n):\n",
    "            node = stack[-1]  # stack顶上当做parent\n",
    "            child = TreeNode(preorder[i])\n",
    "            \n",
    "            # child没上一个大, 那说明就是在left subtree\n",
    "            if node.val >= child.val:\n",
    "                node.left = child\n",
    "            # else就说明left subtree遍历完了, 开始看right subtree ...\n",
    "            else:\n",
    "                # ... 但其实并不确定是前面哪个node的right subtree, 所以要while, 直到child比当前node大, 但又没上一个node大 ...\n",
    "                while stack and stack[-1].val < child.val:\n",
    "                    node = stack.pop()\n",
    "                # ... 就说明这child是node的right subtree\n",
    "                node.right = child\n",
    "            \n",
    "            stack.append(child)\n",
    "            \n",
    "        return root"
   ]
  }
 ],
 "metadata": {
  "kernelspec": {
   "display_name": "Python 3",
   "language": "python",
   "name": "python3"
  },
  "language_info": {
   "codemirror_mode": {
    "name": "ipython",
    "version": 3
   },
   "file_extension": ".py",
   "mimetype": "text/x-python",
   "name": "python",
   "nbconvert_exporter": "python",
   "pygments_lexer": "ipython3",
   "version": "3.7.5"
  }
 },
 "nbformat": 4,
 "nbformat_minor": 2
}
