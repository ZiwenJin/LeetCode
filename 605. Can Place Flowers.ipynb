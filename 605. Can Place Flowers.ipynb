{
 "cells": [
  {
   "cell_type": "markdown",
   "metadata": {},
   "source": [
    "- Easy\n",
    "- 遍历flowerbed, 能种就种 (greedy), 看注释"
   ]
  },
  {
   "cell_type": "code",
   "execution_count": null,
   "metadata": {},
   "outputs": [],
   "source": [
    "class Solution:\n",
    "    def canPlaceFlowers(self, flowerbed: List[int], n: int) -> bool:\n",
    "        # base case\n",
    "        if n == 0:\n",
    "            return True\n",
    "        \n",
    "        i = 0\n",
    "        while i < len(flowerbed):\n",
    "            # 如果当前位是0, 且左右也是0或者当前在头/尾, 则可种\n",
    "            if (flowerbed[i] == 0) and (i == 0 or flowerbed[i-1] == 0) and (i == len(flowerbed)-1 or flowerbed[i+1] == 0):\n",
    "                flowerbed[i] = 1\n",
    "                i += 1  # 当前位种了的话下一位肯定不能种, 可直接跳过\n",
    "                n -= 1\n",
    "                if n == 0:  # 目标n种完了!\n",
    "                    return True\n",
    "            i += 1\n",
    "        return False  # 种不完"
   ]
  }
 ],
 "metadata": {
  "kernelspec": {
   "display_name": "Python 3",
   "language": "python",
   "name": "python3"
  },
  "language_info": {
   "codemirror_mode": {
    "name": "ipython",
    "version": 3
   },
   "file_extension": ".py",
   "mimetype": "text/x-python",
   "name": "python",
   "nbconvert_exporter": "python",
   "pygments_lexer": "ipython3",
   "version": "3.7.5"
  }
 },
 "nbformat": 4,
 "nbformat_minor": 2
}
