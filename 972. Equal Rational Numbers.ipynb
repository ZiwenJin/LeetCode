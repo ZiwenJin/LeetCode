{
 "cells": [
  {
   "cell_type": "markdown",
   "metadata": {},
   "source": [
    "- Hard\n",
    "- 核心是理解RepeatingPart可以用等比数列表示"
   ]
  },
  {
   "cell_type": "code",
   "execution_count": 1,
   "metadata": {},
   "outputs": [],
   "source": [
    "class Solution:\n",
    "    def isRationalEqual(self, S: str, T: str) -> bool:\n",
    "        # <IntegerPart>和<NonRepeatingPart>都好说\n",
    "        # 对于<RepeatingPart>, x, 假如其长度为k且<NonRepeatingPart>长度为j, 则可表示为x * (10^-(j+k) + 10^-(j+2k) + ... + 10^-(j+nk))\n",
    "        # 括号内的等比数列求和为10^-(j+k)*(1-q^n) / (1-q), q=10^-k, 所以(1-q^n)趋近于1, 所以最终结果为x*10^-(j+k)/(1-q), q=10^-k\n",
    "        \n",
    "        def convert(s):\n",
    "            # <IntegerPart>\n",
    "            if '.' not in s:\n",
    "                return int(s)\n",
    "            \n",
    "            # <IntegerPart>和<NonRepeatingPart>\n",
    "            integer, fraction = s.split('.')\n",
    "            if '(' not in fraction:\n",
    "                return float(s)\n",
    "            \n",
    "            non_repeating, repeating = fraction[:-1].split('(')\n",
    "            ans = float(integer + '.' + non_repeating)\n",
    "            # 代入上面注释中的公式\n",
    "            x = int(repeating)\n",
    "            j, k = len(non_repeating), len(repeating)\n",
    "            repeating_value = x * 10**(-j-k) / (1 - 10**(-k))\n",
    "            return ans + repeating_value\n",
    "        \n",
    "        # return convert(S) == convert(T)  # float最后一位可能有问题, e.g. (\"0.16(6)\", \"0.166(66)\")\n",
    "        return abs(convert(S) - convert(T)) < 1e-7"
   ]
  },
  {
   "cell_type": "code",
   "execution_count": 2,
   "metadata": {},
   "outputs": [
    {
     "data": {
      "text/plain": [
       "True"
      ]
     },
     "execution_count": 2,
     "metadata": {},
     "output_type": "execute_result"
    }
   ],
   "source": [
    "s = Solution()\n",
    "s.isRationalEqual(\"0.16(6)\", \"0.166(66)\")"
   ]
  }
 ],
 "metadata": {
  "kernelspec": {
   "display_name": "Python 3",
   "language": "python",
   "name": "python3"
  },
  "language_info": {
   "codemirror_mode": {
    "name": "ipython",
    "version": 3
   },
   "file_extension": ".py",
   "mimetype": "text/x-python",
   "name": "python",
   "nbconvert_exporter": "python",
   "pygments_lexer": "ipython3",
   "version": "3.7.5"
  }
 },
 "nbformat": 4,
 "nbformat_minor": 2
}
