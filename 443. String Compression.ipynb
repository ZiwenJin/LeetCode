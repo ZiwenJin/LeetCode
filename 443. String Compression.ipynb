{
 "cells": [
  {
   "cell_type": "markdown",
   "metadata": {},
   "source": [
    "- Easy\n",
    "- 直白得遍历"
   ]
  },
  {
   "cell_type": "code",
   "execution_count": null,
   "metadata": {},
   "outputs": [],
   "source": [
    "class Solution:\n",
    "    def compress(self, chars: List[str]) -> int:\n",
    "        N = len(chars)\n",
    "        if N == 0:\n",
    "            return 0\n",
    "        \n",
    "        chars.append('0')\n",
    "        cur_chr = chars[0]\n",
    "        cur_chr_start_index = 0\n",
    "        modify_index = 0\n",
    "        for i, e in enumerate(chars[1:], 1):\n",
    "            if e != cur_chr:\n",
    "                cur_chr_cnt = i - cur_chr_start_index\n",
    "                chars[modify_index] = cur_chr\n",
    "                modify_index += 1\n",
    "                if cur_chr_cnt > 1:\n",
    "                    for digit in str(cur_chr_cnt):\n",
    "                        chars[modify_index] = digit\n",
    "                        modify_index += 1\n",
    "                cur_chr = e\n",
    "                cur_chr_start_index = i\n",
    "        return modify_index"
   ]
  }
 ],
 "metadata": {
  "kernelspec": {
   "display_name": "Python 3",
   "language": "python",
   "name": "python3"
  },
  "language_info": {
   "codemirror_mode": {
    "name": "ipython",
    "version": 3
   },
   "file_extension": ".py",
   "mimetype": "text/x-python",
   "name": "python",
   "nbconvert_exporter": "python",
   "pygments_lexer": "ipython3",
   "version": "3.7.5"
  }
 },
 "nbformat": 4,
 "nbformat_minor": 2
}
