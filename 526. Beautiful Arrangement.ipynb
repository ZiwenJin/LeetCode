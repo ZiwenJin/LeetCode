{
 "cells": [
  {
   "cell_type": "markdown",
   "metadata": {},
   "source": [
    "- Medium\n",
    "- Solution 1耗时1408ms, Solution 2耗时176ms\n",
    "- 因为倒着看level产生更少的branch, 比如N只有1和N满足条件, 而1对所有元素都满足条件"
   ]
  },
  {
   "cell_type": "code",
   "execution_count": null,
   "metadata": {},
   "outputs": [],
   "source": [
    "class Solution:\n",
    "    def countArrangement(self, N: int) -> int:\n",
    "        # Solution 2: backtrack, top-down\n",
    "        # tmp是level/depth的倒数, 找每个tmp的所有可选值\n",
    "        def backtrack(ans, tmp, visited):\n",
    "            if tmp == 0:\n",
    "                return ans + 1\n",
    "            else:\n",
    "                for i in range(N, 0, -1):\n",
    "                    if (not visited[i]) and (i % tmp == 0 or tmp % i == 0):\n",
    "                        visited[i] = True\n",
    "                        ans = backtrack(ans, tmp-1, visited)\n",
    "                        visited[i] = False\n",
    "                return ans\n",
    "                        \n",
    "        return backtrack(0, N, [False]*(N+1))\n",
    "        \n",
    "#         # Solution 1, backtrack, down-top\n",
    "#         # tmp是level/depth, 找当前level的所有可选值\n",
    "#         def backtrack(ans, tmp, visited):\n",
    "#             if tmp == N + 1:\n",
    "#                 return ans + 1\n",
    "#             else:\n",
    "#                 for i in range(1, N+1):\n",
    "#                     if (not visited[i]) and (i % tmp == 0 or tmp % i == 0):\n",
    "#                         visited[i] = True\n",
    "#                         tmp += 1\n",
    "#                         ans = backtrack(ans, tmp, visited)\n",
    "#                         visited[i] = False\n",
    "#                         tmp -= 1\n",
    "#             return ans\n",
    "        \n",
    "#         return backtrack(0, 1, [False]*(N+1))"
   ]
  }
 ],
 "metadata": {
  "kernelspec": {
   "display_name": "Python 3",
   "language": "python",
   "name": "python3"
  },
  "language_info": {
   "codemirror_mode": {
    "name": "ipython",
    "version": 3
   },
   "file_extension": ".py",
   "mimetype": "text/x-python",
   "name": "python",
   "nbconvert_exporter": "python",
   "pygments_lexer": "ipython3",
   "version": "3.7.5"
  }
 },
 "nbformat": 4,
 "nbformat_minor": 2
}
