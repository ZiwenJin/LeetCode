{
 "cells": [
  {
   "cell_type": "markdown",
   "metadata": {},
   "source": [
    "- Medium\n",
    "- Solution 1: backtracking. 核心就还是终止条件, 走一步, 递归, 回一步, 以及如何避免重复结果\n",
    "- Solution 2: dynamic programming. 核心是ans怎么设置"
   ]
  },
  {
   "cell_type": "code",
   "execution_count": null,
   "metadata": {},
   "outputs": [],
   "source": [
    "class Solution:\n",
    "    def combinationSum2(self, candidates: List[int], target: int) -> List[List[int]]:\n",
    "        # Solution 2: dynamic programming\n",
    "        candidates.sort()\n",
    "        ans = [[] for i in range(target + 1)]  # 每一个index保存所有和为该index的sublist\n",
    "        ans[0] = [[]]  # 起始条件, 即index 0的结果是[]\n",
    "        for i in candidates:\n",
    "            for j in range(target, i-1, -1):\n",
    "                # 对每个candidates, i,和某个target, j, 检查j - i的结果...\n",
    "                for p in ans[j-i]:\n",
    "                    if p + [i] not in ans[j]:\n",
    "                        # ...存在就append到target, j, 的结果\n",
    "                        ans[j].append(p + [i])\n",
    "        return ans[target]\n",
    "        \n",
    "        \n",
    "#         # Solution 1: backtracking\n",
    "#         def backtrack(tmp, rest, offset):\n",
    "#             if rest == 0:\n",
    "#                 ans.append(tmp[:])\n",
    "#             else:\n",
    "#                 for i, e in enumerate(candidates[offset:], offset):\n",
    "#                     # 因为candidates排序了, 所以可以直接break, 省时\n",
    "#                     if e > rest:\n",
    "#                         break\n",
    "#                     # 避免同一level上的重复\n",
    "#                     if (i == offset) or (e != candidates[i-1]):\n",
    "#                         tmp.append(e)\n",
    "#                         backtrack(tmp, rest-e, i+1)\n",
    "#                         tmp.pop()\n",
    "        \n",
    "#         candidates.sort()  # 方便避免重复的结果\n",
    "#         ans = []\n",
    "#         backtrack([], target, 0)\n",
    "#         return ans"
   ]
  }
 ],
 "metadata": {
  "kernelspec": {
   "display_name": "Python 3",
   "language": "python",
   "name": "python3"
  },
  "language_info": {
   "codemirror_mode": {
    "name": "ipython",
    "version": 3
   },
   "file_extension": ".py",
   "mimetype": "text/x-python",
   "name": "python",
   "nbconvert_exporter": "python",
   "pygments_lexer": "ipython3",
   "version": "3.7.5"
  }
 },
 "nbformat": 4,
 "nbformat_minor": 2
}
