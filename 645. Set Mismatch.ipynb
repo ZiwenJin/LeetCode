{
 "cells": [
  {
   "cell_type": "markdown",
   "metadata": {},
   "source": [
    "- Easy\n",
    "- 核心是排序后, 理清index值和对应位置值的大小\n",
    "- if, elif, 两个break, 和两个return保证了最多只需要遍历一次nums -> TC = O(N)"
   ]
  },
  {
   "cell_type": "code",
   "execution_count": 1,
   "metadata": {},
   "outputs": [],
   "source": [
    "class Solution:\n",
    "    def findErrorNums(self, nums):\n",
    "        if nums is None or len(nums) == 0:\n",
    "            return []\n",
    "        \n",
    "        nums.sort()  # 先排序\n",
    "        ans = [-1, len(nums)]  # [dup, mis], mis的这个初始值是有用的 \n",
    "        for i, n in enumerate(nums, 1):\n",
    "            if n < i:  # 先找到了dup ...\n",
    "                ans[0] = n\n",
    "                for j, m in enumerate(nums[i:], i+1):  # ... 继续找mis ...\n",
    "                    if m == j:  # ... 原来n是落后一位, 现在追上了, 说明前面跳过了一位. 但假如没追上, 说明mis的是最后一个, 即初始值\n",
    "                        ans[1] = m - 1\n",
    "                        break\n",
    "                return ans\n",
    "            elif n > i:  # 先找到了mis ...\n",
    "                ans[1] = i\n",
    "                for j, m in enumerate(nums[i:], i+1):  # ... 继续找dup\n",
    "                    if m == j:  # ... 原来n领先一位, 现在被追上了, 说明重复了一下. 这种情况dup肯定在后面\n",
    "                        ans[0] = m\n",
    "                        break\n",
    "                return ans"
   ]
  },
  {
   "cell_type": "code",
   "execution_count": 2,
   "metadata": {},
   "outputs": [
    {
     "name": "stdout",
     "output_type": "stream",
     "text": [
      "[1, 5]\n",
      "[1, 4]\n",
      "[2, 1]\n",
      "[3, 2]\n",
      "[4, 2]\n"
     ]
    }
   ],
   "source": [
    "s = Solution()\n",
    "cases = [[1,1,2,3,4], [1,1,2,3,5], [2,2,3,4,5], [1,3,3,4,5], [1,3,4,4,5]]\n",
    "for case in cases:\n",
    "    print(s.findErrorNums(case))"
   ]
  }
 ],
 "metadata": {
  "kernelspec": {
   "display_name": "Python 3",
   "language": "python",
   "name": "python3"
  },
  "language_info": {
   "codemirror_mode": {
    "name": "ipython",
    "version": 3
   },
   "file_extension": ".py",
   "mimetype": "text/x-python",
   "name": "python",
   "nbconvert_exporter": "python",
   "pygments_lexer": "ipython3",
   "version": "3.7.5"
  }
 },
 "nbformat": 4,
 "nbformat_minor": 2
}
