{
 "cells": [
  {
   "cell_type": "markdown",
   "metadata": {},
   "source": [
    "- Medium\n",
    "- 把过程看成CP组合, 比如[CPP][CP][CPPPP], 组合长度分别时3, 2, 5, 那么3*2*5就是输入的n\n",
    "- 对于合数, 比如c = a*b, 那么肯定可以拆成a, b两部分, 因为a+b<=a*b, if a,b>=2\n",
    "- 所以题目就变成输入n的所有因子的和"
   ]
  },
  {
   "cell_type": "code",
   "execution_count": null,
   "metadata": {},
   "outputs": [],
   "source": [
    "class Solution:\n",
    "    def minSteps(self, n: int) -> int:\n",
    "        cnt = 0\n",
    "        d = 2\n",
    "        while n > 1:\n",
    "            while n % d == 0:\n",
    "                n //= d\n",
    "                cnt += d\n",
    "            d += 1\n",
    "        return cnt"
   ]
  }
 ],
 "metadata": {
  "kernelspec": {
   "display_name": "Python 3",
   "language": "python",
   "name": "python3"
  },
  "language_info": {
   "codemirror_mode": {
    "name": "ipython",
    "version": 3
   },
   "file_extension": ".py",
   "mimetype": "text/x-python",
   "name": "python",
   "nbconvert_exporter": "python",
   "pygments_lexer": "ipython3",
   "version": "3.5.2"
  }
 },
 "nbformat": 4,
 "nbformat_minor": 2
}
