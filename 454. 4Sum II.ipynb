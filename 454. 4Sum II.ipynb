{
 "cells": [
  {
   "cell_type": "markdown",
   "metadata": {},
   "source": [
    "- Medium\n",
    "- 先遍历两个list, 用dict存每个sum的数量, 再遍历另外两个list, 求结果"
   ]
  },
  {
   "cell_type": "code",
   "execution_count": null,
   "metadata": {},
   "outputs": [],
   "source": [
    "class Solution:\n",
    "    def fourSumCount(self, A: List[int], B: List[int], C: List[int], D: List[int]) -> int:\n",
    "        n = len(A)\n",
    "        dict_ = dict()\n",
    "        for a in A:\n",
    "            for b in B:\n",
    "                dict_[a+b] = dict_.get(a+b, 0) + 1\n",
    "        \n",
    "        res = 0\n",
    "        for c in C:\n",
    "            for d in D:\n",
    "                if -(c+d) in dict_:\n",
    "                    res += dict_[-(c+d)]\n",
    "        return res\n",
    "        \n",
    "        \n",
    "#         def sum_dict(nums1, nums2):\n",
    "#             dict_ = dict()\n",
    "#             for e in nums1:\n",
    "#                 for f in nums2:\n",
    "#                     dict_[e+f] = dict_.get(e+f, 0) + 1\n",
    "#             return dict_\n",
    "    \n",
    "#         sum_dict_AB = sum_dict(A, B)\n",
    "#         sum_dict_CD = sum_dict(C, D)\n",
    "#         res = 0\n",
    "#         for k, v in sum_dict_AB.items():\n",
    "#             if -k in sum_dict_CD:\n",
    "#                 res += v * sum_dict_CD[-k]\n",
    "#         return res"
   ]
  }
 ],
 "metadata": {
  "kernelspec": {
   "display_name": "Python 3",
   "language": "python",
   "name": "python3"
  },
  "language_info": {
   "codemirror_mode": {
    "name": "ipython",
    "version": 3
   },
   "file_extension": ".py",
   "mimetype": "text/x-python",
   "name": "python",
   "nbconvert_exporter": "python",
   "pygments_lexer": "ipython3",
   "version": "3.5.2"
  }
 },
 "nbformat": 4,
 "nbformat_minor": 2
}
