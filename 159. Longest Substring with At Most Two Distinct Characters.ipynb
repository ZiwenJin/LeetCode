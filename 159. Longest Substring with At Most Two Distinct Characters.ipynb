{
 "cells": [
  {
   "cell_type": "markdown",
   "metadata": {},
   "source": [
    "- Medium"
   ]
  },
  {
   "cell_type": "markdown",
   "metadata": {},
   "source": [
    "- dynamic programming\n",
    "- 需要记录的是前两个不同的elements, 以及他们对应的最右的index. 另外还需记录全局最长长度和到当前的最长长度\n",
    "- 遍历时有3种情况\n",
    "> 1. 等于上一个: 更新cur_len和last_i\n",
    "> 2. 等于上上一个: 更新cur_len, 以及那两套变量\n",
    "> 3. 全新的element: 先更新max_len, 然后cur_len是last_c的数量 + 1 (新的cur_c), 然后再更新那两套变量"
   ]
  },
  {
   "cell_type": "code",
   "execution_count": null,
   "metadata": {},
   "outputs": [],
   "source": [
    "class Solution:\n",
    "    def lengthOfLongestSubstringTwoDistinct(self, s: str) -> int:\n",
    "        N = len(s)\n",
    "        if N <= 2:\n",
    "            return N\n",
    "        \n",
    "        last_last_c, last_last_i = None, None\n",
    "        last_c, last_i = s[0], 0\n",
    "        cur_len, max_len = 1, 1\n",
    "        for cur_i, cur_c in enumerate(s[1:], 1):\n",
    "            if cur_c == last_c:  # 等于上一个\n",
    "                cur_len += 1\n",
    "                last_i = cur_i\n",
    "            elif last_last_c is None or cur_c == last_last_c:  # 初始情况, 或者等于上上一个\n",
    "                cur_len += 1\n",
    "                last_last_c, last_last_i = last_c, last_i\n",
    "                last_c, last_i = cur_c, cur_i\n",
    "            else:  # 全新的element\n",
    "                max_len = max(max_len, cur_len)\n",
    "                cur_len = cur_i - last_last_i\n",
    "                last_last_c, last_last_i = last_c, last_i\n",
    "                last_c, last_i = cur_c, cur_i\n",
    "        return max(max_len, cur_len)"
   ]
  },
  {
   "cell_type": "markdown",
   "metadata": {},
   "source": [
    "- 统计连续数量 + sliding window\n",
    "- TC=O(N + C), SC=O(C), where C=len(set(s))"
   ]
  },
  {
   "cell_type": "code",
   "execution_count": null,
   "metadata": {},
   "outputs": [],
   "source": [
    "class Solution:\n",
    "    def lengthOfLongestSubstringTwoDistinct(self, s: str) -> int:\n",
    "        # base case\n",
    "        N = len(s)\n",
    "        if N <= 2:\n",
    "            return N\n",
    "        \n",
    "        # 先记录每个element连续出现的次数\n",
    "        s_zip = []\n",
    "        c, cnt, i = s[0], 1, 1\n",
    "        while i < N:\n",
    "            if s[i] == s[i-1]:\n",
    "                cnt += 1\n",
    "            else:\n",
    "                s_zip.append((c, cnt))\n",
    "                c, cnt = s[i], 1\n",
    "            i += 1\n",
    "        s_zip.append((c, cnt))\n",
    "        # 只有一种element\n",
    "        if len(s_zip) == 1:\n",
    "            return s_zip[0][1]\n",
    "        \n",
    "        # 开始sliding window\n",
    "        sets = set([s_zip[0][0], s_zip[1][0]])  # 两个distinct elements\n",
    "        ans = cur_size = s_zip[0][1] + s_zip[1][1]  # 对应的数量\n",
    "        l, r = 0, 2\n",
    "        while r < len(s_zip):\n",
    "            if s_zip[r][0] in sets:  # 重复的element\n",
    "                cur_size += s_zip[r][1]\n",
    "            else:  # 不重复, 那就更新ans, 和其他变量\n",
    "                ans = max(ans, cur_size)\n",
    "                l = r - 1\n",
    "                sets = set([s_zip[l][0], s_zip[r][0]])\n",
    "                cur_size = s_zip[l][1] + s_zip[r][1]\n",
    "            r += 1\n",
    "        return max(ans, cur_size)"
   ]
  },
  {
   "cell_type": "code",
   "execution_count": null,
   "metadata": {},
   "outputs": [],
   "source": [
    "s = Solution()\n",
    "s.lengthOfLongestSubstringTwoDistinct(\"cdaba\")"
   ]
  }
 ],
 "metadata": {
  "kernelspec": {
   "display_name": "Python 3",
   "language": "python",
   "name": "python3"
  },
  "language_info": {
   "codemirror_mode": {
    "name": "ipython",
    "version": 3
   },
   "file_extension": ".py",
   "mimetype": "text/x-python",
   "name": "python",
   "nbconvert_exporter": "python",
   "pygments_lexer": "ipython3",
   "version": "3.7.5"
  }
 },
 "nbformat": 4,
 "nbformat_minor": 2
}
