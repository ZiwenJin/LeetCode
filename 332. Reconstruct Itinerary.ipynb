{
 "cells": [
  {
   "cell_type": "markdown",
   "metadata": {},
   "source": [
    "- Medium\n",
    "- 这是一种特殊的图, 2个nodes之间可以有多条directional edges"
   ]
  },
  {
   "cell_type": "markdown",
   "metadata": {},
   "source": [
    "- 题目保证了从JFK出发肯定有一条走得通的path\n",
    "- 那用dfs + greedy, 每次找neighbors里最小的\n",
    "- 顺利的话直接就走完了\n",
    "- 但也可能走到dead end, e.g. [[JFK, SFO], [SFO, JFK], [JFK, ATL], [ATL, SFO], [SFO, ATL]], path是J->A->S->A, 走不出来了\n",
    "- 这种时候其实是SFO那还有另外一个cycle, 而且dfs正好可以回溯去走其他neighbors\n",
    "- 那如果用一个stack来反向记录path, 那这个cycle正好可以插入到J->A->S和S->A之间\n",
    "- 然后, 为了方便从小到大遍历neighbors, 那把每个点的neighbors (注意! neighbors可以存在重复值) 降序存储, 用的使用pop()即可"
   ]
  },
  {
   "cell_type": "code",
   "execution_count": null,
   "metadata": {},
   "outputs": [],
   "source": [
    "from collections import defaultdict\n",
    "\n",
    "class Solution:\n",
    "    def findItinerary(self, tickets: List[List[str]]) -> List[str]:\n",
    "        # 对每个airports, 降序存储其目的地\n",
    "        # 因为tickets元素可能重复, 所以该edges也可能重复\n",
    "        tickets.sort(reverse=True)\n",
    "        neigs = defaultdict(list)\n",
    "        for t in tickets:\n",
    "            neigs[t[0]].append(t[1])\n",
    "            \n",
    "        # dfs访问airports\n",
    "        def dfs(ap):\n",
    "            while neigs[ap]:\n",
    "                dfs(neigs[ap].pop())\n",
    "            path.append(ap)\n",
    "            \n",
    "        path = []\n",
    "        dfs('JFK')\n",
    "        return path[::-1]"
   ]
  },
  {
   "cell_type": "markdown",
   "metadata": {},
   "source": [
    "- TLE"
   ]
  },
  {
   "cell_type": "code",
   "execution_count": 33,
   "metadata": {},
   "outputs": [],
   "source": [
    "import functools\n",
    "\n",
    "class Solution:\n",
    "    def findItinerary(self, tickets):\n",
    "        airports = set(functools.reduce(lambda a, b: a + b, tickets))\n",
    "        neigs = {a: [] for a in airports}\n",
    "        for t in tickets:\n",
    "            neigs[t[0]].append(t[1])\n",
    "            \n",
    "        # dfs\n",
    "        def dfs(ap, left_trips, nxt_ava_aps, path, ans):\n",
    "            if len(left_trips) == 0:\n",
    "                return min(path, ans)\n",
    "            for nn in nxt_ava_aps.copy():\n",
    "                path += nn\n",
    "                left_trips.remove([ap, nn])\n",
    "                neigs[ap].remove(nn)\n",
    "                ans = dfs(nn, left_trips, neigs[nn], path, ans)\n",
    "                path = path[:-3]\n",
    "                left_trips.append([ap, nn])\n",
    "                neigs[ap].append(nn)\n",
    "            return ans\n",
    "        \n",
    "        ans = 'Z' * (len(tickets) * 6)\n",
    "        ans = dfs('JFK', tickets, neigs['JFK'], 'JFK', ans)\n",
    "        return [ans[i:i+3] for i in range(0, len(ans), 3)]"
   ]
  },
  {
   "cell_type": "code",
   "execution_count": 34,
   "metadata": {},
   "outputs": [
    {
     "data": {
      "text/plain": [
       "['JFK', 'ATL', 'JFK', 'SFO', 'ATL', 'SFO']"
      ]
     },
     "execution_count": 34,
     "metadata": {},
     "output_type": "execute_result"
    }
   ],
   "source": [
    "s = Solution()\n",
    "s.findItinerary([[\"JFK\",\"SFO\"],[\"JFK\",\"ATL\"],[\"SFO\",\"ATL\"],[\"ATL\",\"JFK\"],[\"ATL\",\"SFO\"]])"
   ]
  }
 ],
 "metadata": {
  "kernelspec": {
   "display_name": "Python 3",
   "language": "python",
   "name": "python3"
  },
  "language_info": {
   "codemirror_mode": {
    "name": "ipython",
    "version": 3
   },
   "file_extension": ".py",
   "mimetype": "text/x-python",
   "name": "python",
   "nbconvert_exporter": "python",
   "pygments_lexer": "ipython3",
   "version": "3.7.5"
  }
 },
 "nbformat": 4,
 "nbformat_minor": 2
}
