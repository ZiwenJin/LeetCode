{
 "cells": [
  {
   "cell_type": "markdown",
   "metadata": {},
   "source": [
    "- Medium\n",
    "- 用dict存到目前为止的和, 如果前面出现过, 说明从那到这这段的和为0 -> remove\n",
    "- remove时一方面next直接跳到后面一位, 另一方面也要把dict里的pop掉"
   ]
  },
  {
   "cell_type": "code",
   "execution_count": null,
   "metadata": {},
   "outputs": [],
   "source": [
    "# Definition for singly-linked list.\n",
    "# class ListNode:\n",
    "#     def __init__(self, x):\n",
    "#         self.val = x\n",
    "#         self.next = None\n",
    "\n",
    "class Solution:\n",
    "    def removeZeroSumSublists(self, head: ListNode) -> ListNode:\n",
    "        dummy, dummy.next = ListNode(-1), head\n",
    "        sum_dict = dict()\n",
    "        sum_dict[0] = dummy\n",
    "        cur_sum = 0\n",
    "        while head:\n",
    "            cur_sum += head.val\n",
    "            if cur_sum not in sum_dict:\n",
    "                sum_dict[cur_sum] = head\n",
    "                head = head.next\n",
    "            else:\n",
    "                remove_node = sum_dict[cur_sum].next\n",
    "                remove_sum = cur_sum + remove_node.val\n",
    "                while remove_node != head:\n",
    "                    sum_dict.pop(remove_sum)\n",
    "                    remove_node = remove_node.next\n",
    "                    remove_sum += remove_node.val\n",
    "                head = head.next\n",
    "                sum_dict[cur_sum].next = head\n",
    "        return dummy.next"
   ]
  }
 ],
 "metadata": {
  "kernelspec": {
   "display_name": "Python 3",
   "language": "python",
   "name": "python3"
  },
  "language_info": {
   "codemirror_mode": {
    "name": "ipython",
    "version": 3
   },
   "file_extension": ".py",
   "mimetype": "text/x-python",
   "name": "python",
   "nbconvert_exporter": "python",
   "pygments_lexer": "ipython3",
   "version": "3.7.5"
  }
 },
 "nbformat": 4,
 "nbformat_minor": 2
}
