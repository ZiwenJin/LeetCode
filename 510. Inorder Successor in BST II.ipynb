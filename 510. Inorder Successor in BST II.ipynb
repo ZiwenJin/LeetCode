{
 "cells": [
  {
   "cell_type": "markdown",
   "metadata": {},
   "source": [
    "- Medium\n",
    "- 可分为两种情况\n",
    "> 1. 存在right subtree, 则inorder successor为right subtree中的最小值, 即其最左的node  \n",
    "> 2. 不存在right subtree, 则看其ancestors, inorder的话是找left subtree包括该node的ancestor. 有可能找不到, 即node都是在right subtree里, 那就返回null"
   ]
  },
  {
   "cell_type": "code",
   "execution_count": null,
   "metadata": {},
   "outputs": [],
   "source": [
    "\"\"\"\n",
    "# Definition for a Node.\n",
    "class Node:\n",
    "    def __init__(self, val, left, right, parent):\n",
    "        self.val = val\n",
    "        self.left = left\n",
    "        self.right = right\n",
    "        self.parent = parent\n",
    "\"\"\"\n",
    "class Solution:\n",
    "    def inorderSuccessor(self, node: 'Node') -> 'Node':\n",
    "        if node.right:\n",
    "            successor = node.right\n",
    "            while successor.left:\n",
    "                successor = successor.left\n",
    "            return successor\n",
    "        \n",
    "        # 不满足while有两种情况: 1). parent是null, 返回null, 2). 是parent的left subtree, 那该parent即为答案\n",
    "        while node.parent and node.parent.right == node:\n",
    "            node = node.parent\n",
    "        return node.parent"
   ]
  }
 ],
 "metadata": {
  "kernelspec": {
   "display_name": "Python 3",
   "language": "python",
   "name": "python3"
  },
  "language_info": {
   "codemirror_mode": {
    "name": "ipython",
    "version": 3
   },
   "file_extension": ".py",
   "mimetype": "text/x-python",
   "name": "python",
   "nbconvert_exporter": "python",
   "pygments_lexer": "ipython3",
   "version": "3.7.5"
  }
 },
 "nbformat": 4,
 "nbformat_minor": 2
}
