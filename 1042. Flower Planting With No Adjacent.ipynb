{
 "cells": [
  {
   "cell_type": "markdown",
   "metadata": {},
   "source": [
    "- Easy\n",
    "- 1. 记录所有garden的neighbors -> O(M), where M=len(paths)\n",
    "- 2. 给garden赋值 -> O(3N)=O(N)"
   ]
  },
  {
   "cell_type": "code",
   "execution_count": null,
   "metadata": {},
   "outputs": [],
   "source": [
    "class Solution:\n",
    "    def gardenNoAdj(self, N: int, paths: List[List[int]]) -> List[int]:\n",
    "        garden_neigs = {g: [] for g in range(1, N+1)}\n",
    "        for p in paths:\n",
    "            garden_neigs[p[0]].append(p[1])\n",
    "            garden_neigs[p[1]].append(p[0])\n",
    "            \n",
    "        ans = [0] * (N+1)\n",
    "        colors_set = set([1,2,3,4])\n",
    "        for i in range(1, len(ans)):\n",
    "            ans[i] = min(colors_set - set([ans[neig] for neig in garden_neigs[i]]))\n",
    "        return ans[1:]"
   ]
  }
 ],
 "metadata": {
  "kernelspec": {
   "display_name": "Python 3",
   "language": "python",
   "name": "python3"
  },
  "language_info": {
   "codemirror_mode": {
    "name": "ipython",
    "version": 3
   },
   "file_extension": ".py",
   "mimetype": "text/x-python",
   "name": "python",
   "nbconvert_exporter": "python",
   "pygments_lexer": "ipython3",
   "version": "3.7.5"
  }
 },
 "nbformat": 4,
 "nbformat_minor": 2
}
