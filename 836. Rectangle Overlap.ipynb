{
 "cells": [
  {
   "cell_type": "markdown",
   "metadata": {},
   "source": [
    "- Easy\n",
    "- 考虑不重叠的情况: 一个矩形在另一个的上/下/左/右"
   ]
  },
  {
   "cell_type": "code",
   "execution_count": null,
   "metadata": {},
   "outputs": [],
   "source": [
    "class Solution:\n",
    "    def isRectangleOverlap(self, rec1: List[int], rec2: List[int]) -> bool:\n",
    "        l1, b1, r1, t1 = rec1\n",
    "        l2, b2, r2, t2 = rec2\n",
    "#         # logic 1: 判断不重叠的情况\n",
    "#         if (r1 <= l2) or (r2 <= l1) or (t1 <= b2) or (t2 <= b1):\n",
    "#             return False\n",
    "#         return True\n",
    "\n",
    "#         # logic 2: 直接return判断结果\n",
    "#         return not ((r1 <= l2) or (r2 <= l1) or (t1 <= b2) or (t2 <= b1))\n",
    "\n",
    "        # logic 3: not (A or B) -> (not A) and (not B)\n",
    "        return (r1 > l2) and (r2 > l1) and (t1 > b2) and (t2 > b1)"
   ]
  }
 ],
 "metadata": {
  "kernelspec": {
   "display_name": "Python 3",
   "language": "python",
   "name": "python3"
  },
  "language_info": {
   "codemirror_mode": {
    "name": "ipython",
    "version": 3
   },
   "file_extension": ".py",
   "mimetype": "text/x-python",
   "name": "python",
   "nbconvert_exporter": "python",
   "pygments_lexer": "ipython3",
   "version": "3.7.5"
  }
 },
 "nbformat": 4,
 "nbformat_minor": 2
}
