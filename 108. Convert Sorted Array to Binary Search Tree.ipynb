{
 "cells": [
  {
   "cell_type": "markdown",
   "metadata": {},
   "source": [
    "- Easy\n",
    "- 递归, 第一种方法传递的参数更少"
   ]
  },
  {
   "cell_type": "code",
   "execution_count": null,
   "metadata": {},
   "outputs": [],
   "source": [
    "# Definition for a binary tree node.\n",
    "# class TreeNode:\n",
    "#     def __init__(self, x):\n",
    "#         self.val = x\n",
    "#         self.left = None\n",
    "#         self.right = None\n",
    "\n",
    "class Solution:\n",
    "    def sortedArrayToBST(self, nums: List[int]) -> TreeNode:\n",
    "        def helper(l, r):\n",
    "            if l > r:\n",
    "                return None\n",
    "            elif l == r:\n",
    "                return TreeNode(nums[l])\n",
    "            m = (l + r) // 2\n",
    "            node = TreeNode(nums[m])\n",
    "            node.left = helper(l, m-1)\n",
    "            node.right = helper(m+1, r)\n",
    "            return node\n",
    "        \n",
    "        return helper(0, len(nums)-1)"
   ]
  },
  {
   "cell_type": "code",
   "execution_count": null,
   "metadata": {},
   "outputs": [],
   "source": [
    "# Definition for a binary tree node.\n",
    "# class TreeNode:\n",
    "#     def __init__(self, x):\n",
    "#         self.val = x\n",
    "#         self.left = None\n",
    "#         self.right = None\n",
    "\n",
    "class Solution:\n",
    "    def sortedArrayToBST(self, nums: List[int]) -> TreeNode:\n",
    "        def helper(nums):\n",
    "            N = len(nums)\n",
    "            if N == 0:\n",
    "                return None\n",
    "            elif N == 1:\n",
    "                return TreeNode(nums[0])\n",
    "            node = TreeNode(nums[N//2])\n",
    "            node.left = helper(nums[:N//2])\n",
    "            node.right = helper(nums[N//2+1:])\n",
    "            return node\n",
    "        \n",
    "        return helper(nums)"
   ]
  }
 ],
 "metadata": {
  "kernelspec": {
   "display_name": "Python 3",
   "language": "python",
   "name": "python3"
  },
  "language_info": {
   "codemirror_mode": {
    "name": "ipython",
    "version": 3
   },
   "file_extension": ".py",
   "mimetype": "text/x-python",
   "name": "python",
   "nbconvert_exporter": "python",
   "pygments_lexer": "ipython3",
   "version": "3.7.5"
  }
 },
 "nbformat": 4,
 "nbformat_minor": 2
}
