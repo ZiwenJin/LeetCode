{
 "cells": [
  {
   "cell_type": "markdown",
   "metadata": {},
   "source": [
    "- Hard\n",
    "- https://leetcode.com/problems/longest-duplicate-substring/ 没做完"
   ]
  },
  {
   "cell_type": "markdown",
   "metadata": {},
   "source": [
    "- From Programming Pearls p180\n",
    "- 但是MLE!!!"
   ]
  },
  {
   "cell_type": "code",
   "execution_count": null,
   "metadata": {},
   "outputs": [],
   "source": [
    "class Solution:\n",
    "    def longestDupSubstring(self, S: str) -> str:\n",
    "        # 比较两个string从头开始有多少元素一样\n",
    "        def compare(s1, s2):\n",
    "            i = 0\n",
    "            for c1, c2 in zip(s1, s2):\n",
    "                if c1 == c2:\n",
    "                    i += 1\n",
    "                else:\n",
    "                    break\n",
    "            return s1[:i], i\n",
    "        \n",
    "        N = len(S)\n",
    "        postfix = []  # 后缀数组, 记录从每个index开始的substring\n",
    "        for i in range(N):\n",
    "            postfix.append(S[i:])\n",
    "        \n",
    "        postfix.sort()  # 排序后比较连续两个substring的起始部分\n",
    "        \n",
    "        longest_dup_substr = ''\n",
    "        longest_dup_len = 0\n",
    "        for s1, s2 in zip(postfix, postfix[1:]):\n",
    "            tmp_str, tmp_len = compare(s1, s2)\n",
    "            if tmp_len > longest_dup_len:\n",
    "                longest_dup_substr, longest_dup_len = tmp_str, tmp_len\n",
    "        return longest_dup_substr"
   ]
  }
 ],
 "metadata": {
  "kernelspec": {
   "display_name": "Python 3",
   "language": "python",
   "name": "python3"
  },
  "language_info": {
   "codemirror_mode": {
    "name": "ipython",
    "version": 3
   },
   "file_extension": ".py",
   "mimetype": "text/x-python",
   "name": "python",
   "nbconvert_exporter": "python",
   "pygments_lexer": "ipython3",
   "version": "3.7.5"
  }
 },
 "nbformat": 4,
 "nbformat_minor": 2
}
