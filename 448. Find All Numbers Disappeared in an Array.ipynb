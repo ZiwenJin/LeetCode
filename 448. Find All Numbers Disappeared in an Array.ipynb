{
 "cells": [
  {
   "cell_type": "markdown",
   "metadata": {},
   "source": [
    "- Easy\n",
    "- 时间复杂度都是O(N), 但Solution 1的空间复杂度为O(N), Solution 2 & 3的为O(1)"
   ]
  },
  {
   "cell_type": "code",
   "execution_count": null,
   "metadata": {},
   "outputs": [],
   "source": [
    "class Solution:\n",
    "    def findDisappearedNumbers(self, nums: List[int]) -> List[int]:\n",
    "        # Solution 3: bucket v2, inplace modification\n",
    "        # 这个逻辑似乎更加直观, 对于每个元素, 把对应index上的元素转成负的, 看上去就不用两个循环, 虽然时间复杂度都是O(N)\n",
    "        for i in range(len(nums)):\n",
    "            its_index = abs(nums[i]) - 1\n",
    "            nums[its_index] = abs(nums[its_index]) * -1\n",
    "        return [i for i, e in enumerate(nums, 1) if e > 0]\n",
    "        \n",
    "        # # Solution 2: bucket,  inplace modification\n",
    "        # # 遍历, 把每个元素放到对应的index上\n",
    "        # for i in range(len(nums)):\n",
    "        #     cur = nums[i]\n",
    "        #     while nums[cur-1] != cur:  # 若不在该在的index上, 循环\n",
    "        #         nums[cur-1], cur = cur, nums[cur-1]\n",
    "        # return [i for i, e in enumerate(nums, 1) if i != e]\n",
    "        \n",
    "        # # Solution 1: set\n",
    "        # return list(set(range(1, len(nums)+1)) - set(nums))"
   ]
  }
 ],
 "metadata": {
  "kernelspec": {
   "display_name": "Python 3",
   "language": "python",
   "name": "python3"
  },
  "language_info": {
   "codemirror_mode": {
    "name": "ipython",
    "version": 3
   },
   "file_extension": ".py",
   "mimetype": "text/x-python",
   "name": "python",
   "nbconvert_exporter": "python",
   "pygments_lexer": "ipython3",
   "version": "3.7.5"
  }
 },
 "nbformat": 4,
 "nbformat_minor": 2
}
