{
 "cells": [
  {
   "cell_type": "markdown",
   "metadata": {},
   "source": [
    "- Medium\n",
    "- python itertools还是好用的"
   ]
  },
  {
   "cell_type": "code",
   "execution_count": 7,
   "metadata": {},
   "outputs": [],
   "source": [
    "class Solution:\n",
    "    def combine(self, n: int, k: int) -> List[List[int]]:\n",
    "        # Solution 3: recursive\n",
    "        if k == 0:\n",
    "            return [[]]\n",
    "        if n < k:\n",
    "            return []\n",
    "        if n == k:\n",
    "            return [list(range(1, n+1))]\n",
    "        \n",
    "        ans = []\n",
    "        for i in range(1, n+1):\n",
    "            sub_combs = self.combine(i-1, k-1)\n",
    "            for c in sub_combs:\n",
    "                c.append(i)\n",
    "            ans.extend(sub_combs)\n",
    "        return ans\n",
    "        \n",
    "        \n",
    "#         # Solution 2: python itertools\n",
    "#         from itertools import combinations\n",
    "#         return list(itertools.combinations(range(1, n+1), k))\n",
    "        \n",
    "        \n",
    "#         # Solution 1: backtracking\n",
    "#         def backtrack(tmp, start):\n",
    "#             if len(tmp) == k:\n",
    "#                 ans.append(tmp)\n",
    "#             else:\n",
    "#                 for i in range(start, n+1):\n",
    "#                     if k - len(tmp) > n - i + 1:\n",
    "#                         break\n",
    "#                     backtrack(tmp + [i], i+1)\n",
    "        \n",
    "#         ans = []\n",
    "#         backtrack([], 1)\n",
    "#         return ans"
   ]
  }
 ],
 "metadata": {
  "kernelspec": {
   "display_name": "Python 3",
   "language": "python",
   "name": "python3"
  },
  "language_info": {
   "codemirror_mode": {
    "name": "ipython",
    "version": 3
   },
   "file_extension": ".py",
   "mimetype": "text/x-python",
   "name": "python",
   "nbconvert_exporter": "python",
   "pygments_lexer": "ipython3",
   "version": "3.7.5"
  }
 },
 "nbformat": 4,
 "nbformat_minor": 2
}
