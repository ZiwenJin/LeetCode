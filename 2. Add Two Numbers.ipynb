{
 "cells": [
  {
   "cell_type": "markdown",
   "metadata": {},
   "source": [
    "- 遍历两个linked list, 考虑carry位, 每次新生成一个ListNode\n",
    "- 注意判断l1, l2是否某个为None (由于长短不同)\n",
    "- 不要忘了最后的carry位"
   ]
  },
  {
   "cell_type": "code",
   "execution_count": null,
   "metadata": {
    "collapsed": true
   },
   "outputs": [],
   "source": [
    "# Definition for singly-linked list.\n",
    "# class ListNode(object):\n",
    "#     def __init__(self, x):\n",
    "#         self.val = x\n",
    "#         self.next = None\n",
    "\n",
    "class Solution(object):\n",
    "    def addTwoNumbers(self, l1, l2):\n",
    "        \"\"\"\n",
    "        :type l1: ListNode\n",
    "        :type l2: ListNode\n",
    "        :rtype: ListNode\n",
    "        \"\"\"\n",
    "        head = cur = ListNode(-1)\n",
    "        carry = 0\n",
    "        while l1 or l2:\n",
    "            a = l1.val if l1 else 0\n",
    "            b = l2.val if l2 else 0\n",
    "            s = a + b + carry\n",
    "            \n",
    "            cur.next = ListNode(s%10)\n",
    "            cur = cur.next\n",
    "            carry = s // 10\n",
    "            \n",
    "            if l1: l1 = l1.next\n",
    "            if l2: l2 = l2.next\n",
    "            \n",
    "        if carry:\n",
    "            cur.next = ListNode(carry)\n",
    "            \n",
    "        return head.next"
   ]
  }
 ],
 "metadata": {
  "kernelspec": {
   "display_name": "Python [default]",
   "language": "python",
   "name": "python3"
  },
  "language_info": {
   "codemirror_mode": {
    "name": "ipython",
    "version": 3
   },
   "file_extension": ".py",
   "mimetype": "text/x-python",
   "name": "python",
   "nbconvert_exporter": "python",
   "pygments_lexer": "ipython3",
   "version": "3.5.2"
  }
 },
 "nbformat": 4,
 "nbformat_minor": 2
}
