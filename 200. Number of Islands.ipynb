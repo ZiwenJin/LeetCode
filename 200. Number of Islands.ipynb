{
 "cells": [
  {
   "cell_type": "markdown",
   "metadata": {},
   "source": [
    "- Medium\n",
    "- DFS, 每碰到\"1\", 就把相邻的\"1\"淹了"
   ]
  },
  {
   "cell_type": "code",
   "execution_count": 28,
   "metadata": {},
   "outputs": [],
   "source": [
    "class Solution:\n",
    "    def numIslands(self, grid) -> int:\n",
    "        def sink(i, j):\n",
    "            if 0 <= i < N and 0 <= j < M and grid[i][j] == '1':\n",
    "                grid[i][j] = '0'\n",
    "#                 sink(i-1, j)\n",
    "#                 sink(i+1, j)\n",
    "#                 sink(i, j-1)\n",
    "#                 sink(i, j+1)\n",
    "                list(map(sink, (i-1, i+1, i, i), (j, j, j-1, j+1)))  # 必须套list, 因为python3里map返回iterator而不是list, 所以只有用时才会执行\n",
    "    \n",
    "        if grid is None or len(grid) == 0 or len(grid[0]) == 0:\n",
    "            return 0\n",
    "        \n",
    "        ans = 0\n",
    "        N, M = len(grid), len(grid[0])\n",
    "        for i in range(N):\n",
    "            for j in range(M):\n",
    "                if grid[i][j] == '1':\n",
    "                    ans += 1\n",
    "                    sink(i, j)\n",
    "        return ans"
   ]
  }
 ],
 "metadata": {
  "kernelspec": {
   "display_name": "Python 3",
   "language": "python",
   "name": "python3"
  },
  "language_info": {
   "codemirror_mode": {
    "name": "ipython",
    "version": 3
   },
   "file_extension": ".py",
   "mimetype": "text/x-python",
   "name": "python",
   "nbconvert_exporter": "python",
   "pygments_lexer": "ipython3",
   "version": "3.7.5"
  }
 },
 "nbformat": 4,
 "nbformat_minor": 2
}
