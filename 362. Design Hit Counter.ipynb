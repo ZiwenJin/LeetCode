{
 "cells": [
  {
   "cell_type": "markdown",
   "metadata": {},
   "source": [
    "- Medium"
   ]
  },
  {
   "cell_type": "markdown",
   "metadata": {},
   "source": [
    "- 用queue记录hits, 用(timestamp, cnt)格式方便扩展\n",
    "- 在hit()和getHits()里都进行queue pop, 以控制存储空间"
   ]
  },
  {
   "cell_type": "code",
   "execution_count": null,
   "metadata": {},
   "outputs": [],
   "source": [
    "from collections import deque\n",
    "\n",
    "class HitCounter:\n",
    "\n",
    "    def __init__(self):\n",
    "        \"\"\"\n",
    "        Initialize your data structure here.\n",
    "        \"\"\"\n",
    "        self.hit_queue = deque([])\n",
    "\n",
    "    def hit(self, timestamp: int) -> None:\n",
    "        \"\"\"\n",
    "        Record a hit.\n",
    "        @param timestamp - The current timestamp (in seconds granularity).\n",
    "        \"\"\"\n",
    "        while self.hit_queue and timestamp - self.hit_queue[0][0] >= 300:\n",
    "            self.hit_queue.popleft()\n",
    "        self.hit_queue.append((timestamp, 1))\n",
    "\n",
    "    def getHits(self, timestamp: int) -> int:\n",
    "        \"\"\"\n",
    "        Return the number of hits in the past 5 minutes.\n",
    "        @param timestamp - The current timestamp (in seconds granularity).\n",
    "        \"\"\"\n",
    "        while self.hit_queue and timestamp - self.hit_queue[0][0] >= 300:\n",
    "            self.hit_queue.popleft()\n",
    "        return sum(h[1] for h in self.hit_queue)\n",
    "        \n",
    "\n",
    "\n",
    "# Your HitCounter object will be instantiated and called as such:\n",
    "# obj = HitCounter()\n",
    "# obj.hit(timestamp)\n",
    "# param_2 = obj.getHits(timestamp)"
   ]
  },
  {
   "cell_type": "markdown",
   "metadata": {},
   "source": [
    "- 我觉得既然getHits可以传timestamp, 那不删除比较好, 万一想查之前的结果呢?"
   ]
  },
  {
   "cell_type": "code",
   "execution_count": null,
   "metadata": {},
   "outputs": [],
   "source": [
    "class HitCounter:\n",
    "\n",
    "    def __init__(self):\n",
    "        \"\"\"\n",
    "        Initialize your data structure here.\n",
    "        \"\"\"\n",
    "        self.hit_cnt = dict()\n",
    "\n",
    "    def hit(self, timestamp: int) -> None:\n",
    "        \"\"\"\n",
    "        Record a hit.\n",
    "        @param timestamp - The current timestamp (in seconds granularity).\n",
    "        \"\"\"\n",
    "        self.hit_cnt[timestamp] = self.hit_cnt.get(timestamp, 0) + 1\n",
    "\n",
    "    def getHits(self, timestamp: int) -> int:\n",
    "        \"\"\"\n",
    "        Return the number of hits in the past 5 minutes.\n",
    "        @param timestamp - The current timestamp (in seconds granularity).\n",
    "        \"\"\"\n",
    "        return sum(v for k, v in self.hit_cnt.items() if timestamp-300<k<=timestamp)\n",
    "        \n",
    "\n",
    "\n",
    "# Your HitCounter object will be instantiated and called as such:\n",
    "# obj = HitCounter()\n",
    "# obj.hit(timestamp)\n",
    "# param_2 = obj.getHits(timestamp)"
   ]
  }
 ],
 "metadata": {
  "kernelspec": {
   "display_name": "Python 3",
   "language": "python",
   "name": "python3"
  },
  "language_info": {
   "codemirror_mode": {
    "name": "ipython",
    "version": 3
   },
   "file_extension": ".py",
   "mimetype": "text/x-python",
   "name": "python",
   "nbconvert_exporter": "python",
   "pygments_lexer": "ipython3",
   "version": "3.7.5"
  }
 },
 "nbformat": 4,
 "nbformat_minor": 2
}
