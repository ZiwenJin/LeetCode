{
 "cells": [
  {
   "cell_type": "markdown",
   "metadata": {},
   "source": [
    "- Medium\n",
    "- 用累积面积来sample和找对应的rect"
   ]
  },
  {
   "cell_type": "code",
   "execution_count": 1,
   "metadata": {},
   "outputs": [],
   "source": [
    "import random\n",
    "import bisect\n",
    "\n",
    "class Solution:\n",
    "\n",
    "    def __init__(self, rects):\n",
    "        # 记录所有rects的累积面积\n",
    "        self.rects, self.cum_area, tmp = rects, [0], 0\n",
    "        for x1,y1,x2,y2 in rects:\n",
    "            tmp += (x2-x1+1) * (y2-y1+1)\n",
    "            self.cum_area.append(tmp)\n",
    "\n",
    "    def pick(self):\n",
    "        picked_num = random.randint(1, self.cum_area[-1])  # 从累积面积中sample一个数\n",
    "        picked_index = bisect.bisect_left(self.cum_area, picked_num)  # 确定选中的rect\n",
    "        x1, y1, x2, y2 = self.rects[picked_index - 1]\n",
    "        picked_offset = picked_num - self.cum_area[picked_index - 1] - 1  # 在选中的rect中的偏移量, 从0开始计数\n",
    "        y_offset, x_offset = divmod(picked_offset, x2-x1+1)\n",
    "        return [x1 + x_offset, y1 + y_offset]\n",
    "\n",
    "# Your Solution object will be instantiated and called as such:\n",
    "# obj = Solution(rects)\n",
    "# param_1 = obj.pick()"
   ]
  },
  {
   "cell_type": "code",
   "execution_count": 2,
   "metadata": {},
   "outputs": [
    {
     "data": {
      "text/plain": [
       "[0, 25]"
      ]
     },
     "execution_count": 2,
     "metadata": {},
     "output_type": "execute_result"
    }
   ],
   "source": [
    "s = Solution([[1, 1, 5, 5]])\n",
    "s.cum_area"
   ]
  },
  {
   "cell_type": "code",
   "execution_count": 3,
   "metadata": {},
   "outputs": [
    {
     "data": {
      "text/plain": [
       "[[4, 3], [2, 4], [3, 4], [3, 3], [1, 2]]"
      ]
     },
     "execution_count": 3,
     "metadata": {},
     "output_type": "execute_result"
    }
   ],
   "source": [
    "[s.pick() for _ in range(5)]"
   ]
  }
 ],
 "metadata": {
  "kernelspec": {
   "display_name": "Python 3",
   "language": "python",
   "name": "python3"
  },
  "language_info": {
   "codemirror_mode": {
    "name": "ipython",
    "version": 3
   },
   "file_extension": ".py",
   "mimetype": "text/x-python",
   "name": "python",
   "nbconvert_exporter": "python",
   "pygments_lexer": "ipython3",
   "version": "3.7.5"
  }
 },
 "nbformat": 4,
 "nbformat_minor": 2
}
