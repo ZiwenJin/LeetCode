{
 "cells": [
  {
   "cell_type": "markdown",
   "metadata": {},
   "source": [
    "- Easy\n",
    "- 3 solutions, dynamic programming效率最高, generator可以一个个输出"
   ]
  },
  {
   "cell_type": "code",
   "execution_count": 13,
   "metadata": {},
   "outputs": [],
   "source": [
    "class Solution:\n",
    "    def fib(self, N: int) -> int:\n",
    "        # solution 3: python generator\n",
    "        def generator(n):\n",
    "            a, b = 0, 1\n",
    "            for i in range(n):\n",
    "                yield a\n",
    "                a, b = b, a + b\n",
    "        return list(generator(N+1))[-1]\n",
    "        \n",
    "        # # solution 2: dynamic programming\n",
    "        # if N <= 1:\n",
    "        #     return N\n",
    "        # pp_v, p_v = 0, 1\n",
    "        # for i in range(2, N+1):\n",
    "        #     pp_v, p_v = p_v, pp_v + p_v\n",
    "        # return p_v\n",
    "        \n",
    "        # # solution 1: recursive\n",
    "        # def recursive(k):\n",
    "        #     if k <= 1:\n",
    "        #         return max(k, 0)\n",
    "        #     return recursive(k-1) + recursive(k-2)\n",
    "        # return recursive(N)"
   ]
  }
 ],
 "metadata": {
  "kernelspec": {
   "display_name": "Python 3",
   "language": "python",
   "name": "python3"
  },
  "language_info": {
   "codemirror_mode": {
    "name": "ipython",
    "version": 3
   },
   "file_extension": ".py",
   "mimetype": "text/x-python",
   "name": "python",
   "nbconvert_exporter": "python",
   "pygments_lexer": "ipython3",
   "version": "3.7.5"
  }
 },
 "nbformat": 4,
 "nbformat_minor": 2
}
