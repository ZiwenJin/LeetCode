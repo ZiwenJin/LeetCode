{
 "cells": [
  {
   "cell_type": "markdown",
   "metadata": {},
   "source": [
    "- Hard\n",
    "- (i, j)位True的情况是要么(i-1, j) True 且s1[i-1]和s3[i+j-1]一样, 要么(i, j-1) True 且s2[j-1]和s3[i+j-1]一样\n",
    "- 矩阵画出来的话其实是看是否存在一条True从(0, 0)到(-1, -1)"
   ]
  },
  {
   "cell_type": "code",
   "execution_count": null,
   "metadata": {},
   "outputs": [],
   "source": [
    "class Solution:\n",
    "    def isInterleave(self, s1: str, s2: str, s3: str) -> bool:\n",
    "        l1, l2, l3 = len(s1), len(s2), len(s3)\n",
    "        if l1 + l2 != l3:\n",
    "            return False\n",
    "        \n",
    "        memory = [[False] * (l1 + 1) for j in range(l2+1)]\n",
    "        for j in range(l2+1):\n",
    "            for i in range(l1+1):\n",
    "                if i + j == 0:\n",
    "                    memory[j][i] = True\n",
    "                elif j == 0:\n",
    "                    memory[j][i] = memory[j][i-1] and s1[i-1] == s3[i-1]\n",
    "                elif i == 0:\n",
    "                    memory[j][i] = memory[j-1][i] and s2[j-1] == s3[j-1]\n",
    "                else:\n",
    "                    memory[j][i] = (memory[j][i-1] and s1[i-1] == s3[j+i-1]) or (memory[j-1][i] and s2[j-1] == s3[j+i-1])\n",
    "        return memory[-1][-1]"
   ]
  }
 ],
 "metadata": {
  "kernelspec": {
   "display_name": "Python 3",
   "language": "python",
   "name": "python3"
  },
  "language_info": {
   "codemirror_mode": {
    "name": "ipython",
    "version": 3
   },
   "file_extension": ".py",
   "mimetype": "text/x-python",
   "name": "python",
   "nbconvert_exporter": "python",
   "pygments_lexer": "ipython3",
   "version": "3.5.2"
  }
 },
 "nbformat": 4,
 "nbformat_minor": 2
}
