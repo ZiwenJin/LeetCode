{
 "cells": [
  {
   "cell_type": "markdown",
   "metadata": {},
   "source": [
    "- Medium\n",
    "- 和普通的Binary Search区别在于需要先判断[l, m]和[m, h]哪段是有序"
   ]
  },
  {
   "cell_type": "code",
   "execution_count": null,
   "metadata": {
    "collapsed": true
   },
   "outputs": [],
   "source": [
    "class Solution(object):\n",
    "    def search(self, nums, target):\n",
    "        \"\"\"\n",
    "        :type nums: List[int]\n",
    "        :type target: int\n",
    "        :rtype: int\n",
    "        \"\"\"\n",
    "        if not nums:\n",
    "            return -1\n",
    "        \n",
    "        n = len(nums)\n",
    "        l, h = 0, n-1\n",
    "        while l <= h:\n",
    "            m = (l + h) // 2\n",
    "            if nums[m] == target:\n",
    "                return m\n",
    "            \n",
    "            # [l, m] is sorted\n",
    "            if nums[m] >= nums[0]:\n",
    "                if nums[l] <= target < nums[m]:\n",
    "                    h = m - 1\n",
    "                else:\n",
    "                    l = m + 1\n",
    "            # [m, h] is sorted\n",
    "            else:\n",
    "                if nums[m] < target <= nums[h]:\n",
    "                    l = m + 1\n",
    "                else:\n",
    "                    h = m - 1\n",
    "        return -1"
   ]
  }
 ],
 "metadata": {
  "kernelspec": {
   "display_name": "Python [default]",
   "language": "python",
   "name": "python3"
  },
  "language_info": {
   "codemirror_mode": {
    "name": "ipython",
    "version": 3
   },
   "file_extension": ".py",
   "mimetype": "text/x-python",
   "name": "python",
   "nbconvert_exporter": "python",
   "pygments_lexer": "ipython3",
   "version": "3.5.2"
  }
 },
 "nbformat": 4,
 "nbformat_minor": 2
}
