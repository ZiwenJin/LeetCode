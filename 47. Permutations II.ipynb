{
 "cells": [
  {
   "cell_type": "markdown",
   "metadata": {},
   "source": [
    "- Medium\n",
    "- use a Counter to record how long to go, and iterate its keys to avoid duplication"
   ]
  },
  {
   "cell_type": "code",
   "execution_count": null,
   "metadata": {},
   "outputs": [],
   "source": [
    "import collections\n",
    "\n",
    "class Solution:\n",
    "    def permuteUnique(self, nums: List[int]) -> List[List[int]]:\n",
    "        # backtracking\n",
    "        def backtrack(tmp):\n",
    "            if len(tmp) == len(nums):\n",
    "                ans.append(tmp[:])\n",
    "            else:\n",
    "                for n in cnt:\n",
    "                    if cnt[n] > 0:\n",
    "                        tmp.append(n)\n",
    "                        cnt[n] -= 1\n",
    "                        backtrack(tmp)\n",
    "                        tmp.pop()\n",
    "                        cnt[n] += 1\n",
    "        \n",
    "        ans = []\n",
    "        cnt = collections.Counter(nums)\n",
    "        backtrack([])\n",
    "        return ans"
   ]
  }
 ],
 "metadata": {
  "kernelspec": {
   "display_name": "Python 3",
   "language": "python",
   "name": "python3"
  },
  "language_info": {
   "codemirror_mode": {
    "name": "ipython",
    "version": 3
   },
   "file_extension": ".py",
   "mimetype": "text/x-python",
   "name": "python",
   "nbconvert_exporter": "python",
   "pygments_lexer": "ipython3",
   "version": "3.7.5"
  }
 },
 "nbformat": 4,
 "nbformat_minor": 2
}
