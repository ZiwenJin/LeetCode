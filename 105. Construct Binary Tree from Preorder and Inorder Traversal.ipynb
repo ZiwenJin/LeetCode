{
 "cells": [
  {
   "cell_type": "markdown",
   "metadata": {},
   "source": [
    "- Medium\n",
    "- Solution 1更好理解\n",
    "> 1. None  \n",
    "> 2. leaf node  \n",
    "> 3. left & right: recursive\n",
    "- Solution 2跑得更快, 因为不需要重复的算inorder.index(v)"
   ]
  },
  {
   "cell_type": "code",
   "execution_count": null,
   "metadata": {},
   "outputs": [],
   "source": [
    "# Definition for a binary tree node.\n",
    "# class TreeNode:\n",
    "#     def __init__(self, x):\n",
    "#         self.val = x\n",
    "#         self.left = None\n",
    "#         self.right = None\n",
    "\n",
    "class Solution:\n",
    "    def buildTree(self, preorder: List[int], inorder: List[int]) -> TreeNode:\n",
    "#         # Solution 1: 直观的recursive\n",
    "#         N = len(preorder)\n",
    "#         if N == 0:\n",
    "#             return None\n",
    "        \n",
    "#         node = TreeNode(preorder[0])\n",
    "#         if N == 1:\n",
    "#             return node\n",
    "#         index = inorder.index(preorder[0])\n",
    "#         node.left = self.buildTree(preorder[1:index+1], inorder[:index])\n",
    "#         node.right = self.buildTree(preorder[index+1:], inorder[index+1:])\n",
    "#         return node\n",
    "        \n",
    "        # Solution 2: 通过pre_index和in_dict, 跑更快些\n",
    "        def helper(l, r):\n",
    "            nonlocal pre_index\n",
    "            if l > r:\n",
    "                return None\n",
    "            \n",
    "            val = preorder[pre_index]\n",
    "            node = TreeNode(val)\n",
    "            pre_index += 1\n",
    "            if l == r:\n",
    "                return node\n",
    "            in_index = in_dict[val]\n",
    "            node.left = helper(l, in_index-1)\n",
    "            node.right = helper(in_index+1, r)\n",
    "            return node\n",
    "        \n",
    "        pre_index = 0\n",
    "        in_dict = {e: i for i, e in enumerate(inorder)}\n",
    "        N = len(preorder)\n",
    "        return helper(0, N-1)"
   ]
  }
 ],
 "metadata": {
  "kernelspec": {
   "display_name": "Python 3",
   "language": "python",
   "name": "python3"
  },
  "language_info": {
   "codemirror_mode": {
    "name": "ipython",
    "version": 3
   },
   "file_extension": ".py",
   "mimetype": "text/x-python",
   "name": "python",
   "nbconvert_exporter": "python",
   "pygments_lexer": "ipython3",
   "version": "3.7.5"
  }
 },
 "nbformat": 4,
 "nbformat_minor": 2
}
