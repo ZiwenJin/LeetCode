{
 "cells": [
  {
   "cell_type": "markdown",
   "metadata": {},
   "source": [
    "- Hard\n",
    "- 先找edges, 然后用topological sort即可, 参考Course Schedule和Course Schedule II"
   ]
  },
  {
   "cell_type": "markdown",
   "metadata": {},
   "source": [
    "- 更直观的找edges的方法\n",
    "- 对任意两个相连的words, 最前面不相同的字母就代表着一条edge "
   ]
  },
  {
   "cell_type": "code",
   "execution_count": null,
   "metadata": {},
   "outputs": [],
   "source": [
    "from collections import deque, defaultdict\n",
    "\n",
    "class Solution:\n",
    "    def alienOrder(self, words: List[str]) -> str:\n",
    "        nodes = set(''.join(words))  # 所有字母\n",
    "        neig = {n: [] for n in nodes}\n",
    "        indegree = {n: 0 for n in nodes}\n",
    "        for w1, w2 in zip(words, words[1:]):  # 对两个相邻的words\n",
    "            for c1, c2 in zip(w1, w2):  # 从头开始遍历\n",
    "                if c1 != c2:  # 第一对不相同的字母代表一条edge\n",
    "                    neig[c1].append(c2)\n",
    "                    indegree[c2] += 1\n",
    "                    break  # 后续是否相同无关了\n",
    "        \n",
    "        def dfs(node, visited):\n",
    "            if visited[node] == -1:\n",
    "                return False\n",
    "            if visited[node] == 1:\n",
    "                return True\n",
    "            visited[node] = -1\n",
    "            for nn in neig[node]:\n",
    "                if not dfs(nn, visited):\n",
    "                    return False\n",
    "            visited[node] = 1\n",
    "            path.append(node)\n",
    "            return True\n",
    "        \n",
    "        \n",
    "        # topological sort by dfs and stack\n",
    "        path = []\n",
    "        visited = {n: 0 for n in nodes}\n",
    "        for k, v in indegree.items():\n",
    "            if v == 0:\n",
    "                if not dfs(k, visited):\n",
    "                    return ''\n",
    "        return ''.join(path[::-1]) if len(path) == len(nodes) else ''"
   ]
  },
  {
   "cell_type": "markdown",
   "metadata": {},
   "source": [
    "- 自己的解法\n",
    "- Runtime: 32 ms, beats 88.35%, Memory Usage: 12.9 MB, less than 100.00%"
   ]
  },
  {
   "cell_type": "code",
   "execution_count": null,
   "metadata": {},
   "outputs": [],
   "source": [
    "from collections import deque, defaultdict\n",
    "\n",
    "class Solution:\n",
    "    def alienOrder(self, words) -> str:\n",
    "        # 先找出所有edges\n",
    "        # 构造树, level 1是所有words第一个chr, level 2是所有dierge chr, ...\n",
    "        # 用bfs, edges是每个subtree的第一层level中nodes的顺序连接\n",
    "        nodes = set(''.join(words))  # 所有字母\n",
    "        queue = deque([words])\n",
    "        edges = []\n",
    "        while queue:\n",
    "            cur_level_in_subtree = queue.popleft()  # 该subtree的level\n",
    "            leading_chr = cur_level_in_subtree[0][0]  # 第一个chr\n",
    "            nxt_level = [] if len(cur_level_in_subtree[0]) == 1 else [cur_level_in_subtree[0][1:]]  # 后面有无字母\n",
    "            for w in cur_level_in_subtree[1:]:\n",
    "                if w[0] == leading_chr:  # 和前面chr的一样\n",
    "                    if len(w) > 1:\n",
    "                        nxt_level.append(w[1:])\n",
    "                else:  # 不一样 ...\n",
    "                    edges.append([leading_chr, w[0]])  # ... 就新增edge\n",
    "                    if len(nxt_level) > 1:\n",
    "                        queue.append(nxt_level)  # 下一个subtree有1个以上word才需考虑\n",
    "                    leading_chr = w[0]\n",
    "                    nxt_level = [] if len(w) == 1 else [w[1:]]\n",
    "            if len(nxt_level) > 1:\n",
    "                queue.append(nxt_level)\n",
    "                \n",
    "        # 通过dfs反向找path\n",
    "        def dfs(node, visited):\n",
    "            if visited[node] == -1:\n",
    "                return False\n",
    "            if visited[node] == 1:\n",
    "                return True\n",
    "            visited[node] = -1\n",
    "            for nn in neig[node]:\n",
    "                if not dfs(nn, visited):\n",
    "                    return False\n",
    "            visited[node] = 1\n",
    "            path.append(node)\n",
    "            return True\n",
    "        \n",
    "        \n",
    "        # neig and indegree\n",
    "        neig = {n: [] for n in nodes}\n",
    "        indegree = {n: 0 for n in nodes}\n",
    "        for e in edges:\n",
    "            neig[e[0]].append(e[1])\n",
    "            indegree[e[1]] += 1\n",
    "        \n",
    "        # topological sort by dfs and stack\n",
    "        path = []  # 反向记录path\n",
    "        visited = {n: 0 for n in nodes}  # 会有3种标记\n",
    "        for k, v in indegree.items():\n",
    "            if v == 0:  # 从所有indegree=0的node开始找\n",
    "                if not dfs(k, visited):\n",
    "                    return ''\n",
    "        return ''.join(path[::-1]) if len(path) == len(nodes) else ''  # 可能存在首尾相连的cycle, 则无法通过indegree=0进入"
   ]
  },
  {
   "cell_type": "code",
   "execution_count": null,
   "metadata": {},
   "outputs": [],
   "source": [
    "s = Solution()\n",
    "s.alienOrder([\"dvpzu\",\"bq\",\"lwp\",\"akiljwjdu\",\"vnkauhh\",\"ogjgdsfk\",\"tnkmxnj\",\"uvwa\",\"zfe\",\"dvgghw\",\"yeyruhev\",\"xymbbvo\",\"m\",\"n\"])"
   ]
  }
 ],
 "metadata": {
  "kernelspec": {
   "display_name": "Python 3",
   "language": "python",
   "name": "python3"
  },
  "language_info": {
   "codemirror_mode": {
    "name": "ipython",
    "version": 3
   },
   "file_extension": ".py",
   "mimetype": "text/x-python",
   "name": "python",
   "nbconvert_exporter": "python",
   "pygments_lexer": "ipython3",
   "version": "3.7.5"
  }
 },
 "nbformat": 4,
 "nbformat_minor": 2
}
