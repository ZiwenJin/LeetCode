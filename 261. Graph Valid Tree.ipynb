{
 "cells": [
  {
   "cell_type": "markdown",
   "metadata": {},
   "source": [
    "- Medium\n",
    "- 树的性质是一个connected, acyclic (没有循环), node数量比edge数量多1, 的无向图"
   ]
  },
  {
   "cell_type": "code",
   "execution_count": null,
   "metadata": {},
   "outputs": [],
   "source": [
    "from collections import deque\n",
    "\n",
    "class Solution:\n",
    "    def validTree(self, n: int, edges: List[List[int]]) -> bool:\n",
    "        # Tree is connected and has n nodes and n − 1 edges\n",
    "        # means starting from any node, the rest nodes is accessible\n",
    "        \n",
    "        # 判断node和edge数量\n",
    "        if n != len(edges) + 1:\n",
    "            return False\n",
    "        \n",
    "        neig = [[] for _ in range(n)]\n",
    "        for e in edges:\n",
    "            neig[e[0]].append(e[1])\n",
    "            neig[e[1]].append(e[0])\n",
    "        # bfs, 从node 0 (可任取) 开始遍历\n",
    "        visited = [False for _ in range(n)]\n",
    "        visited[0] = True\n",
    "        queue = deque([0])\n",
    "        cnt = 1\n",
    "        while queue:\n",
    "            cur = queue.popleft()\n",
    "            for cur_neig in neig[cur]:\n",
    "                if not visited[cur_neig]:\n",
    "                    queue.append(cur_neig)\n",
    "                    visited[cur_neig] = True\n",
    "                    cnt += 1\n",
    "        return cnt == n"
   ]
  }
 ],
 "metadata": {
  "kernelspec": {
   "display_name": "Python 3",
   "language": "python",
   "name": "python3"
  },
  "language_info": {
   "codemirror_mode": {
    "name": "ipython",
    "version": 3
   },
   "file_extension": ".py",
   "mimetype": "text/x-python",
   "name": "python",
   "nbconvert_exporter": "python",
   "pygments_lexer": "ipython3",
   "version": "3.7.5"
  }
 },
 "nbformat": 4,
 "nbformat_minor": 2
}
