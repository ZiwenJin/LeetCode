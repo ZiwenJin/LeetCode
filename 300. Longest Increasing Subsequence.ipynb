{
 "cells": [
  {
   "cell_type": "markdown",
   "metadata": {},
   "source": [
    "- Medium\n",
    "- 用动态规划\n",
    "- 1). 保留目前位的LIS长度\n",
    "- 2). dp对应位置存长度为i的所有LIS的末尾值中的最小值"
   ]
  },
  {
   "cell_type": "code",
   "execution_count": null,
   "metadata": {},
   "outputs": [],
   "source": [
    "class Solution:\n",
    "    def lengthOfLIS(self, nums: List[int]) -> int:\n",
    "        # 动态规划, TC=O(N*log(N)), SC=O(N)\n",
    "        if not nums or len(nums) == 0:\n",
    "            return 0\n",
    "        \n",
    "        dp = [nums[0]]  # 第i个位置记录的是所有长度为i的LIS的末尾值中的最小值, 最终长度即为结果\n",
    "        for i, e in enumerate(nums[1:]):\n",
    "            if e > dp[-1]:\n",
    "                dp.append(e)\n",
    "            else:\n",
    "                low, high = 0, len(dp)\n",
    "                while low < high:\n",
    "                    mid = (low + high) // 2\n",
    "                    if dp[mid] < e:\n",
    "                        low = mid + 1  # mid+1的原因是当前low不可能被复写\n",
    "                    else:\n",
    "                        high = mid  # mid的原因是假如e大于high前一位, 则要复写high, 所以留着\n",
    "                if e < dp[low]:\n",
    "                    dp[low] = e\n",
    "        return len(dp)\n",
    "\n",
    "\n",
    "#         # 动态规划, dp保存目前位的LIS, TC=O(N^2), SC=O(N)\n",
    "#         if not nums or len(nums) == 0:\n",
    "#             return 0\n",
    "        \n",
    "#         dp = []  # 用来保存当前位的LIS\n",
    "#         for i, e in enumerate(nums):\n",
    "#             max_val = 0\n",
    "#             for j in range(i):  # 遍历dp\n",
    "#                 if e > nums[j]:  # 如果当前位的值大\n",
    "#                     max_val = max(max_val, dp[j])\n",
    "#             dp.append(max_val + 1)\n",
    "#         return max(dp)"
   ]
  }
 ],
 "metadata": {
  "kernelspec": {
   "display_name": "Python 3",
   "language": "python",
   "name": "python3"
  },
  "language_info": {
   "codemirror_mode": {
    "name": "ipython",
    "version": 3
   },
   "file_extension": ".py",
   "mimetype": "text/x-python",
   "name": "python",
   "nbconvert_exporter": "python",
   "pygments_lexer": "ipython3",
   "version": "3.5.2"
  }
 },
 "nbformat": 4,
 "nbformat_minor": 2
}
