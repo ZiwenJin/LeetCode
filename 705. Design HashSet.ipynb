{
 "cells": [
  {
   "cell_type": "markdown",
   "metadata": {},
   "source": [
    "- Easy"
   ]
  },
  {
   "cell_type": "markdown",
   "metadata": {},
   "source": [
    "- 用bucket和linked list实现"
   ]
  },
  {
   "cell_type": "code",
   "execution_count": null,
   "metadata": {},
   "outputs": [],
   "source": [
    "class ListNode:\n",
    "    def __init__(self, x, nxt=None):\n",
    "        self.val = x\n",
    "        self.next = nxt\n",
    "        \n",
    "class MyHashSet:\n",
    "\n",
    "    def __init__(self):\n",
    "        \"\"\"\n",
    "        Initialize your data structure here.\n",
    "        \"\"\"\n",
    "        # 用list/bucket + linked list实现\n",
    "        self.capacity = 10000\n",
    "        self.hashset = [None] * self.capacity\n",
    "\n",
    "    def add(self, key: int) -> None:\n",
    "        hv = key % self.capacity\n",
    "        # None就直接加\n",
    "        if self.hashset[hv] is None:\n",
    "            self.hashset[hv] = ListNode(key)\n",
    "        else:\n",
    "            curNode = self.hashset[hv]\n",
    "            while curNode.next:\n",
    "                if curNode.val == key:  # 以存在\n",
    "                    return\n",
    "                curNode = curNode.next\n",
    "            if curNode.val != key:  # 到最后都没看到key, 那就添加到末尾\n",
    "                curNode.next = ListNode(key)\n",
    "\n",
    "    def remove(self, key: int) -> None:\n",
    "        hv = key % self.capacity\n",
    "        if self.hashset[hv]:\n",
    "            curNode = self.hashset[hv]\n",
    "            if curNode.val == key:  # 上来就是, 那就调整此处linked list的头\n",
    "                self.hashset[hv] = curNode.next\n",
    "            else:\n",
    "                while curNode.next and curNode.next.val != key:\n",
    "                    curNode = curNode.next\n",
    "                if curNode.next:  # 说明curNode.next.val == key, 跳过\n",
    "                    curNode.next = curNode.next.next\n",
    "                # else:  # 说明到末尾了, 啥也不用做\n",
    "                #     pass\n",
    "\n",
    "    def contains(self, key: int) -> bool:\n",
    "        \"\"\"\n",
    "        Returns true if this set contains the specified element\n",
    "        \"\"\"\n",
    "        hv = key % self.capacity\n",
    "        if self.hashset[hv] is None:\n",
    "            return False\n",
    "        curNode = self.hashset[hv]\n",
    "        while curNode:\n",
    "            if curNode.val == key:\n",
    "                return True\n",
    "            curNode = curNode.next\n",
    "        return False\n",
    "\n",
    "\n",
    "# Your MyHashSet object will be instantiated and called as such:\n",
    "# obj = MyHashSet()\n",
    "# obj.add(key)\n",
    "# obj.remove(key)\n",
    "# param_3 = obj.contains(key)"
   ]
  },
  {
   "cell_type": "code",
   "execution_count": 2,
   "metadata": {},
   "outputs": [
    {
     "data": {
      "text/plain": [
       "False"
      ]
     },
     "execution_count": 2,
     "metadata": {},
     "output_type": "execute_result"
    }
   ],
   "source": [
    "obj = MyHashSet()\n",
    "obj.add(2)\n",
    "obj.add(2)\n",
    "obj.remove(2)\n",
    "obj.contains(2)"
   ]
  },
  {
   "cell_type": "markdown",
   "metadata": {},
   "source": [
    "- built-in Set"
   ]
  },
  {
   "cell_type": "code",
   "execution_count": null,
   "metadata": {},
   "outputs": [],
   "source": [
    "class MyHashSet:\n",
    "\n",
    "    def __init__(self):\n",
    "        \"\"\"\n",
    "        Initialize your data structure here.\n",
    "        \"\"\"\n",
    "        self.hashset = set()\n",
    "\n",
    "    def add(self, key: int) -> None:\n",
    "        self.hashset.add(key)\n",
    "\n",
    "    def remove(self, key: int) -> None:\n",
    "        if key in self.hashset:\n",
    "            self.hashset.remove(key)\n",
    "\n",
    "    def contains(self, key: int) -> bool:\n",
    "        \"\"\"\n",
    "        Returns true if this set contains the specified element\n",
    "        \"\"\"\n",
    "        return key in self.hashset\n",
    "\n",
    "\n",
    "# Your MyHashSet object will be instantiated and called as such:\n",
    "# obj = MyHashSet()\n",
    "# obj.add(key)\n",
    "# obj.remove(key)\n",
    "# param_3 = obj.contains(key)"
   ]
  }
 ],
 "metadata": {
  "kernelspec": {
   "display_name": "Python 3",
   "language": "python",
   "name": "python3"
  },
  "language_info": {
   "codemirror_mode": {
    "name": "ipython",
    "version": 3
   },
   "file_extension": ".py",
   "mimetype": "text/x-python",
   "name": "python",
   "nbconvert_exporter": "python",
   "pygments_lexer": "ipython3",
   "version": "3.7.5"
  }
 },
 "nbformat": 4,
 "nbformat_minor": 2
}
