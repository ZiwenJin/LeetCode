{
 "cells": [
  {
   "cell_type": "markdown",
   "metadata": {},
   "source": [
    "- Medium\n",
    "- backtrack, 构思好1). 终止条件, 2). 如何进一步, 3). 递归, 及更新后的参数, 4). 如何回一步"
   ]
  },
  {
   "cell_type": "code",
   "execution_count": 4,
   "metadata": {},
   "outputs": [],
   "source": [
    "class Solution:\n",
    "    def combinationSum(self, candidates, target):\n",
    "        def backtrack(tmp, rest, offset):\n",
    "            # 终止条件: rest为0\n",
    "            if rest == 0:\n",
    "                ans.append(tmp[:])\n",
    "            else:\n",
    "                # 为避免重复结果, 只看自此的元素\n",
    "                for i, n in enumerate(candidates[offset:], offset):\n",
    "                    if n <= rest:\n",
    "                        # 走一步, 更新dfs path\n",
    "                        tmp.append(n)\n",
    "                        # 递归, 用新的path, 剩余的target, 和起始index (不是i+1, 所以可以继续用当前位)\n",
    "                        backtrack(tmp, rest-n, i)\n",
    "                        # 回一步\n",
    "                        tmp.pop()\n",
    "                        \n",
    "        ans = []\n",
    "        backtrack([], target, 0)\n",
    "        return ans"
   ]
  },
  {
   "cell_type": "code",
   "execution_count": 7,
   "metadata": {},
   "outputs": [
    {
     "data": {
      "text/plain": [
       "[[3, 2, 2], [7]]"
      ]
     },
     "execution_count": 7,
     "metadata": {},
     "output_type": "execute_result"
    }
   ],
   "source": [
    "s = Solution()\n",
    "s.combinationSum([3,2,6,7], 7)"
   ]
  },
  {
   "cell_type": "code",
   "execution_count": 8,
   "metadata": {},
   "outputs": [
    {
     "data": {
      "text/plain": [
       "[[2, 2, 3], [7]]"
      ]
     },
     "execution_count": 8,
     "metadata": {},
     "output_type": "execute_result"
    }
   ],
   "source": [
    "s = Solution()\n",
    "s.combinationSum([2,3,6,7], 7)"
   ]
  },
  {
   "cell_type": "code",
   "execution_count": null,
   "metadata": {},
   "outputs": [],
   "source": []
  }
 ],
 "metadata": {
  "kernelspec": {
   "display_name": "Python 3",
   "language": "python",
   "name": "python3"
  },
  "language_info": {
   "codemirror_mode": {
    "name": "ipython",
    "version": 3
   },
   "file_extension": ".py",
   "mimetype": "text/x-python",
   "name": "python",
   "nbconvert_exporter": "python",
   "pygments_lexer": "ipython3",
   "version": "3.7.5"
  }
 },
 "nbformat": 4,
 "nbformat_minor": 2
}
