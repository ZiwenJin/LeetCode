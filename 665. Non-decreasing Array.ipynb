{
 "cells": [
  {
   "cell_type": "markdown",
   "metadata": {},
   "source": [
    "- Easy\n",
    "- 两种情况会导致False\n",
    "> 1. 发生nums[i] > nums[i+1]时, 无论修改nums[i]还是nums[i+1]都无法满足要求\n",
    ">> (0 < i < len(nums) - 2) and (nums[i-1] > nums[i+1] and nums[i] > nums[i+2])\n",
    "> 2. 发生两次nums[i] > nums[i+1]\n",
    ">> 发现is_monotone == False"
   ]
  },
  {
   "cell_type": "code",
   "execution_count": null,
   "metadata": {},
   "outputs": [],
   "source": [
    "class Solution:\n",
    "    def checkPossibility(self, nums: List[int]) -> bool:\n",
    "        is_monotone = True\n",
    "        for i in range(len(nums)-1):\n",
    "            if nums[i] > nums[i+1]:\n",
    "                if (is_monotone == False) or ((0 < i < len(nums) - 2) and (nums[i-1] > nums[i+1] and nums[i] > nums[i+2])):\n",
    "                    return False\n",
    "                is_monotone = False\n",
    "        return True"
   ]
  }
 ],
 "metadata": {
  "kernelspec": {
   "display_name": "Python 3",
   "language": "python",
   "name": "python3"
  },
  "language_info": {
   "codemirror_mode": {
    "name": "ipython",
    "version": 3
   },
   "file_extension": ".py",
   "mimetype": "text/x-python",
   "name": "python",
   "nbconvert_exporter": "python",
   "pygments_lexer": "ipython3",
   "version": "3.7.5"
  }
 },
 "nbformat": 4,
 "nbformat_minor": 2
}
