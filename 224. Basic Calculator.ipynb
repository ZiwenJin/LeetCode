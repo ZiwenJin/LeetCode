{
 "cells": [
  {
   "cell_type": "markdown",
   "metadata": {},
   "source": [
    "- Hard\n",
    "- Solution 1很直接的遍历, 注意')'反向计算时的操作\n",
    "- Solution 2优化在实时的计算结果, 这样'('时只需append两个值, ')'时只需pop两个值. 需要注意的是各种情况下如何重置ans, sign, operand"
   ]
  },
  {
   "cell_type": "code",
   "execution_count": 1,
   "metadata": {},
   "outputs": [],
   "source": [
    "class Solution:\n",
    "    def calculate(self, s: str) -> int:\n",
    "        if s is None or len(s) == 0:\n",
    "            return 0\n",
    "        \n",
    "        # Solution 2: 通过记录ans, sign, operand进行on-going calculating\n",
    "        ans = 0  # 结果\n",
    "        sign = 1  # 下一个operand的符号\n",
    "        operand = 0  # 记录当前operand\n",
    "        stack = []  # '('时append, ')'时pop\n",
    "        for c in s:\n",
    "            if c.isdigit():\n",
    "                operand = 10*operand + int(c)\n",
    "            elif c in ['+', '-']:\n",
    "                ans += sign * operand\n",
    "                operand = 0\n",
    "                sign = 1 if c == '+' else -1\n",
    "            elif c == '(':\n",
    "                stack.append(ans)\n",
    "                stack.append(sign)\n",
    "                ans, sign, operand = 0, 1, 0\n",
    "            elif c == ')':\n",
    "                ans += sign * operand\n",
    "                prev_sign = stack.pop()\n",
    "                prev_ans = stack.pop()\n",
    "                ans = prev_ans + prev_sign * ans\n",
    "                operand = 0\n",
    "        ans += sign * operand  # 非')'结尾\n",
    "        return ans        \n",
    "        \n",
    "#         # Solution 1: 一个个遍历\n",
    "#         stack = []\n",
    "#         i = 0\n",
    "#         N = len(s)\n",
    "#         while i < N:\n",
    "#             c = s[i]\n",
    "#             # 碰到数字, 就把连着的所有数字找出来\n",
    "#             if c.isdigit():\n",
    "#                 integer = c\n",
    "#                 while i+1 < N and s[i+1].isdigit():\n",
    "#                     integer += s[i+1]\n",
    "#                     i += 1\n",
    "#                 stack.append(int(integer))\n",
    "#             elif c in ['+', '-', '(']:\n",
    "#                 stack.append(c)\n",
    "#             # 计算该(...)内的结果\n",
    "#             elif c == ')':\n",
    "#                 prev = stack.pop()\n",
    "#                 tmp_sum = prev\n",
    "#                 # 反向计算时, 碰到'-'就需要双倍减去\n",
    "#                 while stack[-1] != '(':\n",
    "#                     tmp_c = stack.pop()\n",
    "#                     if isinstance(tmp_c, int):\n",
    "#                         tmp_sum += tmp_c\n",
    "#                         prev = tmp_c\n",
    "#                     elif tmp_c == '-':\n",
    "#                         tmp_sum -= 2 * prev\n",
    "#                 stack.pop()\n",
    "#                 stack.append(tmp_sum)\n",
    "#             i += 1\n",
    "            \n",
    "#         # 最后统一算一遍结果\n",
    "#         ans = stack[0]\n",
    "#         for i in range(1, len(stack), 2):\n",
    "#             ans += stack[i+1] if stack[i] == '+' else -stack[i+1]\n",
    "#         return ans"
   ]
  },
  {
   "cell_type": "code",
   "execution_count": 2,
   "metadata": {},
   "outputs": [
    {
     "data": {
      "text/plain": [
       "23"
      ]
     },
     "execution_count": 2,
     "metadata": {},
     "output_type": "execute_result"
    }
   ],
   "source": [
    "s = Solution()\n",
    "s.calculate(\"(1+(4+5+2)-3)+(6+8)\")"
   ]
  },
  {
   "cell_type": "code",
   "execution_count": 3,
   "metadata": {},
   "outputs": [
    {
     "data": {
      "text/plain": [
       "-4"
      ]
     },
     "execution_count": 3,
     "metadata": {},
     "output_type": "execute_result"
    }
   ],
   "source": [
    "s = Solution()\n",
    "s.calculate(\"1-(5)\")"
   ]
  }
 ],
 "metadata": {
  "kernelspec": {
   "display_name": "Python 3",
   "language": "python",
   "name": "python3"
  },
  "language_info": {
   "codemirror_mode": {
    "name": "ipython",
    "version": 3
   },
   "file_extension": ".py",
   "mimetype": "text/x-python",
   "name": "python",
   "nbconvert_exporter": "python",
   "pygments_lexer": "ipython3",
   "version": "3.7.5"
  }
 },
 "nbformat": 4,
 "nbformat_minor": 2
}
