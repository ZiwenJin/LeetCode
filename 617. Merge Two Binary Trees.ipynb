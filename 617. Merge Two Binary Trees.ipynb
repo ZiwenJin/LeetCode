{
 "cells": [
  {
   "cell_type": "markdown",
   "metadata": {},
   "source": [
    "- Easy\n",
    "- Solution 3: iteration\n",
    "> 1. 用stack记录t1和t2相同位置的node pair\n",
    "> 2. 用两者的val和更新到t1的node上\n",
    "> 3. 如果t1.left == None, 则令其为t2.left, 否则, 则将left node pair添加到stack中; right类似\n",
    "> 4. 这个过程确保了pair中的t1不会是None, 而如果t2是None, 则这个subtree无需处理, 可直接跳过"
   ]
  },
  {
   "cell_type": "code",
   "execution_count": null,
   "metadata": {},
   "outputs": [],
   "source": [
    "# Definition for a binary tree node.\n",
    "# class TreeNode:\n",
    "#     def __init__(self, x):\n",
    "#         self.val = x\n",
    "#         self.left = None\n",
    "#         self.right = None\n",
    "\n",
    "class Solution:\n",
    "    def mergeTrees(self, t1: TreeNode, t2: TreeNode) -> TreeNode:\n",
    "        # Solution 3: iteration\n",
    "        if t1 is None:\n",
    "            return t2\n",
    "        stack = [(t1, t2)]\n",
    "        while stack:\n",
    "            t = stack.pop()\n",
    "            if t[1] is None:  # 这里其实确保了添加到stack里的t1不会是None, 所以只需要检查t2\n",
    "                continue\n",
    "            t[0].val += t[1].val\n",
    "            if t[0].left is None:\n",
    "                t[0].left = t[1].left\n",
    "            elif t[0].left and t[1].left:\n",
    "                stack.append((t[0].left, t[1].left))\n",
    "            if t[0].right is None:\n",
    "                t[0].right = t[1].right\n",
    "            elif t[0].right and t[1].right:\n",
    "                stack.append((t[0].right, t[1].right))\n",
    "        return t1\n",
    "        \n",
    "        # # Solution 2: recursion\n",
    "        # # 为啥要写个helper多此一举呢\n",
    "        # if t1 is None and t2 is None:\n",
    "        #     return None\n",
    "        # if t1 is None:\n",
    "        #     return t2\n",
    "        # if t2 is None:\n",
    "        #     return t1\n",
    "        # n = TreeNode(t1.val + t2.val)\n",
    "        # n.left = self.mergeTrees(t1.left, t2.left)\n",
    "        # n.right = self.mergeTrees(t1.right, t2.right)\n",
    "        # return n\n",
    "        \n",
    "        # # Solution 1: recursion\n",
    "        # def helper(n1, n2):\n",
    "        #     if n1 is None and n2 is None:\n",
    "        #         return None\n",
    "        #     if n1 is None:\n",
    "        #         return n2\n",
    "        #     if n2 is None:\n",
    "        #         return n1\n",
    "        #     n = TreeNode(n1.val + n2.val)\n",
    "        #     n.left = helper(n1.left, n2.left)\n",
    "        #     n.right = helper(n1.right, n2.right)\n",
    "        #     return n\n",
    "        # return helper(t1, t2)"
   ]
  }
 ],
 "metadata": {
  "kernelspec": {
   "display_name": "Python 3",
   "language": "python",
   "name": "python3"
  },
  "language_info": {
   "codemirror_mode": {
    "name": "ipython",
    "version": 3
   },
   "file_extension": ".py",
   "mimetype": "text/x-python",
   "name": "python",
   "nbconvert_exporter": "python",
   "pygments_lexer": "ipython3",
   "version": "3.7.5"
  }
 },
 "nbformat": 4,
 "nbformat_minor": 2
}
