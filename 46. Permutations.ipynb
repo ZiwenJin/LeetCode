{
 "cells": [
  {
   "cell_type": "markdown",
   "metadata": {},
   "source": [
    "- Medium\n",
    "- BFS: 对每一层的每个元素进行index遍历\n",
    "- DFS: 多加个判断"
   ]
  },
  {
   "cell_type": "code",
   "execution_count": 32,
   "metadata": {},
   "outputs": [],
   "source": [
    "class Solution:\n",
    "    def permute(self, nums):\n",
    "        # Solution 2: DFS\n",
    "        def dfs(tmp):\n",
    "            if len(tmp) == len(nums):\n",
    "                ans.append(tmp.copy())\n",
    "            else:\n",
    "                for n in nums:\n",
    "                    if n not in tmp:  # 因为是distinct nums, 所以用这个判断即可\n",
    "                        tmp.append(n)\n",
    "                        dfs(tmp)\n",
    "                        tmp.pop()\n",
    "        ans = []\n",
    "        dfs([])\n",
    "        return ans\n",
    "        \n",
    "        \n",
    "        # # Solution 1: bruteforce, BFS\n",
    "        # ans = [[]]\n",
    "        # for n in nums:\n",
    "        #     ans = [e[:i]+[n]+e[i:] for e in ans for i in range(len(e)+1)]\n",
    "        # return ans"
   ]
  },
  {
   "cell_type": "code",
   "execution_count": 33,
   "metadata": {},
   "outputs": [
    {
     "data": {
      "text/plain": [
       "[[1, 2], [2, 1]]"
      ]
     },
     "execution_count": 33,
     "metadata": {},
     "output_type": "execute_result"
    }
   ],
   "source": [
    "s = Solution()\n",
    "s.permute([1,2])"
   ]
  },
  {
   "cell_type": "code",
   "execution_count": null,
   "metadata": {},
   "outputs": [],
   "source": []
  }
 ],
 "metadata": {
  "kernelspec": {
   "display_name": "Python 3",
   "language": "python",
   "name": "python3"
  },
  "language_info": {
   "codemirror_mode": {
    "name": "ipython",
    "version": 3
   },
   "file_extension": ".py",
   "mimetype": "text/x-python",
   "name": "python",
   "nbconvert_exporter": "python",
   "pygments_lexer": "ipython3",
   "version": "3.7.5"
  }
 },
 "nbformat": 4,
 "nbformat_minor": 2
}
