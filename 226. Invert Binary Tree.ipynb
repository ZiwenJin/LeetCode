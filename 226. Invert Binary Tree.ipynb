{
 "cells": [
  {
   "cell_type": "markdown",
   "metadata": {},
   "source": [
    "- Easy"
   ]
  },
  {
   "cell_type": "markdown",
   "metadata": {},
   "source": [
    "- 朴实无华\n",
    "- 每次invert一整行, 提前记录下nxt_level"
   ]
  },
  {
   "cell_type": "code",
   "execution_count": null,
   "metadata": {},
   "outputs": [],
   "source": [
    "# Definition for a binary tree node.\n",
    "# class TreeNode:\n",
    "#     def __init__(self, x):\n",
    "#         self.val = x\n",
    "#         self.left = None\n",
    "#         self.right = None\n",
    "\n",
    "class Solution:\n",
    "    def invertTree(self, root: TreeNode) -> TreeNode:\n",
    "        if root is None:\n",
    "            return None\n",
    "        \n",
    "        pre_level = [root]\n",
    "        cur_level = [root.left, root.right]\n",
    "        while any(cur_level):\n",
    "            nxt_level = [None] * (2*len(cur_level))\n",
    "            for i, node in enumerate(cur_level):\n",
    "                if node is not None:\n",
    "                    nxt_level[2*i] = node.left\n",
    "                    nxt_level[2*i+1] = node.right\n",
    "                    \n",
    "            cur_level = cur_level[::-1]\n",
    "            for i, pre_node in enumerate(pre_level):\n",
    "                if pre_node is not None:\n",
    "                    pre_node.left = cur_level[2*i]\n",
    "                    pre_node.right = cur_level[2*i+1]\n",
    "            pre_level, cur_level = cur_level, nxt_level\n",
    "        return root"
   ]
  },
  {
   "cell_type": "markdown",
   "metadata": {},
   "source": [
    "- 但仔细一想, 其实就是要把所有node的左右字数交换下\n",
    "- 这样None节点也更方便处理 (不添加到queue中即可)"
   ]
  },
  {
   "cell_type": "code",
   "execution_count": null,
   "metadata": {},
   "outputs": [],
   "source": [
    "# Definition for a binary tree node.\n",
    "# class TreeNode:\n",
    "#     def __init__(self, x):\n",
    "#         self.val = x\n",
    "#         self.left = None\n",
    "#         self.right = None\n",
    "\n",
    "from collections import deque\n",
    "\n",
    "class Solution:\n",
    "    def invertTree(self, root: TreeNode) -> TreeNode:\n",
    "        if root is None:\n",
    "            return None\n",
    "        \n",
    "        queue = deque([root])\n",
    "        while queue:\n",
    "            cur = queue.popleft()\n",
    "            cur.left, cur.right = cur.right, cur.left\n",
    "            if cur.left:\n",
    "                queue.append(cur.left)\n",
    "            if cur.right:\n",
    "                queue.append(cur.right)\n",
    "        return root"
   ]
  },
  {
   "cell_type": "markdown",
   "metadata": {},
   "source": [
    "- 那这样用recursion也行\n",
    "- recursion是bottom-up, 即一直嵌套进去, 最先invert的是叶节点, 然后在父节点的地方invert以处理好的左右子树\n",
    "- iteration是top-down, 即先把root node的左右子树invert, 然后再去处理左右子树"
   ]
  },
  {
   "cell_type": "code",
   "execution_count": null,
   "metadata": {},
   "outputs": [],
   "source": [
    "# Definition for a binary tree node.\n",
    "# class TreeNode:\n",
    "#     def __init__(self, x):\n",
    "#         self.val = x\n",
    "#         self.left = None\n",
    "#         self.right = None\n",
    "\n",
    "class Solution:\n",
    "    def invertTree(self, root: TreeNode) -> TreeNode:\n",
    "        if root is None:\n",
    "            return None\n",
    "        root.left, root.right = self.invertTree(root.right), self.invertTree(root.left)\n",
    "        return root"
   ]
  }
 ],
 "metadata": {
  "kernelspec": {
   "display_name": "Python 3",
   "language": "python",
   "name": "python3"
  },
  "language_info": {
   "codemirror_mode": {
    "name": "ipython",
    "version": 3
   },
   "file_extension": ".py",
   "mimetype": "text/x-python",
   "name": "python",
   "nbconvert_exporter": "python",
   "pygments_lexer": "ipython3",
   "version": "3.7.5"
  }
 },
 "nbformat": 4,
 "nbformat_minor": 2
}
