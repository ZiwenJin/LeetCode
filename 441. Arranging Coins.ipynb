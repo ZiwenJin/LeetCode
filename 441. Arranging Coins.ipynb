{
 "cells": [
  {
   "cell_type": "markdown",
   "metadata": {},
   "source": [
    "- Easy\n",
    "- linear search, binary search, or DO MATH!"
   ]
  },
  {
   "cell_type": "code",
   "execution_count": null,
   "metadata": {
    "collapsed": true
   },
   "outputs": [],
   "source": [
    "class Solution(object):\n",
    "#     # sol 1: linear search, O(n)\n",
    "#     def arrangeCoins(self, n):\n",
    "#         \"\"\"\n",
    "#         :type n: int\n",
    "#         :rtype: int\n",
    "#         \"\"\"\n",
    "#         staircase_num = 0\n",
    "#         cur = self.coin_sum(staircase_num) \n",
    "#         while True:\n",
    "#             nex = self.coin_sum(staircase_num + 1)\n",
    "#             if cur <= n and nex > n:\n",
    "#                 break\n",
    "#             staircase_num += 1\n",
    "#             cur = nex\n",
    "#         return staircase_num\n",
    "    \n",
    "#     def coin_sum(self, n):\n",
    "#         return int(n * (n+1) / 2)\n",
    "    \n",
    "    \n",
    "#     # sol 2: binary search, O(logN)\n",
    "#     def arrangeCoins(self, n):\n",
    "#         \"\"\"\n",
    "#         :type n: int\n",
    "#         :rtype: int\n",
    "#         \"\"\"\n",
    "#         low, high = 0, n\n",
    "#         while low <= high:\n",
    "#             mid = (low + high) // 2\n",
    "#             mid_cnt = self.coin_sum(mid)\n",
    "#             nxt_cnt = self.coin_sum(mid + 1)\n",
    "#             if mid_cnt > n:\n",
    "#                 high = mid - 1\n",
    "#             elif nxt_cnt <= n:\n",
    "#                 low = mid + 1\n",
    "#             else:\n",
    "#                 return mid\n",
    "            \n",
    "#     def coin_sum(self, n):\n",
    "#         return int(n * (n+1) / 2)\n",
    "\n",
    "    # sol 3: do math, O(1)\n",
    "    def arrangeCoins(self, n):\n",
    "        import math\n",
    "        \n",
    "        # following 2 equation is derived from solving x(1 + x) / 2 = n\n",
    "        return int(math.sqrt(2*n + 0.25) - 0.5)\n",
    "        # return int((math.sqrt(8*n + 1) - 1) / 2)\n",
    "    \n",
    "        # get sqrt(2*n) directly\n",
    "        # base = int(math.sqrt(2 * n))\n",
    "        # return base if base ** 2 + base <= 2*n else (base - 1)\n",
    "        "
   ]
  }
 ],
 "metadata": {
  "kernelspec": {
   "display_name": "Python [default]",
   "language": "python",
   "name": "python3"
  },
  "language_info": {
   "codemirror_mode": {
    "name": "ipython",
    "version": 3
   },
   "file_extension": ".py",
   "mimetype": "text/x-python",
   "name": "python",
   "nbconvert_exporter": "python",
   "pygments_lexer": "ipython3",
   "version": "3.5.2"
  }
 },
 "nbformat": 4,
 "nbformat_minor": 2
}
