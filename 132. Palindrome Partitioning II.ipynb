{
 "cells": [
  {
   "cell_type": "markdown",
   "metadata": {},
   "source": [
    "- Hard\n",
    "- 遍历string, 对每个char检查以其为中心的奇数和偶数长度的pal"
   ]
  },
  {
   "cell_type": "code",
   "execution_count": null,
   "metadata": {},
   "outputs": [],
   "source": [
    "class Solution:\n",
    "    def minCut(self, s: str) -> int:\n",
    "        if s is None or s == s[::-1]:\n",
    "            return 0\n",
    "        \n",
    "        N = len(s)\n",
    "        mem = [i-1 for i in range(N+1)]  # 对长度为n的string, 最多有n-1个cut\n",
    "        for i in range(1, N):  # 以i为中心的pal ...\n",
    "            j = 0\n",
    "            while j <= i and i + j < N and s[i-j] == s[i+j]:  # ...检查odd length pal\n",
    "                mem[i+j+1] = min(mem[i+j+1], mem[i-j]+1)\n",
    "                j += 1\n",
    "            j = 1\n",
    "            while j <= i and i + j <= N and s[i-j] == s[i+j-1]:  # ...检查even length pal\n",
    "                mem[i+j] = min(mem[i+j], mem[i-j]+1)\n",
    "                j += 1\n",
    "        return mem[-1]"
   ]
  }
 ],
 "metadata": {
  "kernelspec": {
   "display_name": "Python 3",
   "language": "python",
   "name": "python3"
  },
  "language_info": {
   "codemirror_mode": {
    "name": "ipython",
    "version": 3
   },
   "file_extension": ".py",
   "mimetype": "text/x-python",
   "name": "python",
   "nbconvert_exporter": "python",
   "pygments_lexer": "ipython3",
   "version": "3.7.5"
  }
 },
 "nbformat": 4,
 "nbformat_minor": 2
}
