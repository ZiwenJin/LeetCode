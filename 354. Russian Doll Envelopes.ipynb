{
 "cells": [
  {
   "cell_type": "markdown",
   "metadata": {},
   "source": [
    "- Hard\n",
    "- 要能放, 首先是width满足 (width升序排列), 然后如果有多个相同的width, 其实只需要看height最小的那个, 所以如果将height降序排列, 再对height找longest increasing subsequence, 长度就是答案"
   ]
  },
  {
   "cell_type": "code",
   "execution_count": null,
   "metadata": {},
   "outputs": [],
   "source": [
    "class Solution:\n",
    "    def maxEnvelopes(self, envelopes: List[List[int]]) -> int:\n",
    "        from functools import cmp_to_key\n",
    "        \n",
    "        if not envelopes or not envelopes[0] or len(envelopes[0]) != 2:\n",
    "            return 0\n",
    "        \n",
    "        # 按width升序, height倒序排序\n",
    "        envelopes.sort(key=cmp_to_key(lambda x, y: -1 if (x[0] < y[0] or (x[0] == y[0] and x[1] > y[1])) else 1))\n",
    "        \n",
    "        # 对height找Longest Increasing Subsequence\n",
    "        dp = [envelopes[0][1]]\n",
    "        for i, e in enumerate(envelopes[1:]):\n",
    "            if e[1] > dp[-1]:\n",
    "                dp.append(e[1])\n",
    "            else:\n",
    "                low, high = 0, len(dp)\n",
    "                while low < high:\n",
    "                    mid = (low + high) >> 1\n",
    "                    if e[1] <= dp[mid]:\n",
    "                        high = mid\n",
    "                    else:\n",
    "                        low = mid + 1\n",
    "                dp[low] = e[1]\n",
    "        return len(dp)"
   ]
  }
 ],
 "metadata": {
  "kernelspec": {
   "display_name": "Python 3",
   "language": "python",
   "name": "python3"
  },
  "language_info": {
   "codemirror_mode": {
    "name": "ipython",
    "version": 3
   },
   "file_extension": ".py",
   "mimetype": "text/x-python",
   "name": "python",
   "nbconvert_exporter": "python",
   "pygments_lexer": "ipython3",
   "version": "3.5.2"
  }
 },
 "nbformat": 4,
 "nbformat_minor": 2
}
