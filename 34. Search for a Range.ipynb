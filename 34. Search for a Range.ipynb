{
 "cells": [
  {
   "cell_type": "markdown",
   "metadata": {},
   "source": [
    "- Medium\n",
    "- 两次Binary Search分别去找最左边和最右边\n",
    "- 1.) 比较m和target以及m-1(m+1)和target来找最左(右)边的target. 如果没有break, 判断当前位\n",
    "- 2.) 不提前break, 而是就让while跑完. 然后要么target不存在, 要么就是当前(前一)位"
   ]
  },
  {
   "cell_type": "code",
   "execution_count": null,
   "metadata": {
    "collapsed": true
   },
   "outputs": [],
   "source": [
    "class Solution(object):\n",
    "    def searchRange(self, nums, target):\n",
    "        \"\"\"\n",
    "        :type nums: List[int]\n",
    "        :type target: int\n",
    "        :rtype: List[int]\n",
    "        \"\"\"\n",
    "        if not nums:\n",
    "            return [-1, -1]\n",
    "        l, h = 0, len(nums)\n",
    "        while l < h:\n",
    "            m = (l + h) // 2\n",
    "            if nums[m] >= target:\n",
    "                h = m\n",
    "            else:\n",
    "                l = m + 1\n",
    "                \n",
    "        if l == len(nums) or nums[l] != target:\n",
    "            return [-1, -1]\n",
    "        start = l\n",
    "        \n",
    "        l, h = 0, len(nums)\n",
    "        while l < h:\n",
    "            m = (l + h) // 2\n",
    "            if nums[m] > target:\n",
    "                h = m\n",
    "            else:\n",
    "                l = m + 1\n",
    "        end = l - 1\n",
    "        return [start, end]\n",
    "        \n",
    "        \n",
    "#         if not nums:\n",
    "#             return [-1, -1]\n",
    "        \n",
    "#         l, h = 0, len(nums)\n",
    "#         while l < h-1:\n",
    "#             print(l, h)\n",
    "#             m = (l + h) // 2\n",
    "#             if nums[m] == target and nums[m-1] != target:\n",
    "#                 start = m\n",
    "#                 break\n",
    "#             if nums[m] < target:\n",
    "#                 l = m + 1\n",
    "#             else:\n",
    "#                 h = m\n",
    "#         else:\n",
    "#             start = l if l == h-1 and nums[l] == target else -1\n",
    "        \n",
    "#         l, h = 0, len(nums) - 1\n",
    "#         while l < h:\n",
    "#             print(l, h)\n",
    "#             m = (l + h) // 2\n",
    "#             if nums[m] == target and nums[m+1] != target:\n",
    "#                 end = m\n",
    "#                 break\n",
    "#             if nums[m] > target:\n",
    "#                 h = m - 1\n",
    "#             else:\n",
    "#                 l = m + 1\n",
    "#         else:\n",
    "#             end = l if l == h and nums[l] == target else -1\n",
    "        \n",
    "#         return [start, end]"
   ]
  }
 ],
 "metadata": {
  "kernelspec": {
   "display_name": "Python [default]",
   "language": "python",
   "name": "python3"
  },
  "language_info": {
   "codemirror_mode": {
    "name": "ipython",
    "version": 3
   },
   "file_extension": ".py",
   "mimetype": "text/x-python",
   "name": "python",
   "nbconvert_exporter": "python",
   "pygments_lexer": "ipython3",
   "version": "3.5.2"
  }
 },
 "nbformat": 4,
 "nbformat_minor": 2
}
