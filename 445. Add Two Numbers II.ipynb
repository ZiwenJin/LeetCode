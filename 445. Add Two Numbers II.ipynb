{
 "cells": [
  {
   "cell_type": "markdown",
   "metadata": {
    "deletable": true,
    "editable": true
   },
   "source": [
    "- Medium\n",
    "- 1.) 将两个LL专程int, 相加, 再转成LL\n",
    "- 2.) 用stack存两个LL的values, 然后不断pop末位并生成新的node"
   ]
  },
  {
   "cell_type": "code",
   "execution_count": null,
   "metadata": {
    "collapsed": true,
    "deletable": true,
    "editable": true
   },
   "outputs": [],
   "source": [
    "# Definition for singly-linked list.\n",
    "# class ListNode(object):\n",
    "#     def __init__(self, x):\n",
    "#         self.val = x\n",
    "#         self.next = None\n",
    "\n",
    "class Solution(object):\n",
    "    def addTwoNumbers(self, l1, l2):\n",
    "        \"\"\"\n",
    "        :type l1: ListNode\n",
    "        :type l2: ListNode\n",
    "        :rtype: ListNode\n",
    "        \"\"\"\n",
    "        \n",
    "        # use stack\n",
    "        s1, s2 = [], []\n",
    "        while l1:\n",
    "            s1.append(l1.val)\n",
    "            l1 = l1.next\n",
    "        while l2:\n",
    "            s2.append(l2.val)\n",
    "            l2 = l2.next\n",
    "            \n",
    "        head = ListNode(0)\n",
    "        carry = 0\n",
    "        while s1 or s2:\n",
    "            if s1: carry += s1.pop()\n",
    "            if s2: carry += s2.pop()\n",
    "            \n",
    "            cur_node = ListNode(carry % 10)\n",
    "            cur_node.next = head.next\n",
    "            carry //= 10\n",
    "            head.val, head.next = carry, cur_node\n",
    "            \n",
    "        return head.next if head.val == 0 else head\n",
    "        \n",
    "        \n",
    "        # convert to int\n",
    "#         n1, n2 = 0, 0\n",
    "#         while l1:\n",
    "#             n1 = 10*n1 + l1.val\n",
    "#             l1 = l1.next\n",
    "#         while l2:\n",
    "#             n2 = 10*n2 + l2.val\n",
    "#             l2 = l2.next\n",
    "            \n",
    "#         n = n1 + n2\n",
    "#         if not n:\n",
    "#             return ListNode(0)\n",
    "        \n",
    "#         cur = None\n",
    "#         while n:\n",
    "#             prev = ListNode(n%10)\n",
    "#             prev.next = cur\n",
    "#             cur = prev\n",
    "#             n //= 10\n",
    "            \n",
    "#         return cur"
   ]
  }
 ],
 "metadata": {
  "kernelspec": {
   "display_name": "Python [default]",
   "language": "python",
   "name": "python3"
  },
  "language_info": {
   "codemirror_mode": {
    "name": "ipython",
    "version": 3
   },
   "file_extension": ".py",
   "mimetype": "text/x-python",
   "name": "python",
   "nbconvert_exporter": "python",
   "pygments_lexer": "ipython3",
   "version": "3.5.2"
  }
 },
 "nbformat": 4,
 "nbformat_minor": 2
}
