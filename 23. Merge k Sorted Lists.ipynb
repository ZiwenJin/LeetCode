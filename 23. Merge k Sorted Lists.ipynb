{
 "cells": [
  {
   "cell_type": "markdown",
   "metadata": {},
   "source": [
    "- Hard\n",
    "- 用PriorityQueue来存每个LL的head, 然后每次从里面get, 并放其下一位\n",
    "- 注意: python3里是from queue import PriorityQueue\n",
    "- 注意: python3里会比较tuple中相应的每一位, 所以需要重写ListNode的comparisosn methods (其实只要__lt__). 顺便tuple中的priority_number也不用了, 因为ListNonde包含了这个信息"
   ]
  },
  {
   "cell_type": "code",
   "execution_count": 1,
   "metadata": {
    "collapsed": true
   },
   "outputs": [],
   "source": [
    "# Definition for singly-linked list.\n",
    "class ListNode(object):\n",
    "    def __init__(self, x):\n",
    "        self.val = x\n",
    "        self.next = None\n",
    "        \n",
    "    def __lt__(self, other):\n",
    "        if isinstance(other, ListNode):\n",
    "            return self.val < other.val\n",
    "        else:\n",
    "            raise(TypeError('unorderable types: ListNode() < {}()'.format(other.__class__.__name__)))\n",
    "\n",
    "    def __gt__(self, other):\n",
    "        if isinstance(other, ListNode):\n",
    "            return self.val > other.val\n",
    "        else:\n",
    "            raise(TypeError('unorderable types: ListNode() > {}()'.format(other.__class__.__name__)))\n",
    "\n",
    "    def __le__(self, other):\n",
    "        if isinstance(other, ListNode):\n",
    "            return self.val <= other.val\n",
    "        else:\n",
    "            raise(TypeError('unorderable types: ListNode() <= {}()'.format(other.__class__.__name__)))\n",
    "\n",
    "    def __ge__(self, other):\n",
    "        if isinstance(other, ListNode):\n",
    "            return self.val >= other.val\n",
    "        else:\n",
    "            raise(TypeError('unorderable types: ListNode() >= {}()'.format(other.__class__.__name__)))\n",
    "\n",
    "    def __eq__(self, other):\n",
    "        if isinstance(other, ListNode):\n",
    "            return self.val == other.val\n",
    "        else:\n",
    "            raise(TypeError('unorderable types: ListNode() == {}()'.format(other.__class__.__name__)))\n",
    "\n",
    "    def __ne__(self, other):\n",
    "        if isinstance(other, ListNode):\n",
    "            return self.val != other.val\n",
    "        else:\n",
    "            raise(TypeError('unorderable types: ListNode() != {}()'.format(other.__class__.__name__)))\n",
    "\n",
    "# from Queue import PriorityQueue\n",
    "from queue import PriorityQueue\n",
    "\n",
    "class Solution(object):\n",
    "    def mergeKLists(self, lists):\n",
    "        \"\"\"\n",
    "        :type lists: List[ListNode]\n",
    "        :rtype: ListNode\n",
    "        \"\"\"\n",
    "        if not lists:\n",
    "            return None\n",
    "        \n",
    "        pq = PriorityQueue()\n",
    "        for l in lists:\n",
    "            if l:\n",
    "                pq.put((l))\n",
    "        \n",
    "        dummy = ListNode('-1')\n",
    "        cur = dummy\n",
    "        while not pq.empty():\n",
    "            tmp = pq.get()\n",
    "            nxt = tmp.next\n",
    "            if nxt:\n",
    "                pq.put((nxt))\n",
    "            cur.next = tmp\n",
    "            cur = cur.next\n",
    "        return dummy.next"
   ]
  },
  {
   "cell_type": "code",
   "execution_count": 2,
   "metadata": {
    "collapsed": false
   },
   "outputs": [],
   "source": [
    "n1 = ListNode(1)\n",
    "n2 = ListNode(4)\n",
    "n3 = ListNode(5)\n",
    "n4 = ListNode(1)\n",
    "n5 = ListNode(3)\n",
    "n6 = ListNode(4)\n",
    "n7 = ListNode(2)\n",
    "n8 = ListNode(6)\n",
    "n1.next = n2\n",
    "n2.next = n3\n",
    "n4.next = n5\n",
    "n5.next = n6\n",
    "n7.next = n8"
   ]
  },
  {
   "cell_type": "code",
   "execution_count": 3,
   "metadata": {
    "collapsed": false
   },
   "outputs": [],
   "source": [
    "s = Solution()\n",
    "aaa = s.mergeKLists([n1, n4, n7])"
   ]
  },
  {
   "cell_type": "code",
   "execution_count": 4,
   "metadata": {
    "collapsed": false
   },
   "outputs": [
    {
     "name": "stdout",
     "output_type": "stream",
     "text": [
      "[1, 1, 2, 3, 4, 4, 5, 6]\n"
     ]
    }
   ],
   "source": [
    "bbb = []\n",
    "while aaa:\n",
    "    bbb.append(aaa.val)\n",
    "    aaa = aaa.next\n",
    "print(bbb)"
   ]
  },
  {
   "cell_type": "code",
   "execution_count": null,
   "metadata": {
    "collapsed": true
   },
   "outputs": [],
   "source": []
  }
 ],
 "metadata": {
  "kernelspec": {
   "display_name": "Python [default]",
   "language": "python",
   "name": "python3"
  },
  "language_info": {
   "codemirror_mode": {
    "name": "ipython",
    "version": 3
   },
   "file_extension": ".py",
   "mimetype": "text/x-python",
   "name": "python",
   "nbconvert_exporter": "python",
   "pygments_lexer": "ipython3",
   "version": "3.5.2"
  }
 },
 "nbformat": 4,
 "nbformat_minor": 2
}
