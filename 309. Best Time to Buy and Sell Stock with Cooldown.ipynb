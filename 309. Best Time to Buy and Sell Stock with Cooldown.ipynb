{
 "cells": [
  {
   "cell_type": "markdown",
   "metadata": {},
   "source": [
    "- Medium\n",
    "- 1). 带cooldown的区别就是bought[i] = max(bought[i-1], sold[i-2] - p) (注释掉diao的解法)\n",
    "- 2). 然后可以把SC降为O(1)"
   ]
  },
  {
   "cell_type": "code",
   "execution_count": null,
   "metadata": {},
   "outputs": [],
   "source": [
    "class Solution:\n",
    "    def maxProfit(self, prices: List[int]) -> int:\n",
    "        if not prices or len(prices) < 2:\n",
    "            return 0\n",
    "        \n",
    "        import sys\n",
    "        n = len(prices)\n",
    "        \n",
    "        # SC降为O(1)\n",
    "        b_prev, b = 0, -prices[0]\n",
    "        s_prev, s = 0, 0\n",
    "        for i, p in enumerate(prices):\n",
    "            b_prev = b\n",
    "            b = max(b, s_prev - p)\n",
    "            s_prev = s\n",
    "            s = max(s, b_prev + p)\n",
    "        return s\n",
    "        \n",
    "        \n",
    "        # # 保留整个bought和sold, 其实可以把SC降为O(1)\n",
    "        # bought = [0] * n\n",
    "        # sold = [0] * n\n",
    "        # bought[0] = -prices[0]\n",
    "        # for i, p in enumerate(prices[1:], 1):\n",
    "        #     if i <= 2:\n",
    "        #         bought[i] = max(bought[i-1], -p)\n",
    "        #     else:\n",
    "        #         bought[i] = max(bought[i-1], sold[i-2] - p)\n",
    "        #     sold[i] = max(sold[i-1], bought[i-1] + p)\n",
    "        # return sold[-1]"
   ]
  }
 ],
 "metadata": {
  "kernelspec": {
   "display_name": "Python 3",
   "language": "python",
   "name": "python3"
  },
  "language_info": {
   "codemirror_mode": {
    "name": "ipython",
    "version": 3
   },
   "file_extension": ".py",
   "mimetype": "text/x-python",
   "name": "python",
   "nbconvert_exporter": "python",
   "pygments_lexer": "ipython3",
   "version": "3.5.2"
  }
 },
 "nbformat": 4,
 "nbformat_minor": 2
}
