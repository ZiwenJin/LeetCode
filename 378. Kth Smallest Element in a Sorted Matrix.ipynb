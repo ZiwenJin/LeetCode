{
 "cells": [
  {
   "cell_type": "markdown",
   "metadata": {},
   "source": [
    "- Medium\n",
    "- 1). 用heap就可以pop出最小值\n",
    "- 2). 用nsmallest偷懒"
   ]
  },
  {
   "cell_type": "code",
   "execution_count": null,
   "metadata": {},
   "outputs": [],
   "source": [
    "class Solution:\n",
    "    def kthSmallest(self, matrix: List[List[int]], k: int) -> int:\n",
    "        import heapq\n",
    "        \n",
    "        heap = [(matrix[0][0], 0, 0)]\n",
    "        n = len(matrix)\n",
    "        visited = set((0, 0))\n",
    "        for k in range(1, k):\n",
    "            val, row, col = heapq.heappop(heap)\n",
    "            if row+1 < n and (row+1, col) not in visited:\n",
    "                heapq.heappush(heap, (matrix[row+1][col], row+1, col))\n",
    "                visited.add((row+1, col))\n",
    "            if col+1 < n and (row, col+1) not in visited:\n",
    "                heapq.heappush(heap, (matrix[row][col+1], row, col+1))\n",
    "                visited.add((row, col+1))\n",
    "        return heapq.heappop(heap)[0]\n",
    "    \n",
    "        # import heapq\n",
    "        # n = len(matrix)\n",
    "        # return heapq.nsmallest(k, [matrix[i][j] for i in range(n) for j in range(n)])[-1]"
   ]
  }
 ],
 "metadata": {
  "kernelspec": {
   "display_name": "Python 3",
   "language": "python",
   "name": "python3"
  },
  "language_info": {
   "codemirror_mode": {
    "name": "ipython",
    "version": 3
   },
   "file_extension": ".py",
   "mimetype": "text/x-python",
   "name": "python",
   "nbconvert_exporter": "python",
   "pygments_lexer": "ipython3",
   "version": "3.5.2"
  }
 },
 "nbformat": 4,
 "nbformat_minor": 2
}
