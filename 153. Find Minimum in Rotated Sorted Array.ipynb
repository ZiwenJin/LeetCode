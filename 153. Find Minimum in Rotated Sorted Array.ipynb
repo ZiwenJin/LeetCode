{
 "cells": [
  {
   "cell_type": "markdown",
   "metadata": {},
   "source": [
    "- Medium\n",
    "- 1.) 如果没有rotate, 返回nums[0], 否则进入循环. 如果当前位小于其前一位, 返回, 否则, 如果前面sorted, 看后面, 后面sorted, 看前面\n",
    "- 2.) 其实只含有一个元素的nums可以通过nums[m] <= nums[m-1]处理; nums[m] >= nums[-1]可以处理本身是sorted的num (1.中如果不提前处理, [1,2,3]会报错)"
   ]
  },
  {
   "cell_type": "code",
   "execution_count": null,
   "metadata": {
    "collapsed": true
   },
   "outputs": [],
   "source": [
    "class Solution(object):\n",
    "    def findMin(self, nums):\n",
    "        \"\"\"\n",
    "        :type nums: List[int]\n",
    "        :rtype: int\n",
    "        \"\"\"\n",
    "        if not nums:\n",
    "            return None\n",
    "        \n",
    "        l, h = 0, len(nums) - 1\n",
    "        while l <= h:\n",
    "            m = (l + h) // 2\n",
    "            if nums[m] <= nums[m-1]:\n",
    "                return nums[m]\n",
    "            if nums[m] > nums[-1]:\n",
    "                l = m + 1\n",
    "            else:\n",
    "                h = m - 1\n",
    "        return None\n",
    "    \n",
    "    \n",
    "#         if not nums:\n",
    "#             return None\n",
    "#         if nums[0] <= nums[-1]:\n",
    "#             return nums[0]\n",
    "        \n",
    "#         l, h = 0, len(nums) - 1\n",
    "#         while l <= h:\n",
    "#             m = (l + h) // 2\n",
    "#             if nums[m] < nums[m-1]:\n",
    "#                 return nums[m]\n",
    "#             if nums[m] >= nums[0]:\n",
    "#                 l = m + 1\n",
    "#             else:\n",
    "#                 h = m - 1\n",
    "#         return None"
   ]
  }
 ],
 "metadata": {
  "kernelspec": {
   "display_name": "Python [default]",
   "language": "python",
   "name": "python3"
  },
  "language_info": {
   "codemirror_mode": {
    "name": "ipython",
    "version": 3
   },
   "file_extension": ".py",
   "mimetype": "text/x-python",
   "name": "python",
   "nbconvert_exporter": "python",
   "pygments_lexer": "ipython3",
   "version": "3.5.2"
  }
 },
 "nbformat": 4,
 "nbformat_minor": 2
}
