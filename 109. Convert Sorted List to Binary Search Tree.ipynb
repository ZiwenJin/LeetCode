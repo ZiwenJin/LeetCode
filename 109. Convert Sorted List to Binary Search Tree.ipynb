{
 "cells": [
  {
   "cell_type": "markdown",
   "metadata": {},
   "source": [
    "- Medium\n",
    "- 直接把LL转BST时每次都需要找到中间那个node, 所以需要slow和fast两个pointer, TC: O(NlogN), SC: O(1)\n",
    "- 所以可以先存成list, TC: O(N + logN) = O(N), SC: O(N)"
   ]
  },
  {
   "cell_type": "code",
   "execution_count": null,
   "metadata": {
    "collapsed": true
   },
   "outputs": [],
   "source": [
    "# Definition for singly-linked list.\n",
    "# class ListNode(object):\n",
    "#     def __init__(self, x):\n",
    "#         self.val = x\n",
    "#         self.next = None\n",
    "\n",
    "# Definition for a binary tree node.\n",
    "# class TreeNode(object):\n",
    "#     def __init__(self, x):\n",
    "#         self.val = x\n",
    "#         self.left = None\n",
    "#         self.right = None\n",
    "\n",
    "class Solution(object):\n",
    "    def sortedListToBST(self, head):\n",
    "        \"\"\"\n",
    "        :type head: ListNode\n",
    "        :rtype: TreeNode\n",
    "        \"\"\"\n",
    "        if not head:\n",
    "            return None\n",
    "        \n",
    "        arr = []\n",
    "        while head:\n",
    "            arr.append(head.val)\n",
    "            head = head.next\n",
    "        \n",
    "        def arr2bst(arr, start, end):\n",
    "            if start == end:\n",
    "                return None\n",
    "            \n",
    "            mid = (start + end) // 2\n",
    "            tree_head = TreeNode(arr[mid])\n",
    "            tree_head.left = arr2bst(arr, start, mid)\n",
    "            tree_head.right = arr2bst(arr, mid+1, end)\n",
    "            \n",
    "            return tree_head\n",
    "    \n",
    "        return arr2bst(arr, 0, len(arr))\n",
    "        \n",
    "        \n",
    "#         if not head:\n",
    "#             return None\n",
    "        \n",
    "#         def ll2bst(head, tail):\n",
    "#             if head == tail:\n",
    "#                 return None\n",
    "\n",
    "#             slow, fast = head, head\n",
    "#             while fast != tail and fast.next != tail:\n",
    "#                 slow = slow.next\n",
    "#                 fast = fast.next.next\n",
    "\n",
    "#             tree_head = TreeNode(slow.val)\n",
    "#             tree_head.left = ll2bst(head, slow)\n",
    "#             tree_head.right = ll2bst(slow.next, tail)\n",
    "\n",
    "#             return tree_head\n",
    "        \n",
    "#         return ll2bst(head, None)"
   ]
  }
 ],
 "metadata": {
  "kernelspec": {
   "display_name": "Python [default]",
   "language": "python",
   "name": "python3"
  },
  "language_info": {
   "codemirror_mode": {
    "name": "ipython",
    "version": 3
   },
   "file_extension": ".py",
   "mimetype": "text/x-python",
   "name": "python",
   "nbconvert_exporter": "python",
   "pygments_lexer": "ipython3",
   "version": "3.5.2"
  }
 },
 "nbformat": 4,
 "nbformat_minor": 2
}
