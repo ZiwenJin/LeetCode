{
 "cells": [
  {
   "cell_type": "markdown",
   "metadata": {},
   "source": [
    "- Medium\n",
    "- 1.) 当前是peak, 返回; 否则分别看两边\n",
    "- 2.) 因为nums[i] ≠ nums[i+1], 则leftless or rightless == 1. 所以如果mid不是peak, 根据leftless或rightless确定往哪边找"
   ]
  },
  {
   "cell_type": "code",
   "execution_count": null,
   "metadata": {
    "collapsed": true
   },
   "outputs": [],
   "source": [
    "class Solution(object):\n",
    "    def helper(self, nums, low, high):\n",
    "        if low > high:\n",
    "            return None\n",
    "        \n",
    "        mid = (low + high) // 2\n",
    "        if nums[mid] > max(nums[mid-1], nums[mid+1]):\n",
    "            return mid\n",
    "        return self.helper(nums, low, mid-1) or self.helper(nums, mid+1, high)\n",
    "        \n",
    "    \n",
    "    def findPeakElement(self, nums):\n",
    "        \"\"\"\n",
    "        :type nums: List[int]\n",
    "        :rtype: int\n",
    "        \"\"\"\n",
    "        if not nums:\n",
    "            return None\n",
    "        \n",
    "        nums.insert(0, float('-inf'))\n",
    "        nums.append(float('-inf'))\n",
    "        \n",
    "        # solution 1\n",
    "        # return self.helper(nums, 1, len(nums)-2) - 1\n",
    "        \n",
    "        # solution 2\n",
    "        low, high = 1, len(nums) - 2\n",
    "        while low <= high:\n",
    "            mid = (low + high) // 2\n",
    "            leftless = nums[mid] > nums[mid-1]\n",
    "            rightless = nums[mid] > nums[mid+1]\n",
    "            if leftless and rightless:\n",
    "                return mid - 1\n",
    "            if leftless:\n",
    "                low = mid + 1\n",
    "            else:\n",
    "                high = mid - 1\n",
    "        return None"
   ]
  }
 ],
 "metadata": {
  "kernelspec": {
   "display_name": "Python [default]",
   "language": "python",
   "name": "python3"
  },
  "language_info": {
   "codemirror_mode": {
    "name": "ipython",
    "version": 3
   },
   "file_extension": ".py",
   "mimetype": "text/x-python",
   "name": "python",
   "nbconvert_exporter": "python",
   "pygments_lexer": "ipython3",
   "version": "3.5.2"
  }
 },
 "nbformat": 4,
 "nbformat_minor": 2
}
