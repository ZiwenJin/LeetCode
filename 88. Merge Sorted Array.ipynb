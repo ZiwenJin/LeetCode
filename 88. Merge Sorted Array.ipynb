{
 "cells": [
  {
   "cell_type": "markdown",
   "metadata": {},
   "source": [
    "- Easy\n",
    "- 2 pointers, 从最大的开始"
   ]
  },
  {
   "cell_type": "code",
   "execution_count": null,
   "metadata": {},
   "outputs": [],
   "source": [
    "class Solution:\n",
    "    def merge(self, nums1: List[int], m: int, nums2: List[int], n: int) -> None:\n",
    "        \"\"\"\n",
    "        Do not return anything, modify nums1 in-place instead.\n",
    "        \"\"\"\n",
    "        l = m + n - 1\n",
    "        m -= 1\n",
    "        n -= 1\n",
    "        while m >= 0 and n >= 0:\n",
    "            if nums1[m] < nums2[n]:\n",
    "                nums1[l] = nums2[n]\n",
    "                n -= 1\n",
    "            else:\n",
    "                nums1[l] = nums1[m]\n",
    "                m -= 1\n",
    "            l -= 1\n",
    "        if n >= 0:  # 如果最后nums2剩了, 给到nums1, 如果nums1剩了, 那其实就不用动\n",
    "            nums1[:n+1] = nums2[:n+1]"
   ]
  }
 ],
 "metadata": {
  "kernelspec": {
   "display_name": "Python 3",
   "language": "python",
   "name": "python3"
  },
  "language_info": {
   "codemirror_mode": {
    "name": "ipython",
    "version": 3
   },
   "file_extension": ".py",
   "mimetype": "text/x-python",
   "name": "python",
   "nbconvert_exporter": "python",
   "pygments_lexer": "ipython3",
   "version": "3.7.5"
  }
 },
 "nbformat": 4,
 "nbformat_minor": 2
}
