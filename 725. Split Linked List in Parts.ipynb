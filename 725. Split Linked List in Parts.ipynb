{
 "cells": [
  {
   "cell_type": "markdown",
   "metadata": {},
   "source": [
    "- Medium\n",
    "- 先找出LL的长度, 然后得到每个sub LL的长度, 之后就可以拆了\n",
    "- 两种拆法的区别在于没注释的通过 + (i < extra), 把前面和后面的一起考虑了, 其实没啥区别"
   ]
  },
  {
   "cell_type": "code",
   "execution_count": null,
   "metadata": {
    "collapsed": true
   },
   "outputs": [],
   "source": [
    "# Definition for singly-linked list.\n",
    "# class ListNode(object):\n",
    "#     def __init__(self, x):\n",
    "#         self.val = x\n",
    "#         self.next = None\n",
    "\n",
    "class Solution(object):\n",
    "    def splitListToParts(self, root, k):\n",
    "        \"\"\"\n",
    "        :type root: ListNode\n",
    "        :type k: int\n",
    "        :rtype: List[ListNode]\n",
    "        \"\"\"\n",
    "        length = 0\n",
    "        cur = root\n",
    "        while cur:\n",
    "            length += 1\n",
    "            cur = cur.next\n",
    "        \n",
    "        base, extra = divmod(length, k)\n",
    "        cur = root\n",
    "        res = []\n",
    "        for i in range(k):\n",
    "            if base + (i < extra) == 0:\n",
    "                res.extend([None] * (k-i))\n",
    "                break\n",
    "            else:\n",
    "                res.append(cur)\n",
    "                for j in range(base + (i < extra) - 1):\n",
    "                    cur = cur.next\n",
    "                cur.next, cur = None, cur.next\n",
    "        return res\n",
    "    \n",
    "        # for i in range(k):\n",
    "        #     if i < extra:\n",
    "        #         res.append(cur)\n",
    "        #         for j in range(base):\n",
    "        #             cur = cur.next\n",
    "        #         cur.next, cur = None, cur.next\n",
    "        #     else:\n",
    "        #         if base == 0:\n",
    "        #             res.extend([None] * (k-i))\n",
    "        #             break\n",
    "        #         else:\n",
    "        #             res.append(cur)\n",
    "        #             for j in range(base-1):\n",
    "        #                 cur = cur.next\n",
    "        #             cur.next, cur = None, cur.next\n",
    "        # return res"
   ]
  }
 ],
 "metadata": {
  "kernelspec": {
   "display_name": "Python [default]",
   "language": "python",
   "name": "python3"
  },
  "language_info": {
   "codemirror_mode": {
    "name": "ipython",
    "version": 3
   },
   "file_extension": ".py",
   "mimetype": "text/x-python",
   "name": "python",
   "nbconvert_exporter": "python",
   "pygments_lexer": "ipython3",
   "version": "3.5.2"
  }
 },
 "nbformat": 4,
 "nbformat_minor": 2
}
