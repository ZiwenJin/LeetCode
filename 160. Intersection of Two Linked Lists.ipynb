{
 "cells": [
  {
   "cell_type": "markdown",
   "metadata": {},
   "source": [
    "- Easy\n",
    "- 如果把在headA的末尾接headB, headB的末尾接headA, 那一起从头遍历时, 如果存在intersection, 那肯定会一起到那\n",
    "- 先让两个pointer走到末尾, 先到的(短的)就开始先从头遍历长的, 等长的也到末尾后就开始重头遍历短的\n",
    "- 如果某次相同, 返回, 否则大家都到None, 返回None"
   ]
  },
  {
   "cell_type": "code",
   "execution_count": null,
   "metadata": {
    "collapsed": true
   },
   "outputs": [],
   "source": [
    "# Definition for singly-linked list.\n",
    "# class ListNode(object):\n",
    "#     def __init__(self, x):\n",
    "#         self.val = x\n",
    "#         self.next = None\n",
    "\n",
    "class Solution(object):\n",
    "    def getIntersectionNode(self, headA, headB):\n",
    "        \"\"\"\n",
    "        :type head1, head1: ListNode\n",
    "        :rtype: ListNode\n",
    "        \"\"\"\n",
    "        l1, l2 = headA, headB\n",
    "        while l1 or l2:\n",
    "            if l1:\n",
    "                l1 = l1.next\n",
    "            else:\n",
    "                headB = headB.next\n",
    "            \n",
    "            if l2:\n",
    "                l2 = l2.next\n",
    "            else:\n",
    "                headA = headA.next\n",
    "                \n",
    "        while headA != headB:\n",
    "            headA = headA.next\n",
    "            headB = headB.next\n",
    "            \n",
    "        return headA"
   ]
  }
 ],
 "metadata": {
  "kernelspec": {
   "display_name": "Python [default]",
   "language": "python",
   "name": "python3"
  },
  "language_info": {
   "codemirror_mode": {
    "name": "ipython",
    "version": 3
   },
   "file_extension": ".py",
   "mimetype": "text/x-python",
   "name": "python",
   "nbconvert_exporter": "python",
   "pygments_lexer": "ipython3",
   "version": "3.5.2"
  }
 },
 "nbformat": 4,
 "nbformat_minor": 2
}
