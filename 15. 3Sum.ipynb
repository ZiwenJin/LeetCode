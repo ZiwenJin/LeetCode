{
 "cells": [
  {
   "cell_type": "markdown",
   "metadata": {},
   "source": [
    "- Medium"
   ]
  },
  {
   "cell_type": "markdown",
   "metadata": {},
   "source": [
    "- 基于2Sum\n",
    "- 第一位确定后, 去找后两位, 后两位不需要看第一位的左边, 因为这些情况在之前已经考虑过\n",
    "- 通过一些判断可以减少运算, 看代码里的注释"
   ]
  },
  {
   "cell_type": "code",
   "execution_count": null,
   "metadata": {},
   "outputs": [],
   "source": [
    "class Solution:\n",
    "    def threeSum(self, nums):\n",
    "        N = len(nums)\n",
    "        if N < 3:\n",
    "            return []\n",
    "        nums.sort()\n",
    "        ans = []\n",
    "        for i in range(N-2):  # 第一位不会是最后两位\n",
    "            if nums[i] > 0:  # 提前结束\n",
    "                break\n",
    "            if i > 0 and nums[i] == nums[i-1]:  # 跳过相同的元素\n",
    "                continue\n",
    "            l, r = i + 1, N - 1  # 第二位和第三位\n",
    "            while l < r:\n",
    "                cur_sum = nums[i] + nums[l] + nums[r]  # triplet的和\n",
    "                if cur_sum < 0:\n",
    "                    l += 1\n",
    "                elif cur_sum > 0:\n",
    "                    r -= 1\n",
    "                else:  # 找到了\n",
    "                    ans.append([nums[i], nums[l], nums[r]])\n",
    "                    l += 1\n",
    "                    while l < r and nums[l] == nums[l-1]:  # 跳过相同的元素, l < r可以减少运算\n",
    "                        l += 1\n",
    "                    r -= 1\n",
    "                    while r > l and nums[r] == nums[r+1]:  # 跳过相同的元素, r > l可以减少运算\n",
    "                        r -= 1\n",
    "        return ans"
   ]
  },
  {
   "cell_type": "markdown",
   "metadata": {},
   "source": [
    "- 用一个dict存2sum -> O(n^2)\n",
    "- 再遍历nums, 看-nums[k]是否存在 -> O(n)\n",
    "- TLE"
   ]
  },
  {
   "cell_type": "code",
   "execution_count": null,
   "metadata": {},
   "outputs": [],
   "source": [
    "from collections import defaultdict\n",
    "\n",
    "class Solution:\n",
    "    def threeSum(self, nums):\n",
    "        N = len(nums)\n",
    "        if N < 3:\n",
    "            return []\n",
    "        \n",
    "        nums.sort()\n",
    "        _2sum_dict = defaultdict(list)\n",
    "        for i in range(N):\n",
    "            for j in range(i+1, N):\n",
    "                _2sum_dict[nums[i]+nums[j]].append([i, j])\n",
    "                \n",
    "        ans = []\n",
    "        for k in range(N):\n",
    "            if -nums[k] in _2sum_dict:\n",
    "                for _2sum in _2sum_dict[-nums[k]]:\n",
    "                    if k not in _2sum:\n",
    "                        ans.append(_2sum + [k])\n",
    "        \n",
    "        ans_ = set()\n",
    "        for pair in ans:\n",
    "            ans_.add(tuple(sorted([nums[i] for i in pair])))\n",
    "        return [list(t) for t in ans_]"
   ]
  },
  {
   "cell_type": "markdown",
   "metadata": {},
   "source": [
    "- backtracking, TLE"
   ]
  },
  {
   "cell_type": "code",
   "execution_count": null,
   "metadata": {},
   "outputs": [],
   "source": [
    "class Solution:\n",
    "    def threeSum(self, nums: List[int]) -> List[List[int]]:\n",
    "        def backtracking(cur_i, path, res):\n",
    "            if len(path) == 3:\n",
    "                if sum(path) == 0:\n",
    "                    res.add(tuple(sorted(path)))\n",
    "            elif len(path) < 3:\n",
    "                for i in range(cur_i+1, N):\n",
    "                    if sum(path) + nums[i] > 0:  # pruning\n",
    "                        return\n",
    "                    path.append(nums[i])\n",
    "                    backtracking(i, path, res)\n",
    "                    path.pop()\n",
    "        \n",
    "        N = len(nums)\n",
    "        if N < 3:\n",
    "            return []\n",
    "        res = set()\n",
    "        path = []\n",
    "        nums.sort()\n",
    "        backtracking(-1, [], res)\n",
    "        return [list(t) for t in res]"
   ]
  }
 ],
 "metadata": {
  "kernelspec": {
   "display_name": "Python 3",
   "language": "python",
   "name": "python3"
  },
  "language_info": {
   "codemirror_mode": {
    "name": "ipython",
    "version": 3
   },
   "file_extension": ".py",
   "mimetype": "text/x-python",
   "name": "python",
   "nbconvert_exporter": "python",
   "pygments_lexer": "ipython3",
   "version": "3.7.5"
  }
 },
 "nbformat": 4,
 "nbformat_minor": 2
}
