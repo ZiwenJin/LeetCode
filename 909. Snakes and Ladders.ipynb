{
 "cells": [
  {
   "cell_type": "markdown",
   "metadata": {},
   "source": [
    "- Medium\n",
    "- 先写一个get(s), 输入位置, 返回该位置的行和列\n",
    "- bfs, 用一个dict记录每个位置最少需要多少steps到达"
   ]
  },
  {
   "cell_type": "code",
   "execution_count": null,
   "metadata": {},
   "outputs": [],
   "source": [
    "from collections import deque\n",
    "\n",
    "class Solution:\n",
    "    def snakesAndLadders(self, board: List[List[int]]) -> int:\n",
    "        if board is None or len(board) == 0:\n",
    "            return -1\n",
    "        \n",
    "        N = len(board)\n",
    "        \n",
    "        def get(s):\n",
    "            quot, rem = divmod(s-1, N)\n",
    "            row = N - 1 - quot\n",
    "            col = rem if row%2 != N%2 else N - 1 - rem  # 第一行是index最大那行\n",
    "            return row, col\n",
    "        \n",
    "        dist = {1: 0}\n",
    "        queue = deque([1])\n",
    "        while queue:\n",
    "            s = queue.popleft()\n",
    "            if s == N*N: return dist[s]\n",
    "            for s2 in range(s+1, min(s+6, N*N)+1):\n",
    "                r, c = get(s2)\n",
    "                if board[r][c] != -1:\n",
    "                    s2 = board[r][c]\n",
    "                if s2 not in dist:\n",
    "                    dist[s2] = dist[s] + 1\n",
    "                    queue.append(s2)\n",
    "        return -1"
   ]
  }
 ],
 "metadata": {
  "kernelspec": {
   "display_name": "Python 3",
   "language": "python",
   "name": "python3"
  },
  "language_info": {
   "codemirror_mode": {
    "name": "ipython",
    "version": 3
   },
   "file_extension": ".py",
   "mimetype": "text/x-python",
   "name": "python",
   "nbconvert_exporter": "python",
   "pygments_lexer": "ipython3",
   "version": "3.7.5"
  }
 },
 "nbformat": 4,
 "nbformat_minor": 2
}
