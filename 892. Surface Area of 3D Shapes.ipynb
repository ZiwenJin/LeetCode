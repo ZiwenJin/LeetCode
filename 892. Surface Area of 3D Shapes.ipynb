{
 "cells": [
  {
   "cell_type": "markdown",
   "metadata": {},
   "source": [
    "- Easy\n",
    "- 第一种解法错在只想着最高峰, 而没考虑中间陷下去的情况\n",
    "- 第二种解法是通过用所有surface, 减去overlap的数量"
   ]
  },
  {
   "cell_type": "code",
   "execution_count": 1,
   "metadata": {},
   "outputs": [],
   "source": [
    "class Solution:\n",
    "    def surfaceArea(self, grid: List[List[int]]) -> int:\n",
    "        if grid is None or len(grid) == 0 or len(grid[0]) == 0:\n",
    "            return 0\n",
    "        \n",
    "        grid_cnt = 0\n",
    "        cube_cnt = 0\n",
    "        hor_overlap = 0\n",
    "        ver_overlap = 0\n",
    "        for i in range(len(grid)):\n",
    "            for j in range(len(grid[0])):\n",
    "                v = grid[i][j]\n",
    "                grid_cnt += 1 if v > 0 else 0\n",
    "                cube_cnt += v\n",
    "                if i > 0 or j > 0:\n",
    "                    if i == 0:\n",
    "                        hor_overlap += min(v, grid[i][j-1])\n",
    "                    elif j == 0:\n",
    "                        ver_overlap += min(v, grid[i-1][j])\n",
    "                    else:\n",
    "                        hor_overlap += min(v, grid[i][j-1])\n",
    "                        ver_overlap += min(v, grid[i-1][j])\n",
    "        return 2*grid_cnt + 4*cube_cnt - 2*hor_overlap - 2*ver_overlap\n",
    "        \n",
    "        \n",
    "        # # Wrong!\n",
    "        # # 未考虑中间有低谷的情况, 如[[1,1,1],[1,0,1],[1,1,1]]\n",
    "        # hor_max = [row[0] for row in grid]\n",
    "        # ver_max = grid[0]\n",
    "        # exist_cnt = 0\n",
    "        # for i in range(len(grid)):\n",
    "        #     for j in range(len(grid[0])):\n",
    "        #         v = grid[i][j]\n",
    "        #         hor_max[i] = max(ver_max[i], v)\n",
    "        #         ver_max[j] = max(ver_max[j], v)\n",
    "        #         if v > 0:\n",
    "        #             exist_cnt += 1\n",
    "        # return (sum(hor_max) + sum(ver_max) + exist_cnt) * 2"
   ]
  }
 ],
 "metadata": {
  "kernelspec": {
   "display_name": "Python 3",
   "language": "python",
   "name": "python3"
  },
  "language_info": {
   "codemirror_mode": {
    "name": "ipython",
    "version": 3
   },
   "file_extension": ".py",
   "mimetype": "text/x-python",
   "name": "python",
   "nbconvert_exporter": "python",
   "pygments_lexer": "ipython3",
   "version": "3.7.5"
  }
 },
 "nbformat": 4,
 "nbformat_minor": 2
}
