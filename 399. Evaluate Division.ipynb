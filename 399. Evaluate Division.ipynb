{
 "cells": [
  {
   "cell_type": "markdown",
   "metadata": {},
   "source": [
    "- Medium\n",
    "- 用Graph, node为数字, edge为除法, 那对于任意query A/B, 就是找A到B的path, 并将path上所有edges的权重相乘结尾答案"
   ]
  },
  {
   "cell_type": "code",
   "execution_count": null,
   "metadata": {},
   "outputs": [],
   "source": [
    "from collections import defaultdict, deque\n",
    "\n",
    "class Solution:\n",
    "    def calcEquation(self, equations: List[List[str]], values: List[float], queries: List[List[str]]) -> List[float]:\n",
    "        def build(equations, values):\n",
    "            for eq, v in zip(equations, values):\n",
    "                graph[eq[0]].append([eq[1], v])\n",
    "                graph[eq[1]].append([eq[0], 1/v])\n",
    "            \n",
    "        def query(q):\n",
    "            s, e = q  # 起点, 终点\n",
    "            if s not in graph or e not in graph:  # 数字不存在\n",
    "                return -1\n",
    "            \n",
    "            queue = deque([[s, 1]])  # 记录当前点, 以及起点到该点的结果\n",
    "            visited = set()\n",
    "            while queue:\n",
    "                n, v = queue.popleft()\n",
    "                if n == e:\n",
    "                    return v\n",
    "                visited.add(n)\n",
    "                for nn, nn_v in graph[n]:\n",
    "                    if nn not in visited:\n",
    "                        queue.append([nn, v*nn_v])\n",
    "            return -1  # path不存在\n",
    "        \n",
    "        graph = defaultdict(list)  # 双向, 权重互为倒数\n",
    "        build(equations, values)\n",
    "        return [query(q) for q in queries]"
   ]
  }
 ],
 "metadata": {
  "kernelspec": {
   "display_name": "Python 3",
   "language": "python",
   "name": "python3"
  },
  "language_info": {
   "codemirror_mode": {
    "name": "ipython",
    "version": 3
   },
   "file_extension": ".py",
   "mimetype": "text/x-python",
   "name": "python",
   "nbconvert_exporter": "python",
   "pygments_lexer": "ipython3",
   "version": "3.7.5"
  }
 },
 "nbformat": 4,
 "nbformat_minor": 2
}
