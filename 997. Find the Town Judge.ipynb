{
 "cells": [
  {
   "cell_type": "markdown",
   "metadata": {},
   "source": [
    "- Easy\n",
    "- Solution 1: TC=O(M) and SC=O(N+M), where M=len(trust)\n",
    "- Solution 2: TC=O(M+N) and SC=O(N), where M=len(trust)"
   ]
  },
  {
   "cell_type": "code",
   "execution_count": null,
   "metadata": {},
   "outputs": [],
   "source": [
    "class Solution:\n",
    "    def findJudge(self, N: int, trust: List[List[int]]) -> int:\n",
    "        # Solution 2: 算出度和入度\n",
    "        trust_cnt = [0] * (N+1)\n",
    "        for e in trust:\n",
    "            trust_cnt[e[0]] -= 1\n",
    "            trust_cnt[e[1]] += 1\n",
    "        for i, e in enumerate(trust_cnt[1:], 1):\n",
    "            if e == N-1:\n",
    "                return i\n",
    "        return -1\n",
    "        \n",
    "        # # Solution 1: 从定义出发\n",
    "        # non_judge_set = set([e[0] for e in trust])  # 所有不是judge的人\n",
    "        # # 如果不是N-1个非judge, false\n",
    "        # if len(non_judge_set) != N-1:\n",
    "        #     return -1\n",
    "        # # judge只能是少的那个id\n",
    "        # judge_id = (1+N)*N//2 - sum(non_judge_set)\n",
    "        # # 如果其被trust的次数不是N-1, false\n",
    "        # if sum([1 for e in trust if e[1] == judge_id]) != N-1:\n",
    "        #     return -1\n",
    "        # return judge_id"
   ]
  }
 ],
 "metadata": {
  "kernelspec": {
   "display_name": "Python 3",
   "language": "python",
   "name": "python3"
  },
  "language_info": {
   "codemirror_mode": {
    "name": "ipython",
    "version": 3
   },
   "file_extension": ".py",
   "mimetype": "text/x-python",
   "name": "python",
   "nbconvert_exporter": "python",
   "pygments_lexer": "ipython3",
   "version": "3.7.5"
  }
 },
 "nbformat": 4,
 "nbformat_minor": 2
}
