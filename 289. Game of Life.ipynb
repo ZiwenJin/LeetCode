{
 "cells": [
  {
   "cell_type": "markdown",
   "metadata": {},
   "source": [
    "- Medium"
   ]
  },
  {
   "cell_type": "markdown",
   "metadata": {},
   "source": [
    "- in-place -> SC=O(1)\n",
    "- 更新的时候\n",
    "> 1. live -> dead: 1 -> 2\n",
    "> 2. dead -> live: 0 -> -1\n",
    "- 然后判断neighbours里原来有多少live只需要看有多少数>0\n",
    "- 最后再遍历board, 把2改为0, -1改为1"
   ]
  },
  {
   "cell_type": "code",
   "execution_count": null,
   "metadata": {},
   "outputs": [],
   "source": [
    "class Solution:\n",
    "    def gameOfLife(self, board: List[List[int]]) -> None:\n",
    "        \"\"\"\n",
    "        Do not return anything, modify board in-place instead.\n",
    "        \"\"\"\n",
    "        def live_or_die(i, j):\n",
    "            is_live = board[i][j]\n",
    "            neigs = sum([0 if not (0 <= i_ < N and 0 <= j_ < M) else int(board[i_][j_] > 0) for i_ in [i-1, i, i+1] for j_ in [j-1, j, j+1]]) - is_live\n",
    "            if is_live:\n",
    "                return 1 if 2 <= neigs <= 3 else 2\n",
    "            else:\n",
    "                return -1 if neigs == 3 else 0\n",
    "        \n",
    "        if not (board and board[0]):\n",
    "            return None\n",
    "        \n",
    "        N, M = len(board), len(board[0])\n",
    "        for i in range(N):\n",
    "            for j in range(M):\n",
    "                board[i][j] = live_or_die(i, j)\n",
    "                \n",
    "        for i in range(N):\n",
    "            for j in range(M):\n",
    "                if board[i][j] == 2:\n",
    "                    board[i][j] = 0\n",
    "                elif board[i][j] == -1:\n",
    "                    board[i][j] = 1"
   ]
  },
  {
   "cell_type": "markdown",
   "metadata": {},
   "source": [
    "- 用一个额外的board记录结果\n",
    "- SC=O(N*M)"
   ]
  },
  {
   "cell_type": "code",
   "execution_count": null,
   "metadata": {},
   "outputs": [],
   "source": [
    "class Solution:\n",
    "    def gameOfLife(self, board: List[List[int]]) -> None:\n",
    "        \"\"\"\n",
    "        Do not return anything, modify board in-place instead.\n",
    "        \"\"\"\n",
    "        def live_or_die(i, j):\n",
    "            is_live = board[i][j]\n",
    "            neigs = sum([0 if not (0 <= i_ < N and 0 <= j_ < M) else board[i_][j_] for i_ in [i-1, i, i+1] for j_ in [j-1, j, j+1]]) - is_live\n",
    "            if is_live:\n",
    "                return 2 <= neigs <= 3\n",
    "            else:\n",
    "                return neigs == 3\n",
    "        \n",
    "        if not (board and board[0]):\n",
    "            return None\n",
    "        \n",
    "        N, M = len(board), len(board[0])\n",
    "        nxt_board = [[0] * M for _ in range(N)]\n",
    "        for i in range(N):\n",
    "            for j in range(M):\n",
    "                nxt_board[i][j] = int(live_or_die(i, j))\n",
    "                \n",
    "        for i in range(N):\n",
    "            board[i] = nxt_board[i]"
   ]
  }
 ],
 "metadata": {
  "kernelspec": {
   "display_name": "Python 3",
   "language": "python",
   "name": "python3"
  },
  "language_info": {
   "codemirror_mode": {
    "name": "ipython",
    "version": 3
   },
   "file_extension": ".py",
   "mimetype": "text/x-python",
   "name": "python",
   "nbconvert_exporter": "python",
   "pygments_lexer": "ipython3",
   "version": "3.7.5"
  }
 },
 "nbformat": 4,
 "nbformat_minor": 2
}
