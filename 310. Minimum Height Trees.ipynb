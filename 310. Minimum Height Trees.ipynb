{
 "cells": [
  {
   "cell_type": "markdown",
   "metadata": {},
   "source": [
    "- Medium\n",
    "- 要找的root就是最长path的中点, 可能有1个或2个, 取决于path长度是奇数或偶数\n",
    "- 最长path肯定是从一个leaf node到另一个leaf node. 当且仅当len(edge)=1的node是leaf node\n",
    "- 那就通过bfs, 把所有nodes里的leaf nodes一层层去掉, 最后剩下的1个或2个nodes就是答案"
   ]
  },
  {
   "cell_type": "code",
   "execution_count": null,
   "metadata": {},
   "outputs": [],
   "source": [
    "class Solution:\n",
    "    def findMinHeightTrees(self, n: int, edges: List[List[int]]) -> List[int]:\n",
    "        if n == 1:\n",
    "            return [0]\n",
    "        \n",
    "        neigs = [[] for i in range(n)]\n",
    "        for e in edges:\n",
    "            neigs[e[0]].append(e[1])\n",
    "            neigs[e[1]].append(e[0])\n",
    "        leaves = [i for i, e in enumerate(neigs) if len(e) == 1]  # 起始的leaf nodes\n",
    "        \n",
    "        while n > 2:  # 还未到最长path的中点\n",
    "            n -= len(leaves)  # 减去当前的leaf nodes的数量\n",
    "            new_leaves = []\n",
    "            for leaf in leaves:\n",
    "                leaf_par = neigs[leaf][0]\n",
    "                neigs[leaf_par].remove(leaf)\n",
    "                if len(neigs[leaf_par]) == 1:  # 除去当前的leaf nodes后, 产生的新的leaf nodes\n",
    "                    new_leaves.append(leaf_par)\n",
    "            leaves = new_leaves\n",
    "        return leaves"
   ]
  }
 ],
 "metadata": {
  "kernelspec": {
   "display_name": "Python 3",
   "language": "python",
   "name": "python3"
  },
  "language_info": {
   "codemirror_mode": {
    "name": "ipython",
    "version": 3
   },
   "file_extension": ".py",
   "mimetype": "text/x-python",
   "name": "python",
   "nbconvert_exporter": "python",
   "pygments_lexer": "ipython3",
   "version": "3.7.5"
  }
 },
 "nbformat": 4,
 "nbformat_minor": 2
}
