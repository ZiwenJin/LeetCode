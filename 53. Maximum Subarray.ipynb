{
 "cells": [
  {
   "cell_type": "markdown",
   "metadata": {},
   "source": [
    "- Easy\n",
    "- 记两个状态, max_sum保存到目前为止的最大值, 即最终的答案, max_sum_to_cur保存到目前为止且包含目前位的最大值, 用以更新下一个状态"
   ]
  },
  {
   "cell_type": "code",
   "execution_count": 4,
   "metadata": {},
   "outputs": [],
   "source": [
    "class Solution:\n",
    "    def maxSubArray(self, nums: List[int]) -> int:\n",
    "        if not nums or len(nums) == 0:\n",
    "            return 0\n",
    "        \n",
    "        max_sum, max_sum_to_cur = nums[0], nums[0]\n",
    "        for e in nums[1:]:\n",
    "            max_sum_to_cur = max(max_sum_to_cur+e, e)\n",
    "            max_sum = max(max_sum, max_sum_to_cur)\n",
    "        return max_sum"
   ]
  }
 ],
 "metadata": {
  "kernelspec": {
   "display_name": "Python 3",
   "language": "python",
   "name": "python3"
  },
  "language_info": {
   "codemirror_mode": {
    "name": "ipython",
    "version": 3
   },
   "file_extension": ".py",
   "mimetype": "text/x-python",
   "name": "python",
   "nbconvert_exporter": "python",
   "pygments_lexer": "ipython3",
   "version": "3.5.2"
  }
 },
 "nbformat": 4,
 "nbformat_minor": 2
}
