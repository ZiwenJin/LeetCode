{
 "cells": [
  {
   "cell_type": "markdown",
   "metadata": {},
   "source": [
    "- Easy\n",
    "- greedy, 越前面的I/D用越小/大的值. 反正一共就len(S)个数, 每次不是左边就是右边少一个\n",
    "- 或者说遍历的时候每次都是一个domain为[start, end]的子问题"
   ]
  },
  {
   "cell_type": "code",
   "execution_count": null,
   "metadata": {},
   "outputs": [],
   "source": [
    "class Solution:\n",
    "    def diStringMatch(self, S: str) -> List[int]:\n",
    "        ans = []\n",
    "        start, end = 0, len(S)\n",
    "        for c in S:\n",
    "            if c == 'I':\n",
    "                ans.append(start)\n",
    "                start += 1\n",
    "            elif c == 'D':\n",
    "                ans.append(end)\n",
    "                end -= 1\n",
    "            else:\n",
    "                return []\n",
    "        ans.append(end)\n",
    "        return ans"
   ]
  }
 ],
 "metadata": {
  "kernelspec": {
   "display_name": "Python 3",
   "language": "python",
   "name": "python3"
  },
  "language_info": {
   "codemirror_mode": {
    "name": "ipython",
    "version": 3
   },
   "file_extension": ".py",
   "mimetype": "text/x-python",
   "name": "python",
   "nbconvert_exporter": "python",
   "pygments_lexer": "ipython3",
   "version": "3.7.5"
  }
 },
 "nbformat": 4,
 "nbformat_minor": 2
}
