{
 "cells": [
  {
   "cell_type": "markdown",
   "metadata": {},
   "source": [
    "- Medium\n",
    "- DFS, 通过修改cell的值来防止重复遍历"
   ]
  },
  {
   "cell_type": "code",
   "execution_count": 35,
   "metadata": {},
   "outputs": [],
   "source": [
    "class Solution:\n",
    "    def getMaximumGold(self, grid) -> int:\n",
    "        if grid is None or len(grid) == 0 or len(grid[0]) == 0:\n",
    "            return 0\n",
    "        M, N = len(grid), len(grid[0])\n",
    "        \n",
    "        def dfs(m, n, cnt):\n",
    "            cur_value = grid[m][n]\n",
    "            cnt += cur_value\n",
    "            grid[m][n] = 0\n",
    "            \n",
    "            tmp_max = cnt\n",
    "            for x, y in [(m-1, n), (m+1, n), (m, n-1), (m, n+1)]:\n",
    "                if not(x < 0 or y < 0 or x >= M or y >= N or grid[x][y] == 0):\n",
    "                    tmp_max = max(tmp_max, dfs(x, y, cnt))\n",
    "            grid[m][n] = cur_value\n",
    "            return tmp_max\n",
    "        \n",
    "        \n",
    "        return max([dfs(m, n, 0) for m in range(len(grid)) for n in range(len(grid[0])) if grid[m][n] != 0])"
   ]
  },
  {
   "cell_type": "code",
   "execution_count": 36,
   "metadata": {
    "scrolled": true
   },
   "outputs": [
    {
     "data": {
      "text/plain": [
       "24"
      ]
     },
     "execution_count": 36,
     "metadata": {},
     "output_type": "execute_result"
    }
   ],
   "source": [
    "s = Solution()\n",
    "s.getMaximumGold([[0,6,0],[5,8,7],[0,9,0]])"
   ]
  },
  {
   "cell_type": "code",
   "execution_count": null,
   "metadata": {},
   "outputs": [],
   "source": []
  }
 ],
 "metadata": {
  "kernelspec": {
   "display_name": "Python 3",
   "language": "python",
   "name": "python3"
  },
  "language_info": {
   "codemirror_mode": {
    "name": "ipython",
    "version": 3
   },
   "file_extension": ".py",
   "mimetype": "text/x-python",
   "name": "python",
   "nbconvert_exporter": "python",
   "pygments_lexer": "ipython3",
   "version": "3.7.5"
  }
 },
 "nbformat": 4,
 "nbformat_minor": 2
}
