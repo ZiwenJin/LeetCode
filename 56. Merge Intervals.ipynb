{
 "cells": [
  {
   "cell_type": "markdown",
   "metadata": {},
   "source": [
    "- Medium\n",
    "- 先按i[0]排序, 然后遍历, 判断前后两个intervals是否有交集"
   ]
  },
  {
   "cell_type": "code",
   "execution_count": null,
   "metadata": {},
   "outputs": [],
   "source": [
    "class Solution:\n",
    "    def merge(self, intervals: List[List[int]]) -> List[List[int]]:\n",
    "        N = len(intervals)\n",
    "        if N <= 1:\n",
    "            return intervals\n",
    "        \n",
    "        intervals.sort()\n",
    "        ans = [intervals[0]]\n",
    "        for i in intervals[1:]:\n",
    "            if i[0] > ans[-1][1]:\n",
    "                ans.append(i)\n",
    "            elif i[1] > ans[-1][1]:\n",
    "                ans[-1][1] = i[1]\n",
    "        return ans"
   ]
  }
 ],
 "metadata": {
  "kernelspec": {
   "display_name": "Python 3",
   "language": "python",
   "name": "python3"
  },
  "language_info": {
   "codemirror_mode": {
    "name": "ipython",
    "version": 3
   },
   "file_extension": ".py",
   "mimetype": "text/x-python",
   "name": "python",
   "nbconvert_exporter": "python",
   "pygments_lexer": "ipython3",
   "version": "3.7.5"
  }
 },
 "nbformat": 4,
 "nbformat_minor": 2
}
