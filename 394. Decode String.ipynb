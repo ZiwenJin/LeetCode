{
 "cells": [
  {
   "cell_type": "markdown",
   "metadata": {},
   "source": [
    "- Medium\n",
    "- 核心就是一个int对应一个str. 遇到']'时, 就pop出来, 添加到结果上\n",
    "- 但一个str不一定对应一个int, 所以下面的解法是根据stack是否为空来判断, 比较麻烦, 上面的解法直接加到cur_string上"
   ]
  },
  {
   "cell_type": "code",
   "execution_count": null,
   "metadata": {},
   "outputs": [],
   "source": [
    "class Solution:\n",
    "    def decodeString(self, s: str) -> str:\n",
    "        stack = []\n",
    "        prev_string = ''\n",
    "        cur_string = ''\n",
    "        cur_num = 0\n",
    "        for c in s:\n",
    "            if c.isdigit():\n",
    "                cur_num = 10 * cur_num + int(c)\n",
    "            elif c == '[':\n",
    "                stack.extend([cur_num, cur_string])\n",
    "                cur_string = ''\n",
    "                cur_num = 0\n",
    "            elif c == ']':\n",
    "                cur_string = stack.pop() + cur_string * stack.pop()\n",
    "            else:\n",
    "                cur_string += c\n",
    "        return cur_string"
   ]
  },
  {
   "cell_type": "code",
   "execution_count": 17,
   "metadata": {},
   "outputs": [],
   "source": [
    "class Solution:\n",
    "    def decodeString(self, s: str) -> str:\n",
    "        res = ''\n",
    "        count_stack = []\n",
    "        res_stack = []\n",
    "        i = 0\n",
    "        while i < len(s):\n",
    "            if s[i].isdigit():\n",
    "                count = 0\n",
    "                while s[i].isdigit():\n",
    "                    count = 10 * count + int(s[i])\n",
    "                    i += 1\n",
    "                count_stack.append(count)\n",
    "            elif s[i] == '[':\n",
    "                i += 1\n",
    "                tmp_res = ''\n",
    "                while s[i].isalpha():\n",
    "                    tmp_res += s[i]\n",
    "                    i += 1\n",
    "                res_stack.append(tmp_res)\n",
    "            elif s[i] == ']':\n",
    "                tmp_res = res_stack.pop() * count_stack.pop()\n",
    "                if len(res_stack) > 0:\n",
    "                    tmp_res = res_stack.pop() + tmp_res\n",
    "                    res_stack.append(tmp_res)\n",
    "                else:\n",
    "                    res += tmp_res\n",
    "                i += 1\n",
    "            else:\n",
    "                if len(res_stack) > 0:\n",
    "                    res_stack.append(res_stack.pop() + s[i])\n",
    "                else:\n",
    "                    res += s[i]\n",
    "                i += 1\n",
    "        return res"
   ]
  },
  {
   "cell_type": "code",
   "execution_count": 18,
   "metadata": {},
   "outputs": [
    {
     "data": {
      "text/plain": [
       "'aaabFFFFcbFFFFc'"
      ]
     },
     "execution_count": 18,
     "metadata": {},
     "output_type": "execute_result"
    }
   ],
   "source": [
    "s = Solution()\n",
    "s.decodeString(\"3[a]2[b4[F]c]\")"
   ]
  }
 ],
 "metadata": {
  "kernelspec": {
   "display_name": "Python 3",
   "language": "python",
   "name": "python3"
  },
  "language_info": {
   "codemirror_mode": {
    "name": "ipython",
    "version": 3
   },
   "file_extension": ".py",
   "mimetype": "text/x-python",
   "name": "python",
   "nbconvert_exporter": "python",
   "pygments_lexer": "ipython3",
   "version": "3.7.5"
  }
 },
 "nbformat": 4,
 "nbformat_minor": 2
}
