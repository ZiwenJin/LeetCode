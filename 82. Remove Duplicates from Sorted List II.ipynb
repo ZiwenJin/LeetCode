{
 "cells": [
  {
   "cell_type": "markdown",
   "metadata": {},
   "source": [
    "- Medium\n",
    "- 如果下位和下下位指不同, 看下位\n",
    "- 否则循环至不同, 然后更新当前的next"
   ]
  },
  {
   "cell_type": "code",
   "execution_count": null,
   "metadata": {
    "collapsed": true
   },
   "outputs": [],
   "source": [
    "# Definition for singly-linked list.\n",
    "# class ListNode(object):\n",
    "#     def __init__(self, x):\n",
    "#         self.val = x\n",
    "#         self.next = None\n",
    "\n",
    "class Solution(object):\n",
    "    def deleteDuplicates(self, head):\n",
    "        \"\"\"\n",
    "        :type head: ListNode\n",
    "        :rtype: ListNode\n",
    "        \"\"\"\n",
    "        dummy, dummy.next = ListNode('#'), head\n",
    "        cur = dummy\n",
    "        \n",
    "        while cur.next:\n",
    "            tmp = cur.next\n",
    "            \n",
    "            if not tmp.next or tmp.val != tmp.next.val:\n",
    "                cur = tmp\n",
    "            else:\n",
    "                while tmp.next and tmp.val == tmp.next.val:\n",
    "                    tmp = tmp.next\n",
    "                cur.next = tmp.next\n",
    "        return dummy.next"
   ]
  }
 ],
 "metadata": {
  "kernelspec": {
   "display_name": "Python [default]",
   "language": "python",
   "name": "python3"
  },
  "language_info": {
   "codemirror_mode": {
    "name": "ipython",
    "version": 3
   },
   "file_extension": ".py",
   "mimetype": "text/x-python",
   "name": "python",
   "nbconvert_exporter": "python",
   "pygments_lexer": "ipython3",
   "version": "3.5.2"
  }
 },
 "nbformat": 4,
 "nbformat_minor": 2
}
