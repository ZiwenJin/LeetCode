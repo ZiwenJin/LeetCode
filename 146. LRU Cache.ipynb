{
 "cells": [
  {
   "cell_type": "markdown",
   "metadata": {},
   "source": [
    "- Medium\n",
    "- 为了O(1)内实现get和put, 可以用dict, 但普通的dict无法考虑items间的顺序\n",
    "- 用OrderedDict! 该subclass提供了\n",
    "> 1. popitem(last=True): 返回并删除一组(k, v). LIFO if last=True else FIFO\n",
    "> 2. move_to_end(key, last=True): 将某key移到尾部 (right end) if last=True else 尾部 (left end)\n",
    "> 3. https://docs.python.org/3/library/collections.html#collections.OrderedDict"
   ]
  },
  {
   "cell_type": "code",
   "execution_count": null,
   "metadata": {},
   "outputs": [],
   "source": [
    "from collections import OrderedDict\n",
    "\n",
    "class LRUCache:\n",
    "\n",
    "    def __init__(self, capacity: int):\n",
    "        self.cache = OrderedDict()\n",
    "        self.capacity = capacity\n",
    "\n",
    "    def get(self, key: int) -> int:\n",
    "        if key not in self.cache:\n",
    "            return -1\n",
    "        \n",
    "        self.cache.move_to_end(key, True)  # update to the latest pos.\n",
    "        return self.cache[key]\n",
    "\n",
    "    def put(self, key: int, value: int) -> None:\n",
    "        # if exists, update to the latest pos.\n",
    "        if key in self.cache:\n",
    "            self.cache.move_to_end(key, True)\n",
    "        self.cache[key] = value\n",
    "        # if overflow, pop the oldest one\n",
    "        if len(self.cache) > self.capacity:\n",
    "            self.cache.popitem(False)\n",
    "        \n",
    "\n",
    "\n",
    "# Your LRUCache object will be instantiated and called as such:\n",
    "# obj = LRUCache(capacity)\n",
    "# param_1 = obj.get(key)\n",
    "# obj.put(key,value)"
   ]
  }
 ],
 "metadata": {
  "kernelspec": {
   "display_name": "Python 3",
   "language": "python",
   "name": "python3"
  },
  "language_info": {
   "codemirror_mode": {
    "name": "ipython",
    "version": 3
   },
   "file_extension": ".py",
   "mimetype": "text/x-python",
   "name": "python",
   "nbconvert_exporter": "python",
   "pygments_lexer": "ipython3",
   "version": "3.7.5"
  }
 },
 "nbformat": 4,
 "nbformat_minor": 2
}
