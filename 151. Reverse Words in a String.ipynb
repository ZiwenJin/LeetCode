{
 "cells": [
  {
   "cell_type": "markdown",
   "metadata": {},
   "source": [
    "- Medium\n",
    "- python built-in functions"
   ]
  },
  {
   "cell_type": "code",
   "execution_count": null,
   "metadata": {},
   "outputs": [],
   "source": [
    "class Solution:\n",
    "    def reverseWords(self, s: str) -> str:\n",
    "        return ' '.join(s.split()[::-1])"
   ]
  },
  {
   "cell_type": "markdown",
   "metadata": {},
   "source": [
    "- 用deque, 每遍历到一个word就appendleft"
   ]
  },
  {
   "cell_type": "code",
   "execution_count": null,
   "metadata": {},
   "outputs": [],
   "source": [
    "class Solution:\n",
    "    def reverseWords(self, s: str) -> str:\n",
    "        # return ' '.join(s.split()[::-1])\n",
    "        \n",
    "        from collections import deque\n",
    "        \n",
    "        d, w = deque([]), []\n",
    "        i = 0\n",
    "        while i < len(s):\n",
    "            if s[i] == ' ' and len(w) == 0:\n",
    "                pass\n",
    "            elif s[i] == ' ':\n",
    "                d.appendleft(''.join(w))\n",
    "                w = []\n",
    "            else:\n",
    "                w.append(s[i])\n",
    "            i += 1\n",
    "        if w:\n",
    "            d.appendleft(''.join(w))\n",
    "        return ' '.join(d)"
   ]
  }
 ],
 "metadata": {
  "kernelspec": {
   "display_name": "Python 3",
   "language": "python",
   "name": "python3"
  },
  "language_info": {
   "codemirror_mode": {
    "name": "ipython",
    "version": 3
   },
   "file_extension": ".py",
   "mimetype": "text/x-python",
   "name": "python",
   "nbconvert_exporter": "python",
   "pygments_lexer": "ipython3",
   "version": "3.7.5"
  }
 },
 "nbformat": 4,
 "nbformat_minor": 2
}
