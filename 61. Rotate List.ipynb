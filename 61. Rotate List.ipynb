{
 "cells": [
  {
   "cell_type": "markdown",
   "metadata": {},
   "source": [
    "- Medium\n",
    "- 先计算长度\n",
    "- 注意让k对长度取模\n",
    "- 找到新的head"
   ]
  },
  {
   "cell_type": "code",
   "execution_count": null,
   "metadata": {
    "collapsed": true
   },
   "outputs": [],
   "source": [
    "# Definition for singly-linked list.\n",
    "# class ListNode(object):\n",
    "#     def __init__(self, x):\n",
    "#         self.val = x\n",
    "#         self.next = None\n",
    "\n",
    "class Solution(object):\n",
    "    def rotateRight(self, head, k):\n",
    "        \"\"\"\n",
    "        :type head: ListNode\n",
    "        :type k: int\n",
    "        :rtype: ListNode\n",
    "        \"\"\"\n",
    "        if not head or not k:\n",
    "            return head\n",
    "        \n",
    "        cur = head\n",
    "        ll_len = 1\n",
    "        \n",
    "        while cur.next:\n",
    "            cur = cur.next\n",
    "            ll_len += 1\n",
    "        cur.next = head\n",
    "        \n",
    "        k %= ll_len\n",
    "        k = ll_len - k - 1\n",
    "        for i in range(k):\n",
    "            head = head.next\n",
    "        new_head = head.next\n",
    "        head.next = None\n",
    "        return new_head"
   ]
  }
 ],
 "metadata": {
  "kernelspec": {
   "display_name": "Python [default]",
   "language": "python",
   "name": "python3"
  },
  "language_info": {
   "codemirror_mode": {
    "name": "ipython",
    "version": 3
   },
   "file_extension": ".py",
   "mimetype": "text/x-python",
   "name": "python",
   "nbconvert_exporter": "python",
   "pygments_lexer": "ipython3",
   "version": "3.5.2"
  }
 },
 "nbformat": 4,
 "nbformat_minor": 2
}
