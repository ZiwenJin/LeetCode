{
 "cells": [
  {
   "cell_type": "markdown",
   "metadata": {},
   "source": [
    "- Medium\n",
    "- Solution 1比较费时, 不断的类型转换 (str和list, set和list)\n",
    "- Solution 2 & 3的核心是判断当前位和上一位是否相同"
   ]
  },
  {
   "cell_type": "code",
   "execution_count": 17,
   "metadata": {},
   "outputs": [],
   "source": [
    "class Solution:\n",
    "    # def subsetsWithDup(self, nums: List[int]) -> List[List[int]]:\n",
    "    def subsetsWithDup(self, nums):\n",
    "        # backtracking\n",
    "        def dfs(ans, tmp, nums, offset):\n",
    "            ans.append(tmp.copy())\n",
    "            for i in range(offset, len(nums)):\n",
    "                # 等价于 if (i > offset) and (nums[i] == nums[i-1]): continue\n",
    "                # 想象dfs遍历tree, 即在同一level碰到某个数非第一次出现, 则忽略\n",
    "                # i == offset是某level中的第一个数, nums[offset:]是此level能遍历的所有数\n",
    "                if (i == offset) or (nums[i] != nums[i-1]):\n",
    "                    tmp.append(nums[i])\n",
    "                    ans = dfs(ans, tmp, nums, i+1)\n",
    "                    tmp.pop()\n",
    "            return ans\n",
    "        \n",
    "        return dfs([], [], sorted(nums), 0)\n",
    "    \n",
    "#         # Solution 2: bruteforce\n",
    "#         # 先排序, 遇到和之前一样的就只对上一回合加入的元素append\n",
    "#         if nums is None or len(nums) == 0:\n",
    "#             return []\n",
    "\n",
    "#         nums.sort()\n",
    "#         ans = [[], [nums[0]]]\n",
    "#         last_len = 1\n",
    "#         for i, n in enumerate(nums[1:], 1):\n",
    "#             if n != nums[i-1]:\n",
    "#                 new_ele = [e + [n] for e in ans]\n",
    "#             else:\n",
    "#                 new_ele = [e + [n] for e in ans[last_len:]]\n",
    "#             last_len = len(ans)\n",
    "#             ans += new_ele\n",
    "#         return ans\n",
    "        \n",
    "        \n",
    "#         # Solution 1: bruteforce\n",
    "#         # 先把结果存在set里, 由于list是immutable, 所以转成str\n",
    "#         ans = set(['[]'])\n",
    "#         for n in nums:\n",
    "#             ans.update(set([str(sorted(eval(e) + [n])) for e in ans]))\n",
    "#         return [eval(e) for e in list(ans)]"
   ]
  },
  {
   "cell_type": "code",
   "execution_count": 18,
   "metadata": {},
   "outputs": [
    {
     "data": {
      "text/plain": [
       "[[], [1], [1, 4], [1, 4, 4], [1, 4, 4, 4], [4], [4, 4], [4, 4, 4]]"
      ]
     },
     "execution_count": 18,
     "metadata": {},
     "output_type": "execute_result"
    }
   ],
   "source": [
    "s = Solution()\n",
    "s.subsetsWithDup([4,1,4,4])"
   ]
  },
  {
   "cell_type": "code",
   "execution_count": null,
   "metadata": {},
   "outputs": [],
   "source": []
  }
 ],
 "metadata": {
  "kernelspec": {
   "display_name": "Python 3",
   "language": "python",
   "name": "python3"
  },
  "language_info": {
   "codemirror_mode": {
    "name": "ipython",
    "version": 3
   },
   "file_extension": ".py",
   "mimetype": "text/x-python",
   "name": "python",
   "nbconvert_exporter": "python",
   "pygments_lexer": "ipython3",
   "version": "3.7.5"
  }
 },
 "nbformat": 4,
 "nbformat_minor": 2
}
