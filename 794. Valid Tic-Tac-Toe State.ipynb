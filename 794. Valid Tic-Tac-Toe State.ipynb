{
 "cells": [
  {
   "cell_type": "markdown",
   "metadata": {},
   "source": [
    "- Medium\n",
    "- X数量一定和O相同, 或多一个\n",
    "- 原先想通过判断棋盘上有两个及以上win cases返回False, 但其实不够. e.g. ['XXX', 'O  ', 'OO '], 因为不管是X还是O赢, 数量差是确定的\n",
    "- Solution中的后两个if也确保了不可能同时出现两种win cases, 因为后面跟的两个数量判断至少有一个是False"
   ]
  },
  {
   "cell_type": "code",
   "execution_count": null,
   "metadata": {},
   "outputs": [],
   "source": [
    "class Solution:\n",
    "    def validTicTacToe(self, board: List[str]) -> bool:\n",
    "        def win(board, p):\n",
    "            for i in range(3):\n",
    "                if all(p == board[i][j] for j in range(3)): return True\n",
    "                if all(p == board[j][i] for j in range(3)): return True\n",
    "            return (p == board[0][0] == board[1][1] == board[2][2]) or (p == board[0][2] == board[1][1] == board[2][0])\n",
    "        \n",
    "        x_count = sum(row.count('X') for row in board)\n",
    "        o_count = sum(row.count('O') for row in board)\n",
    "        \n",
    "        if not (o_count <= x_count <= o_count + 1): return False\n",
    "        if win(board, 'X') and x_count != o_count + 1: return False\n",
    "        if win(board, 'O') and x_count != o_count: return False\n",
    "        \n",
    "        return True"
   ]
  }
 ],
 "metadata": {
  "kernelspec": {
   "display_name": "Python 3",
   "language": "python",
   "name": "python3"
  },
  "language_info": {
   "codemirror_mode": {
    "name": "ipython",
    "version": 3
   },
   "file_extension": ".py",
   "mimetype": "text/x-python",
   "name": "python",
   "nbconvert_exporter": "python",
   "pygments_lexer": "ipython3",
   "version": "3.7.5"
  }
 },
 "nbformat": 4,
 "nbformat_minor": 2
}
