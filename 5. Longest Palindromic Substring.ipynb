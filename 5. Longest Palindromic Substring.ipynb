{
 "cells": [
  {
   "cell_type": "markdown",
   "metadata": {},
   "source": [
    "- Medium\n",
    "- dp内有3种情况"
   ]
  },
  {
   "cell_type": "code",
   "execution_count": null,
   "metadata": {},
   "outputs": [],
   "source": [
    "class Solution:\n",
    "    def longestPalindrome(self, s: str) -> str:\n",
    "        if not s or len(s) == 0:\n",
    "            return ''\n",
    "        \n",
    "        n = len(s)\n",
    "        dp = [[0] * n for i in range(n)]\n",
    "        max_pal, l, r = 1, 0, 0\n",
    "        for j in range(n):\n",
    "            for i in range(j+1):\n",
    "                if i == j:\n",
    "                    dp[i][j] = 1\n",
    "                elif i+1 == j:\n",
    "                    dp[i][j] = 2 if s[i] == s[j] else 0\n",
    "                else:\n",
    "                    dp[i][j] = j-i+1 if s[i] == s[j] and dp[i+1][j-1] == j-i-1 else 0\n",
    "                if max_pal < dp[i][j]:\n",
    "                    max_pal, l, r = dp[i][j], i, j\n",
    "        return s[l:r+1]"
   ]
  }
 ],
 "metadata": {
  "kernelspec": {
   "display_name": "Python 3",
   "language": "python",
   "name": "python3"
  },
  "language_info": {
   "codemirror_mode": {
    "name": "ipython",
    "version": 3
   },
   "file_extension": ".py",
   "mimetype": "text/x-python",
   "name": "python",
   "nbconvert_exporter": "python",
   "pygments_lexer": "ipython3",
   "version": "3.5.2"
  }
 },
 "nbformat": 4,
 "nbformat_minor": 2
}
